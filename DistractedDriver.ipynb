{
  "nbformat": 4,
  "nbformat_minor": 0,
  "metadata": {
    "colab": {
      "name": "DistractedDriver.ipynb",
      "provenance": [],
      "mount_file_id": "https://github.com/Haoyanz/Project-in-AI/blob/master/DistractedDriver.ipynb",
      "authorship_tag": "ABX9TyMfaXt9WXkN0UfkFB9CSaWZ",
      "include_colab_link": true
    },
    "kernelspec": {
      "name": "python3",
      "display_name": "Python 3"
    },
    "accelerator": "GPU"
  },
  "cells": [
    {
      "cell_type": "markdown",
      "metadata": {
        "id": "view-in-github",
        "colab_type": "text"
      },
      "source": [
        "<a href=\"https://colab.research.google.com/github/Haoyanz/Project-in-AI/blob/master/DistractedDriver.ipynb\" target=\"_parent\"><img src=\"https://colab.research.google.com/assets/colab-badge.svg\" alt=\"Open In Colab\"/></a>"
      ]
    },
    {
      "cell_type": "code",
      "metadata": {
        "id": "dcImAu0HdBw2",
        "colab_type": "code",
        "colab": {
          "base_uri": "https://localhost:8080/",
          "height": 34
        },
        "outputId": "2948a5cb-cefe-413b-e461-4b9cd84ebe8b"
      },
      "source": [
        "import numpy as np\n",
        "import keras\n",
        "from keras import backend as K\n",
        "from keras.models import Sequential\n",
        "from keras.layers import Dense, Activation, Dropout, Flatten, Conv2D, MaxPooling2D\n",
        "from keras.optimizers import Adam\n",
        "from keras.metrics import categorical_crossentropy\n",
        "from keras.preprocessing.image import ImageDataGenerator\n",
        "from keras.layers.normalization import BatchNormalization\n",
        "from keras.layers.convolutional import *\n",
        "import matplotlib.pyplot as plt\n",
        "from sklearn.metrics import confusion_matrix\n",
        "import itertools\n",
        "from glob import glob\n",
        "import cv2\n",
        "\n",
        "%matplotlib inline"
      ],
      "execution_count": 1,
      "outputs": [
        {
          "output_type": "stream",
          "text": [
            "Using TensorFlow backend.\n"
          ],
          "name": "stderr"
        }
      ]
    },
    {
      "cell_type": "markdown",
      "metadata": {
        "id": "hxDe-z1TCmqg",
        "colab_type": "text"
      },
      "source": [
        "Load Dataset"
      ]
    },
    {
      "cell_type": "code",
      "metadata": {
        "id": "WF8IEt_ldRLd",
        "colab_type": "code",
        "colab": {}
      },
      "source": [
        "!unzip '/content/drive/My Drive/state-farm-distracted-driver-detection.zip'"
      ],
      "execution_count": 0,
      "outputs": []
    },
    {
      "cell_type": "code",
      "metadata": {
        "id": "fdQzPrAg6bt0",
        "colab_type": "code",
        "colab": {
          "base_uri": "https://localhost:8080/",
          "height": 51
        },
        "outputId": "922d414a-4759-4163-de88-cfa34303a073"
      },
      "source": [
        "train_datagen = ImageDataGenerator(rescale=1./255, validation_split=0.2)\n",
        "val_datagen = ImageDataGenerator(rescale=1./255, validation_split=0.2)\n",
        "\n",
        "train_generator = train_datagen.flow_from_directory(\n",
        "        '/content/imgs/train',\n",
        "        target_size=(224, 224),\n",
        "        batch_size=64,\n",
        "        class_mode='categorical', subset=\"training\", color_mode='rgb')\n",
        "\n",
        "val_generator = val_datagen.flow_from_directory(\n",
        "        '/content/imgs/train',\n",
        "        target_size=(224, 224),\n",
        "        batch_size=64,\n",
        "        class_mode='categorical', subset=\"validation\",  color_mode='rgb')"
      ],
      "execution_count": 2,
      "outputs": [
        {
          "output_type": "stream",
          "text": [
            "Found 17943 images belonging to 10 classes.\n",
            "Found 4481 images belonging to 10 classes.\n"
          ],
          "name": "stdout"
        }
      ]
    },
    {
      "cell_type": "markdown",
      "metadata": {
        "id": "MoN3nneFhzMy",
        "colab_type": "text"
      },
      "source": [
        "Pytorch Implementation of VGG16 Model"
      ]
    },
    {
      "cell_type": "code",
      "metadata": {
        "id": "icr5cfE1D4Dn",
        "colab_type": "code",
        "colab": {}
      },
      "source": [
        "VGG16 = [64,64,\"M\",128,128,\"M\",256,256,256,\"M\",512,512,512,\"M\",512,512,512,\"M\"]"
      ],
      "execution_count": 0,
      "outputs": []
    },
    {
      "cell_type": "code",
      "metadata": {
        "id": "izGTVo8zKzxT",
        "colab_type": "code",
        "colab": {}
      },
      "source": [
        "class VGG_net(nn.Module):\n",
        "    def __init__(self, in_channels=3, num_classes=10):\n",
        "        super(VGG_net, self).__init__()\n",
        "        self.in_channels = in_channels\n",
        "        self.conv_layers = self.create_conv_layers(VGG16)\n",
        "\n",
        "        self.fcs = nn.Sequential(\n",
        "            nn.Linear(512 * 7 * 7, 4096),\n",
        "            nn.ReLU(),\n",
        "            nn.Dropout(p=0.5),\n",
        "            nn.Linear(4096, 4096),\n",
        "            nn.ReLU(),\n",
        "            nn.Dropout(p=0.5),\n",
        "            nn.Linear(4096, num_classes),\n",
        "        )\n",
        "\n",
        "    def forward(self, x):\n",
        "        x = self.conv_layers(x)\n",
        "        x = x.reshape(x.shape[0], -1)\n",
        "        x = self.fcs(x)\n",
        "        return x\n",
        "\n",
        "    def create_conv_layers(self, architecture):\n",
        "        layers = []\n",
        "        in_channels = self.in_channels\n",
        "\n",
        "        for x in architecture:\n",
        "            if type(x) == int:\n",
        "                out_channels = x\n",
        "\n",
        "                layers += [\n",
        "                    nn.Conv2d(\n",
        "                        in_channels=in_channels,\n",
        "                        out_channels=out_channels,\n",
        "                        kernel_size=(3, 3),\n",
        "                        stride=(1, 1),\n",
        "                        padding=(1, 1),\n",
        "                    ),\n",
        "                    nn.BatchNorm2d(x),\n",
        "                    nn.ReLU(),\n",
        "                ]\n",
        "                in_channels = x\n",
        "            elif x == \"M\":\n",
        "                layers += [nn.MaxPool2d(kernel_size=(2, 2), stride=(2, 2))]\n",
        "\n",
        "        return nn.Sequential(*layers)"
      ],
      "execution_count": 0,
      "outputs": []
    },
    {
      "cell_type": "markdown",
      "metadata": {
        "id": "ar9Hs7PXohFG",
        "colab_type": "text"
      },
      "source": [
        "Fine-tune VGG16 Model"
      ]
    },
    {
      "cell_type": "code",
      "metadata": {
        "id": "XTkqFk1crEk2",
        "colab_type": "code",
        "colab": {
          "base_uri": "https://localhost:8080/",
          "height": 935
        },
        "outputId": "b62298a7-ba3b-4141-cf9b-1f2a3dc603a7"
      },
      "source": [
        "# take the fine-tune VGG16 Model\n",
        "vgg16_model = keras.applications.vgg16.VGG16()\n",
        "vgg16_model.summary()"
      ],
      "execution_count": 3,
      "outputs": [
        {
          "output_type": "stream",
          "text": [
            "Model: \"vgg16\"\n",
            "_________________________________________________________________\n",
            "Layer (type)                 Output Shape              Param #   \n",
            "=================================================================\n",
            "input_1 (InputLayer)         (None, 224, 224, 3)       0         \n",
            "_________________________________________________________________\n",
            "block1_conv1 (Conv2D)        (None, 224, 224, 64)      1792      \n",
            "_________________________________________________________________\n",
            "block1_conv2 (Conv2D)        (None, 224, 224, 64)      36928     \n",
            "_________________________________________________________________\n",
            "block1_pool (MaxPooling2D)   (None, 112, 112, 64)      0         \n",
            "_________________________________________________________________\n",
            "block2_conv1 (Conv2D)        (None, 112, 112, 128)     73856     \n",
            "_________________________________________________________________\n",
            "block2_conv2 (Conv2D)        (None, 112, 112, 128)     147584    \n",
            "_________________________________________________________________\n",
            "block2_pool (MaxPooling2D)   (None, 56, 56, 128)       0         \n",
            "_________________________________________________________________\n",
            "block3_conv1 (Conv2D)        (None, 56, 56, 256)       295168    \n",
            "_________________________________________________________________\n",
            "block3_conv2 (Conv2D)        (None, 56, 56, 256)       590080    \n",
            "_________________________________________________________________\n",
            "block3_conv3 (Conv2D)        (None, 56, 56, 256)       590080    \n",
            "_________________________________________________________________\n",
            "block3_pool (MaxPooling2D)   (None, 28, 28, 256)       0         \n",
            "_________________________________________________________________\n",
            "block4_conv1 (Conv2D)        (None, 28, 28, 512)       1180160   \n",
            "_________________________________________________________________\n",
            "block4_conv2 (Conv2D)        (None, 28, 28, 512)       2359808   \n",
            "_________________________________________________________________\n",
            "block4_conv3 (Conv2D)        (None, 28, 28, 512)       2359808   \n",
            "_________________________________________________________________\n",
            "block4_pool (MaxPooling2D)   (None, 14, 14, 512)       0         \n",
            "_________________________________________________________________\n",
            "block5_conv1 (Conv2D)        (None, 14, 14, 512)       2359808   \n",
            "_________________________________________________________________\n",
            "block5_conv2 (Conv2D)        (None, 14, 14, 512)       2359808   \n",
            "_________________________________________________________________\n",
            "block5_conv3 (Conv2D)        (None, 14, 14, 512)       2359808   \n",
            "_________________________________________________________________\n",
            "block5_pool (MaxPooling2D)   (None, 7, 7, 512)         0         \n",
            "_________________________________________________________________\n",
            "flatten (Flatten)            (None, 25088)             0         \n",
            "_________________________________________________________________\n",
            "fc1 (Dense)                  (None, 4096)              102764544 \n",
            "_________________________________________________________________\n",
            "fc2 (Dense)                  (None, 4096)              16781312  \n",
            "_________________________________________________________________\n",
            "predictions (Dense)          (None, 1000)              4097000   \n",
            "=================================================================\n",
            "Total params: 138,357,544\n",
            "Trainable params: 138,357,544\n",
            "Non-trainable params: 0\n",
            "_________________________________________________________________\n"
          ],
          "name": "stdout"
        }
      ]
    },
    {
      "cell_type": "code",
      "metadata": {
        "id": "JfBG41T77-YL",
        "colab_type": "code",
        "colab": {
          "base_uri": "https://localhost:8080/",
          "height": 901
        },
        "outputId": "201a4212-ed92-4f6b-8681-9149f2a70c82"
      },
      "source": [
        "# initialize our own sequential model\n",
        "model = Sequential()\n",
        "\n",
        "# copy every layer except the predictions layer\n",
        "for layer in vgg16_model.layers[:-1]:\n",
        "  model.add(layer)\n",
        "\n",
        "# make weights fixed since these layers are already fine-tuned\n",
        "for layer in model.layers:\n",
        "  layer.trainable = False\n",
        "\n",
        "# add our own layer\n",
        "model.add(Dense(10, activation='softmax'))\n",
        "\n",
        "model.summary()\n"
      ],
      "execution_count": 12,
      "outputs": [
        {
          "output_type": "stream",
          "text": [
            "Model: \"sequential_3\"\n",
            "_________________________________________________________________\n",
            "Layer (type)                 Output Shape              Param #   \n",
            "=================================================================\n",
            "block1_conv1 (Conv2D)        (None, 224, 224, 64)      1792      \n",
            "_________________________________________________________________\n",
            "block1_conv2 (Conv2D)        (None, 224, 224, 64)      36928     \n",
            "_________________________________________________________________\n",
            "block1_pool (MaxPooling2D)   (None, 112, 112, 64)      0         \n",
            "_________________________________________________________________\n",
            "block2_conv1 (Conv2D)        (None, 112, 112, 128)     73856     \n",
            "_________________________________________________________________\n",
            "block2_conv2 (Conv2D)        (None, 112, 112, 128)     147584    \n",
            "_________________________________________________________________\n",
            "block2_pool (MaxPooling2D)   (None, 56, 56, 128)       0         \n",
            "_________________________________________________________________\n",
            "block3_conv1 (Conv2D)        (None, 56, 56, 256)       295168    \n",
            "_________________________________________________________________\n",
            "block3_conv2 (Conv2D)        (None, 56, 56, 256)       590080    \n",
            "_________________________________________________________________\n",
            "block3_conv3 (Conv2D)        (None, 56, 56, 256)       590080    \n",
            "_________________________________________________________________\n",
            "block3_pool (MaxPooling2D)   (None, 28, 28, 256)       0         \n",
            "_________________________________________________________________\n",
            "block4_conv1 (Conv2D)        (None, 28, 28, 512)       1180160   \n",
            "_________________________________________________________________\n",
            "block4_conv2 (Conv2D)        (None, 28, 28, 512)       2359808   \n",
            "_________________________________________________________________\n",
            "block4_conv3 (Conv2D)        (None, 28, 28, 512)       2359808   \n",
            "_________________________________________________________________\n",
            "block4_pool (MaxPooling2D)   (None, 14, 14, 512)       0         \n",
            "_________________________________________________________________\n",
            "block5_conv1 (Conv2D)        (None, 14, 14, 512)       2359808   \n",
            "_________________________________________________________________\n",
            "block5_conv2 (Conv2D)        (None, 14, 14, 512)       2359808   \n",
            "_________________________________________________________________\n",
            "block5_conv3 (Conv2D)        (None, 14, 14, 512)       2359808   \n",
            "_________________________________________________________________\n",
            "block5_pool (MaxPooling2D)   (None, 7, 7, 512)         0         \n",
            "_________________________________________________________________\n",
            "flatten (Flatten)            (None, 25088)             0         \n",
            "_________________________________________________________________\n",
            "fc1 (Dense)                  (None, 4096)              102764544 \n",
            "_________________________________________________________________\n",
            "fc2 (Dense)                  (None, 4096)              16781312  \n",
            "_________________________________________________________________\n",
            "dense_1 (Dense)              (None, 10)                40970     \n",
            "=================================================================\n",
            "Total params: 134,301,514\n",
            "Trainable params: 40,970\n",
            "Non-trainable params: 134,260,544\n",
            "_________________________________________________________________\n"
          ],
          "name": "stdout"
        }
      ]
    },
    {
      "cell_type": "markdown",
      "metadata": {
        "id": "05F576TxCtVm",
        "colab_type": "text"
      },
      "source": [
        "Train the VGG16 Model"
      ]
    },
    {
      "cell_type": "code",
      "metadata": {
        "id": "9ywL9j3T8JM_",
        "colab_type": "code",
        "colab": {}
      },
      "source": [
        "model.compile(Adam(lr=0.0001), loss='categorical_crossentropy', metrics=['accuracy'])"
      ],
      "execution_count": 0,
      "outputs": []
    },
    {
      "cell_type": "code",
      "metadata": {
        "id": "hzunfmqVC3Fb",
        "colab_type": "code",
        "colab": {
          "base_uri": "https://localhost:8080/",
          "height": 357
        },
        "outputId": "1049423e-256d-46b8-a477-b409ec71e9d5"
      },
      "source": [
        "history = model.fit_generator(train_generator,\n",
        "                              steps_per_epoch = 17943//64,\n",
        "                              validation_data = val_generator,\n",
        "                              validation_steps = 4481//64,\n",
        "                              epochs = 10,\n",
        "                              verbose = 1)"
      ],
      "execution_count": 14,
      "outputs": [
        {
          "output_type": "stream",
          "text": [
            "Epoch 1/10\n",
            "280/280 [==============================] - 150s 535ms/step - loss: 2.2481 - accuracy: 0.1796 - val_loss: 2.2358 - val_accuracy: 0.3103\n",
            "Epoch 2/10\n",
            "280/280 [==============================] - 148s 527ms/step - loss: 2.0972 - accuracy: 0.3088 - val_loss: 2.0341 - val_accuracy: 0.3324\n",
            "Epoch 3/10\n",
            "280/280 [==============================] - 148s 528ms/step - loss: 1.9773 - accuracy: 0.3884 - val_loss: 1.9688 - val_accuracy: 0.4154\n",
            "Epoch 4/10\n",
            "280/280 [==============================] - 147s 527ms/step - loss: 1.8854 - accuracy: 0.4307 - val_loss: 1.7376 - val_accuracy: 0.4347\n",
            "Epoch 5/10\n",
            "280/280 [==============================] - 147s 525ms/step - loss: 1.8010 - accuracy: 0.4700 - val_loss: 1.7374 - val_accuracy: 0.4897\n",
            "Epoch 6/10\n",
            "280/280 [==============================] - 145s 519ms/step - loss: 1.7314 - accuracy: 0.5046 - val_loss: 1.6970 - val_accuracy: 0.5137\n",
            "Epoch 7/10\n",
            "280/280 [==============================] - 147s 526ms/step - loss: 1.6660 - accuracy: 0.5289 - val_loss: 1.6040 - val_accuracy: 0.5273\n",
            "Epoch 8/10\n",
            "280/280 [==============================] - 146s 521ms/step - loss: 1.6119 - accuracy: 0.5473 - val_loss: 1.5414 - val_accuracy: 0.5746\n",
            "Epoch 9/10\n",
            "280/280 [==============================] - 147s 525ms/step - loss: 1.5617 - accuracy: 0.5665 - val_loss: 1.6544 - val_accuracy: 0.5823\n",
            "Epoch 10/10\n",
            "280/280 [==============================] - 146s 522ms/step - loss: 1.5173 - accuracy: 0.5826 - val_loss: 1.3945 - val_accuracy: 0.5637\n"
          ],
          "name": "stdout"
        }
      ]
    },
    {
      "cell_type": "code",
      "metadata": {
        "id": "tbF2piE-DbY1",
        "colab_type": "code",
        "colab": {
          "base_uri": "https://localhost:8080/",
          "height": 545
        },
        "outputId": "3210f3b6-8c98-4ef9-b7a5-4270db06fc94"
      },
      "source": [
        "# Plot\n",
        "acc = history.history['accuracy']\n",
        "val_acc = history.history['val_accuracy']\n",
        "loss = history.history['loss']\n",
        "val_loss = history.history['val_loss']\n",
        "epochs = range(1, len(acc) + 1)\n",
        "plt.plot(epochs, acc, 'bo', label='Training acc')\n",
        "plt.plot(epochs, val_acc, 'b', label='Validation acc')\n",
        "plt.title('Training and validation accuracy')\n",
        "plt.legend()\n",
        "plt.figure()\n",
        "plt.plot(epochs, loss, 'bo', label='Training loss')\n",
        "plt.plot(epochs, val_loss, 'b', label='Validation loss')\n",
        "plt.title('Training and validation loss')\n",
        "plt.legend()\n",
        "plt.show()"
      ],
      "execution_count": 15,
      "outputs": [
        {
          "output_type": "display_data",
          "data": {
            "image/png": "[encoded data removed]",
            "text/plain": [
              "<Figure size 432x288 with 1 Axes>"
            ]
          },
          "metadata": {
            "tags": [],
            "needs_background": "light"
          }
        },
        {
          "output_type": "display_data",
          "data": {
            "image/png": "[encoded data removed]",
            "text/plain": [
              "<Figure size 432x288 with 1 Axes>"
            ]
          },
          "metadata": {
            "tags": [],
            "needs_background": "light"
          }
        }
      ]
    },
    {
      "cell_type": "code",
      "metadata": {
        "id": "fwjjfpV9KB7y",
        "colab_type": "code",
        "colab": {
          "base_uri": "https://localhost:8080/",
          "height": 935
        },
        "outputId": "bb441126-d64b-46d5-8dc9-ab2304273fe0"
      },
      "source": [
        "# initialize our own sequential model\n",
        "model_v2 = Sequential()\n",
        "\n",
        "# copy every layer except the predictions layer\n",
        "for layer in vgg16_model.layers[:-1]:\n",
        "  model_v2.add(layer)\n",
        "\n",
        "# make weights fixed since these layers are already fine-tuned\n",
        "for layer in model_v2.layers:\n",
        "  layer.trainable = False\n",
        "\n",
        "# add our own output layer\n",
        "model_v2.add(Dense(10))\n",
        "model_v2.add(Activation('softmax'))\n",
        "\n",
        "model_v2.summary()"
      ],
      "execution_count": 16,
      "outputs": [
        {
          "output_type": "stream",
          "text": [
            "Model: \"sequential_4\"\n",
            "_________________________________________________________________\n",
            "Layer (type)                 Output Shape              Param #   \n",
            "=================================================================\n",
            "block1_conv1 (Conv2D)        (None, 224, 224, 64)      1792      \n",
            "_________________________________________________________________\n",
            "block1_conv2 (Conv2D)        (None, 224, 224, 64)      36928     \n",
            "_________________________________________________________________\n",
            "block1_pool (MaxPooling2D)   (None, 112, 112, 64)      0         \n",
            "_________________________________________________________________\n",
            "block2_conv1 (Conv2D)        (None, 112, 112, 128)     73856     \n",
            "_________________________________________________________________\n",
            "block2_conv2 (Conv2D)        (None, 112, 112, 128)     147584    \n",
            "_________________________________________________________________\n",
            "block2_pool (MaxPooling2D)   (None, 56, 56, 128)       0         \n",
            "_________________________________________________________________\n",
            "block3_conv1 (Conv2D)        (None, 56, 56, 256)       295168    \n",
            "_________________________________________________________________\n",
            "block3_conv2 (Conv2D)        (None, 56, 56, 256)       590080    \n",
            "_________________________________________________________________\n",
            "block3_conv3 (Conv2D)        (None, 56, 56, 256)       590080    \n",
            "_________________________________________________________________\n",
            "block3_pool (MaxPooling2D)   (None, 28, 28, 256)       0         \n",
            "_________________________________________________________________\n",
            "block4_conv1 (Conv2D)        (None, 28, 28, 512)       1180160   \n",
            "_________________________________________________________________\n",
            "block4_conv2 (Conv2D)        (None, 28, 28, 512)       2359808   \n",
            "_________________________________________________________________\n",
            "block4_conv3 (Conv2D)        (None, 28, 28, 512)       2359808   \n",
            "_________________________________________________________________\n",
            "block4_pool (MaxPooling2D)   (None, 14, 14, 512)       0         \n",
            "_________________________________________________________________\n",
            "block5_conv1 (Conv2D)        (None, 14, 14, 512)       2359808   \n",
            "_________________________________________________________________\n",
            "block5_conv2 (Conv2D)        (None, 14, 14, 512)       2359808   \n",
            "_________________________________________________________________\n",
            "block5_conv3 (Conv2D)        (None, 14, 14, 512)       2359808   \n",
            "_________________________________________________________________\n",
            "block5_pool (MaxPooling2D)   (None, 7, 7, 512)         0         \n",
            "_________________________________________________________________\n",
            "flatten (Flatten)            (None, 25088)             0         \n",
            "_________________________________________________________________\n",
            "fc1 (Dense)                  (None, 4096)              102764544 \n",
            "_________________________________________________________________\n",
            "fc2 (Dense)                  (None, 4096)              16781312  \n",
            "_________________________________________________________________\n",
            "dense_2 (Dense)              (None, 10)                40970     \n",
            "_________________________________________________________________\n",
            "activation_1 (Activation)    (None, 10)                0         \n",
            "=================================================================\n",
            "Total params: 134,301,514\n",
            "Trainable params: 40,970\n",
            "Non-trainable params: 134,260,544\n",
            "_________________________________________________________________\n"
          ],
          "name": "stdout"
        }
      ]
    },
    {
      "cell_type": "code",
      "metadata": {
        "id": "KQLrm2XWKgt4",
        "colab_type": "code",
        "colab": {}
      },
      "source": [
        "model_v2.compile(Adam(lr=0.0001), loss='categorical_crossentropy', metrics=['accuracy'])"
      ],
      "execution_count": 0,
      "outputs": []
    },
    {
      "cell_type": "code",
      "metadata": {
        "id": "pjvVDyznKxZG",
        "colab_type": "code",
        "colab": {
          "base_uri": "https://localhost:8080/",
          "height": 697
        },
        "outputId": "be9960fb-d3cc-4cb1-cda2-acc4b4562b6a"
      },
      "source": [
        "history_v2 = model_v2.fit_generator(train_generator,\n",
        "                              steps_per_epoch = 17943//64,\n",
        "                              validation_data = val_generator,\n",
        "                              validation_steps = 4481//64,\n",
        "                              epochs = 20,\n",
        "                              verbose = 1)"
      ],
      "execution_count": 18,
      "outputs": [
        {
          "output_type": "stream",
          "text": [
            "Epoch 1/20\n",
            "280/280 [==============================] - 145s 517ms/step - loss: 2.2390 - accuracy: 0.1846 - val_loss: 2.1187 - val_accuracy: 0.2882\n",
            "Epoch 2/20\n",
            "280/280 [==============================] - 147s 526ms/step - loss: 2.0922 - accuracy: 0.3142 - val_loss: 2.0262 - val_accuracy: 0.3607\n",
            "Epoch 3/20\n",
            "280/280 [==============================] - 147s 526ms/step - loss: 1.9787 - accuracy: 0.3851 - val_loss: 1.9792 - val_accuracy: 0.4621\n",
            "Epoch 4/20\n",
            "280/280 [==============================] - 145s 519ms/step - loss: 1.8802 - accuracy: 0.4436 - val_loss: 1.8677 - val_accuracy: 0.4677\n",
            "Epoch 5/20\n",
            "280/280 [==============================] - 145s 519ms/step - loss: 1.8007 - accuracy: 0.4751 - val_loss: 1.7309 - val_accuracy: 0.5114\n",
            "Epoch 6/20\n",
            "280/280 [==============================] - 146s 522ms/step - loss: 1.7300 - accuracy: 0.5032 - val_loss: 1.7183 - val_accuracy: 0.5164\n",
            "Epoch 7/20\n",
            "280/280 [==============================] - 146s 521ms/step - loss: 1.6650 - accuracy: 0.5321 - val_loss: 1.6864 - val_accuracy: 0.5431\n",
            "Epoch 8/20\n",
            "280/280 [==============================] - 146s 520ms/step - loss: 1.6105 - accuracy: 0.5501 - val_loss: 1.5770 - val_accuracy: 0.5209\n",
            "Epoch 9/20\n",
            "280/280 [==============================] - 145s 519ms/step - loss: 1.5607 - accuracy: 0.5716 - val_loss: 1.4648 - val_accuracy: 0.5721\n",
            "Epoch 10/20\n",
            "280/280 [==============================] - 145s 519ms/step - loss: 1.5116 - accuracy: 0.5870 - val_loss: 1.3356 - val_accuracy: 0.6077\n",
            "Epoch 11/20\n",
            "280/280 [==============================] - 146s 520ms/step - loss: 1.4706 - accuracy: 0.6017 - val_loss: 1.3560 - val_accuracy: 0.5780\n",
            "Epoch 12/20\n",
            "280/280 [==============================] - 145s 519ms/step - loss: 1.4297 - accuracy: 0.6169 - val_loss: 1.4893 - val_accuracy: 0.6260\n",
            "Epoch 13/20\n",
            "280/280 [==============================] - 145s 519ms/step - loss: 1.3928 - accuracy: 0.6270 - val_loss: 1.4018 - val_accuracy: 0.6448\n",
            "Epoch 14/20\n",
            "280/280 [==============================] - 145s 518ms/step - loss: 1.3596 - accuracy: 0.6376 - val_loss: 1.3690 - val_accuracy: 0.6344\n",
            "Epoch 15/20\n",
            "280/280 [==============================] - 145s 518ms/step - loss: 1.3290 - accuracy: 0.6491 - val_loss: 1.2689 - val_accuracy: 0.6627\n",
            "Epoch 16/20\n",
            "280/280 [==============================] - 145s 517ms/step - loss: 1.2946 - accuracy: 0.6619 - val_loss: 1.3784 - val_accuracy: 0.6624\n",
            "Epoch 17/20\n",
            "280/280 [==============================] - 145s 516ms/step - loss: 1.2669 - accuracy: 0.6693 - val_loss: 1.2361 - val_accuracy: 0.6749\n",
            "Epoch 18/20\n",
            "280/280 [==============================] - 144s 515ms/step - loss: 1.2423 - accuracy: 0.6746 - val_loss: 1.2326 - val_accuracy: 0.6926\n",
            "Epoch 19/20\n",
            "280/280 [==============================] - 145s 517ms/step - loss: 1.2139 - accuracy: 0.6885 - val_loss: 1.1222 - val_accuracy: 0.6953\n",
            "Epoch 20/20\n",
            "280/280 [==============================] - 144s 515ms/step - loss: 1.1910 - accuracy: 0.6965 - val_loss: 1.2278 - val_accuracy: 0.6928\n"
          ],
          "name": "stdout"
        }
      ]
    },
    {
      "cell_type": "code",
      "metadata": {
        "id": "b_UKkhNJK54l",
        "colab_type": "code",
        "colab": {
          "base_uri": "https://localhost:8080/",
          "height": 697
        },
        "outputId": "09ca6f4e-d93d-4b09-f3b0-403262da754e"
      },
      "source": [
        "history_v2_2 = model_v2.fit_generator(train_generator,\n",
        "                              steps_per_epoch = 17943//64,\n",
        "                              validation_data = val_generator,\n",
        "                              validation_steps = 4481//64,\n",
        "                              epochs = 20,\n",
        "                              verbose = 1)"
      ],
      "execution_count": 19,
      "outputs": [
        {
          "output_type": "stream",
          "text": [
            "Epoch 1/20\n",
            "280/280 [==============================] - 145s 516ms/step - loss: 1.1644 - accuracy: 0.7068 - val_loss: 1.0866 - val_accuracy: 0.7092\n",
            "Epoch 2/20\n",
            "280/280 [==============================] - 146s 521ms/step - loss: 1.1445 - accuracy: 0.7122 - val_loss: 1.1861 - val_accuracy: 0.7161\n",
            "Epoch 3/20\n",
            "280/280 [==============================] - 146s 521ms/step - loss: 1.1227 - accuracy: 0.7179 - val_loss: 0.9942 - val_accuracy: 0.7240\n",
            "Epoch 4/20\n",
            "280/280 [==============================] - 146s 522ms/step - loss: 1.1032 - accuracy: 0.7276 - val_loss: 1.0267 - val_accuracy: 0.7304\n",
            "Epoch 5/20\n",
            "280/280 [==============================] - 146s 522ms/step - loss: 1.0824 - accuracy: 0.7326 - val_loss: 1.0293 - val_accuracy: 0.7408\n",
            "Epoch 6/20\n",
            "280/280 [==============================] - 145s 518ms/step - loss: 1.0654 - accuracy: 0.7359 - val_loss: 0.8548 - val_accuracy: 0.7403\n",
            "Epoch 7/20\n",
            "280/280 [==============================] - 145s 518ms/step - loss: 1.0448 - accuracy: 0.7438 - val_loss: 1.0166 - val_accuracy: 0.7383\n",
            "Epoch 8/20\n",
            "280/280 [==============================] - 145s 519ms/step - loss: 1.0287 - accuracy: 0.7488 - val_loss: 0.9613 - val_accuracy: 0.7467\n",
            "Epoch 9/20\n",
            "280/280 [==============================] - 145s 518ms/step - loss: 1.0103 - accuracy: 0.7564 - val_loss: 0.9874 - val_accuracy: 0.7666\n",
            "Epoch 10/20\n",
            "280/280 [==============================] - 145s 519ms/step - loss: 0.9934 - accuracy: 0.7601 - val_loss: 1.0492 - val_accuracy: 0.7553\n",
            "Epoch 11/20\n",
            "280/280 [==============================] - 145s 518ms/step - loss: 0.9764 - accuracy: 0.7677 - val_loss: 0.9733 - val_accuracy: 0.7593\n",
            "Epoch 12/20\n",
            "280/280 [==============================] - 145s 519ms/step - loss: 0.9650 - accuracy: 0.7678 - val_loss: 1.0201 - val_accuracy: 0.7591\n",
            "Epoch 13/20\n",
            "280/280 [==============================] - 144s 515ms/step - loss: 0.9489 - accuracy: 0.7760 - val_loss: 0.8870 - val_accuracy: 0.7763\n",
            "Epoch 14/20\n",
            "280/280 [==============================] - 144s 515ms/step - loss: 0.9359 - accuracy: 0.7803 - val_loss: 0.9401 - val_accuracy: 0.7786\n",
            "Epoch 15/20\n",
            "280/280 [==============================] - 143s 512ms/step - loss: 0.9193 - accuracy: 0.7817 - val_loss: 1.0628 - val_accuracy: 0.7851\n",
            "Epoch 16/20\n",
            "280/280 [==============================] - 143s 512ms/step - loss: 0.9083 - accuracy: 0.7863 - val_loss: 1.0485 - val_accuracy: 0.7799\n",
            "Epoch 17/20\n",
            "280/280 [==============================] - 143s 512ms/step - loss: 0.8936 - accuracy: 0.7916 - val_loss: 0.9852 - val_accuracy: 0.7870\n",
            "Epoch 18/20\n",
            "280/280 [==============================] - 144s 513ms/step - loss: 0.8809 - accuracy: 0.7957 - val_loss: 0.7376 - val_accuracy: 0.7960\n",
            "Epoch 19/20\n",
            "280/280 [==============================] - 144s 514ms/step - loss: 0.8669 - accuracy: 0.7986 - val_loss: 0.7320 - val_accuracy: 0.7901\n",
            "Epoch 20/20\n",
            "280/280 [==============================] - 144s 514ms/step - loss: 0.8585 - accuracy: 0.8003 - val_loss: 0.8051 - val_accuracy: 0.8024\n"
          ],
          "name": "stdout"
        }
      ]
    },
    {
      "cell_type": "code",
      "metadata": {
        "id": "nN7bDKzcW9Jw",
        "colab_type": "code",
        "colab": {}
      },
      "source": [
        ""
      ],
      "execution_count": 0,
      "outputs": []
    }
  ]
}