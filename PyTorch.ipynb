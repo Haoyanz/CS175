{
  "nbformat": 4,
  "nbformat_minor": 0,
  "metadata": {
    "kernelspec": {
      "display_name": "Python 3",
      "language": "python",
      "name": "python3"
    },
    "language_info": {
      "codemirror_mode": {
        "name": "ipython",
        "version": 3
      },
      "file_extension": ".py",
      "mimetype": "text/x-python",
      "name": "python",
      "nbconvert_exporter": "python",
      "pygments_lexer": "ipython3",
      "version": "3.6.3"
    },
    "colab": {
      "name": "PyTorch.ipynb",
      "provenance": []
    },
    "accelerator": "GPU",
    "widgets": {
      "application/vnd.jupyter.widget-state+json": {
        "9a8df66cb09d4857bcdc21e7c3ecf191": {
          "model_module": "@jupyter-widgets/controls",
          "model_name": "HBoxModel",
          "state": {
            "_view_name": "HBoxView",
            "_dom_classes": [],
            "_model_name": "HBoxModel",
            "_view_module": "@jupyter-widgets/controls",
            "_model_module_version": "1.5.0",
            "_view_count": null,
            "_view_module_version": "1.5.0",
            "box_style": "",
            "layout": "IPY_MODEL_2883df7b08bd4708a5d46e059865ce63",
            "_model_module": "@jupyter-widgets/controls",
            "children": [
              "IPY_MODEL_cca039e6b68e4d37b047ca8756452c49",
              "IPY_MODEL_8394022005614c75ba3536c851785a94"
            ]
          }
        },
        "2883df7b08bd4708a5d46e059865ce63": {
          "model_module": "@jupyter-widgets/base",
          "model_name": "LayoutModel",
          "state": {
            "_view_name": "LayoutView",
            "grid_template_rows": null,
            "right": null,
            "justify_content": null,
            "_view_module": "@jupyter-widgets/base",
            "overflow": null,
            "_model_module_version": "1.2.0",
            "_view_count": null,
            "flex_flow": null,
            "width": null,
            "min_width": null,
            "border": null,
            "align_items": null,
            "bottom": null,
            "_model_module": "@jupyter-widgets/base",
            "top": null,
            "grid_column": null,
            "overflow_y": null,
            "overflow_x": null,
            "grid_auto_flow": null,
            "grid_area": null,
            "grid_template_columns": null,
            "flex": null,
            "_model_name": "LayoutModel",
            "justify_items": null,
            "grid_row": null,
            "max_height": null,
            "align_content": null,
            "visibility": null,
            "align_self": null,
            "height": null,
            "min_height": null,
            "padding": null,
            "grid_auto_rows": null,
            "grid_gap": null,
            "max_width": null,
            "order": null,
            "_view_module_version": "1.2.0",
            "grid_template_areas": null,
            "object_position": null,
            "object_fit": null,
            "grid_auto_columns": null,
            "margin": null,
            "display": null,
            "left": null
          }
        },
        "cca039e6b68e4d37b047ca8756452c49": {
          "model_module": "@jupyter-widgets/controls",
          "model_name": "FloatProgressModel",
          "state": {
            "_view_name": "ProgressView",
            "style": "IPY_MODEL_1d27dca005c14828a903b3c518549ac5",
            "_dom_classes": [],
            "description": "",
            "_model_name": "FloatProgressModel",
            "bar_style": "info",
            "max": 1,
            "_view_module": "@jupyter-widgets/controls",
            "_model_module_version": "1.5.0",
            "value": 1,
            "_view_count": null,
            "_view_module_version": "1.5.0",
            "orientation": "horizontal",
            "min": 0,
            "description_tooltip": null,
            "_model_module": "@jupyter-widgets/controls",
            "layout": "IPY_MODEL_3fcf65f667ff4ad98dc9168c4b398fe0"
          }
        },
        "8394022005614c75ba3536c851785a94": {
          "model_module": "@jupyter-widgets/controls",
          "model_name": "HTMLModel",
          "state": {
            "_view_name": "HTMLView",
            "style": "IPY_MODEL_42ebdec21a3e42949cd66930eaa31919",
            "_dom_classes": [],
            "description": "",
            "_model_name": "HTMLModel",
            "placeholder": "​",
            "_view_module": "@jupyter-widgets/controls",
            "_model_module_version": "1.5.0",
            "value": " 170500096/? [00:20&lt;00:00, 33209852.44it/s]",
            "_view_count": null,
            "_view_module_version": "1.5.0",
            "description_tooltip": null,
            "_model_module": "@jupyter-widgets/controls",
            "layout": "IPY_MODEL_aebdba89b5b8407ba3fb40bde931e3cd"
          }
        },
        "1d27dca005c14828a903b3c518549ac5": {
          "model_module": "@jupyter-widgets/controls",
          "model_name": "ProgressStyleModel",
          "state": {
            "_view_name": "StyleView",
            "_model_name": "ProgressStyleModel",
            "description_width": "initial",
            "_view_module": "@jupyter-widgets/base",
            "_model_module_version": "1.5.0",
            "_view_count": null,
            "_view_module_version": "1.2.0",
            "bar_color": null,
            "_model_module": "@jupyter-widgets/controls"
          }
        },
        "3fcf65f667ff4ad98dc9168c4b398fe0": {
          "model_module": "@jupyter-widgets/base",
          "model_name": "LayoutModel",
          "state": {
            "_view_name": "LayoutView",
            "grid_template_rows": null,
            "right": null,
            "justify_content": null,
            "_view_module": "@jupyter-widgets/base",
            "overflow": null,
            "_model_module_version": "1.2.0",
            "_view_count": null,
            "flex_flow": null,
            "width": null,
            "min_width": null,
            "border": null,
            "align_items": null,
            "bottom": null,
            "_model_module": "@jupyter-widgets/base",
            "top": null,
            "grid_column": null,
            "overflow_y": null,
            "overflow_x": null,
            "grid_auto_flow": null,
            "grid_area": null,
            "grid_template_columns": null,
            "flex": null,
            "_model_name": "LayoutModel",
            "justify_items": null,
            "grid_row": null,
            "max_height": null,
            "align_content": null,
            "visibility": null,
            "align_self": null,
            "height": null,
            "min_height": null,
            "padding": null,
            "grid_auto_rows": null,
            "grid_gap": null,
            "max_width": null,
            "order": null,
            "_view_module_version": "1.2.0",
            "grid_template_areas": null,
            "object_position": null,
            "object_fit": null,
            "grid_auto_columns": null,
            "margin": null,
            "display": null,
            "left": null
          }
        },
        "42ebdec21a3e42949cd66930eaa31919": {
          "model_module": "@jupyter-widgets/controls",
          "model_name": "DescriptionStyleModel",
          "state": {
            "_view_name": "StyleView",
            "_model_name": "DescriptionStyleModel",
            "description_width": "",
            "_view_module": "@jupyter-widgets/base",
            "_model_module_version": "1.5.0",
            "_view_count": null,
            "_view_module_version": "1.2.0",
            "_model_module": "@jupyter-widgets/controls"
          }
        },
        "aebdba89b5b8407ba3fb40bde931e3cd": {
          "model_module": "@jupyter-widgets/base",
          "model_name": "LayoutModel",
          "state": {
            "_view_name": "LayoutView",
            "grid_template_rows": null,
            "right": null,
            "justify_content": null,
            "_view_module": "@jupyter-widgets/base",
            "overflow": null,
            "_model_module_version": "1.2.0",
            "_view_count": null,
            "flex_flow": null,
            "width": null,
            "min_width": null,
            "border": null,
            "align_items": null,
            "bottom": null,
            "_model_module": "@jupyter-widgets/base",
            "top": null,
            "grid_column": null,
            "overflow_y": null,
            "overflow_x": null,
            "grid_auto_flow": null,
            "grid_area": null,
            "grid_template_columns": null,
            "flex": null,
            "_model_name": "LayoutModel",
            "justify_items": null,
            "grid_row": null,
            "max_height": null,
            "align_content": null,
            "visibility": null,
            "align_self": null,
            "height": null,
            "min_height": null,
            "padding": null,
            "grid_auto_rows": null,
            "grid_gap": null,
            "max_width": null,
            "order": null,
            "_view_module_version": "1.2.0",
            "grid_template_areas": null,
            "object_position": null,
            "object_fit": null,
            "grid_auto_columns": null,
            "margin": null,
            "display": null,
            "left": null
          }
        }
      }
    }
  },
  "cells": [
    {
      "cell_type": "markdown",
      "metadata": {
        "id": "t_RdAWlKOgj_",
        "colab_type": "text"
      },
      "source": [
        "# Training a ConvNet PyTorch\n",
        "\n",
        "In this notebook, you'll learn how to use the powerful PyTorch framework to specify a conv net architecture and train it on the CIFAR-10 dataset."
      ]
    },
    {
      "cell_type": "code",
      "metadata": {
        "id": "tqXJU4bMOgkB",
        "colab_type": "code",
        "colab": {}
      },
      "source": [
        "import torch\n",
        "import torch.nn as nn\n",
        "import torch.optim as optim\n",
        "from torch.autograd import Variable\n",
        "from torch.utils.data import DataLoader\n",
        "from torch.utils.data import sampler\n",
        "\n",
        "import torchvision.datasets as dset\n",
        "import torchvision.transforms as T\n",
        "\n",
        "import numpy as np\n",
        "\n",
        "import timeit"
      ],
      "execution_count": 0,
      "outputs": []
    },
    {
      "cell_type": "markdown",
      "metadata": {
        "id": "jFNOmX5sOgkF",
        "colab_type": "text"
      },
      "source": [
        "## What's this PyTorch business?\n",
        "\n",
        "You've written a lot of code in this assignment to provide a whole host of neural network functionality. Dropout, Batch Norm, and 2D convolutions are some of the workhorses of deep learning in computer vision. You've also worked hard to make your code efficient and vectorized.\n",
        "\n",
        "For the last part of this assignment, though, we're going to leave behind your beautiful codebase and instead migrate to one of two popular deep learning frameworks: in this instance, PyTorch (or TensorFlow, if you switch over to that notebook). \n",
        "\n",
        "Why?\n",
        "\n",
        "* Our code will now run on GPUs! Much faster training. When using a framework like PyTorch or TensorFlow you can harness the power of the GPU for your own custom neural network architectures without having to write CUDA code directly (which is beyond the scope of this class).\n",
        "* We want you to be ready to use one of these frameworks for your project so you can experiment more efficiently than if you were writing every feature you want to use by hand. \n",
        "* We want you to stand on the shoulders of giants! TensorFlow and PyTorch are both excellent frameworks that will make your lives a lot easier, and now that you understand their guts, you are free to use them :) \n",
        "* We want you to be exposed to the sort of deep learning code you might run into in academia or industry. "
      ]
    },
    {
      "cell_type": "markdown",
      "metadata": {
        "id": "_XUtqN7_OgkG",
        "colab_type": "text"
      },
      "source": [
        "## How will I learn PyTorch?\n",
        "\n",
        "If you've used Torch before, but are new to PyTorch, this tutorial might be of use: http://pytorch.org/tutorials/beginner/former_torchies_tutorial.html\n",
        "\n",
        "Otherwise, this notebook will walk you through much of what you need to do to train models in Torch. See the end of the notebook for some links to helpful tutorials if you want to learn more or need further clarification on topics that aren't fully explained here."
      ]
    },
    {
      "cell_type": "markdown",
      "metadata": {
        "id": "MICBKcs7OgkH",
        "colab_type": "text"
      },
      "source": [
        "## Load Datasets\n",
        "\n",
        "We load the CIFAR-10 dataset. This might take a couple minutes the first time you do it, but the files should stay cached after that."
      ]
    },
    {
      "cell_type": "code",
      "metadata": {
        "id": "h1uFu0zbOgkH",
        "colab_type": "code",
        "colab": {
          "base_uri": "https://localhost:8080/",
          "height": 117,
          "referenced_widgets": [
            "9a8df66cb09d4857bcdc21e7c3ecf191",
            "2883df7b08bd4708a5d46e059865ce63",
            "cca039e6b68e4d37b047ca8756452c49",
            "8394022005614c75ba3536c851785a94",
            "1d27dca005c14828a903b3c518549ac5",
            "3fcf65f667ff4ad98dc9168c4b398fe0",
            "42ebdec21a3e42949cd66930eaa31919",
            "aebdba89b5b8407ba3fb40bde931e3cd"
          ]
        },
        "outputId": "52c93903-b51e-460f-e01b-554544669fd6"
      },
      "source": [
        "class ChunkSampler(sampler.Sampler):\n",
        "    \"\"\"Samples elements sequentially from some offset. \n",
        "    Arguments:\n",
        "        num_samples: # of desired datapoints\n",
        "        start: offset where we should start selecting from\n",
        "    \"\"\"\n",
        "    def __init__(self, num_samples, start = 0):\n",
        "        self.num_samples = num_samples\n",
        "        self.start = start\n",
        "\n",
        "    def __iter__(self):\n",
        "        return iter(range(self.start, self.start + self.num_samples))\n",
        "\n",
        "    def __len__(self):\n",
        "        return self.num_samples\n",
        "\n",
        "NUM_TRAIN = 49000\n",
        "NUM_VAL = 1000\n",
        "\n",
        "cifar10_train = dset.CIFAR10('./cs175/datasets', train=True, download=True,\n",
        "                           transform=T.ToTensor())\n",
        "loader_train = DataLoader(cifar10_train, batch_size=64, sampler=ChunkSampler(NUM_TRAIN, 0))\n",
        "\n",
        "cifar10_val = dset.CIFAR10('./cs175/datasets', train=True, download=True,\n",
        "                           transform=T.ToTensor())\n",
        "loader_val = DataLoader(cifar10_val, batch_size=64, sampler=ChunkSampler(NUM_VAL, NUM_TRAIN))\n",
        "\n",
        "cifar10_test = dset.CIFAR10('./cs175/datasets', train=False, download=True,\n",
        "                          transform=T.ToTensor())\n",
        "loader_test = DataLoader(cifar10_test, batch_size=64)\n"
      ],
      "execution_count": 2,
      "outputs": [
        {
          "output_type": "stream",
          "text": [
            "Downloading https://www.cs.toronto.edu/~kriz/cifar-10-python.tar.gz to ./cs175/datasets/cifar-10-python.tar.gz\n"
          ],
          "name": "stdout"
        },
        {
          "output_type": "display_data",
          "data": {
            "application/vnd.jupyter.widget-view+json": {
              "model_id": "9a8df66cb09d4857bcdc21e7c3ecf191",
              "version_minor": 0,
              "version_major": 2
            },
            "text/plain": [
              "HBox(children=(FloatProgress(value=1.0, bar_style='info', max=1.0), HTML(value='')))"
            ]
          },
          "metadata": {
            "tags": []
          }
        },
        {
          "output_type": "stream",
          "text": [
            "Extracting ./cs175/datasets/cifar-10-python.tar.gz to ./cs175/datasets\n",
            "Files already downloaded and verified\n",
            "Files already downloaded and verified\n"
          ],
          "name": "stdout"
        }
      ]
    },
    {
      "cell_type": "markdown",
      "metadata": {
        "id": "xCz06L5sOgkL",
        "colab_type": "text"
      },
      "source": [
        "For now, we're going to use a CPU-friendly datatype. Later, we'll switch to a datatype that will move all our computations to the GPU and measure the speedup."
      ]
    },
    {
      "cell_type": "code",
      "metadata": {
        "id": "kEMBS7jzOgkL",
        "colab_type": "code",
        "colab": {}
      },
      "source": [
        "dtype = torch.FloatTensor # the CPU datatype\n",
        "\n",
        "# Constant to control how frequently we print train loss\n",
        "print_every = 100\n",
        "\n",
        "# This is a little utility that we'll use to reset the model\n",
        "# if we want to re-initialize all our parameters\n",
        "def reset(m):\n",
        "    if hasattr(m, 'reset_parameters'):\n",
        "        m.reset_parameters()"
      ],
      "execution_count": 0,
      "outputs": []
    },
    {
      "cell_type": "markdown",
      "metadata": {
        "id": "wlM8YtlrOgkO",
        "colab_type": "text"
      },
      "source": [
        "## Example Model\n",
        "\n",
        "### Some assorted tidbits\n",
        "\n",
        "Let's start by looking at a simple model. First, note that PyTorch operates on Tensors, which are n-dimensional arrays functionally analogous to numpy's ndarrays, with the additional feature that they can be used for computations on GPUs.\n",
        "\n",
        "We'll provide you with a Flatten function, which we explain here. Remember that our image data (and more relevantly, our intermediate feature maps) are initially N x C x H x W, where:\n",
        "* N is the number of datapoints\n",
        "* C is the number of channels\n",
        "* H is the height of the intermediate feature map in pixels\n",
        "* W is the height of the intermediate feature map in pixels\n",
        "\n",
        "This is the right way to represent the data when we are doing something like a 2D convolution, that needs spatial understanding of where the intermediate features are relative to each other. When we input  data into fully connected affine layers, however, we want each datapoint to be represented by a single vector -- it's no longer useful to segregate the different channels, rows, and columns of the data. So, we use a \"Flatten\" operation to collapse the C x H x W values per representation into a single long vector. The Flatten function below first reads in the N, C, H, and W values from a given batch of data, and then returns a \"view\" of that data. \"View\" is analogous to numpy's \"reshape\" method: it reshapes x's dimensions to be N x ??, where ?? is allowed to be anything (in this case, it will be C x H x W, but we don't need to specify that explicitly). "
      ]
    },
    {
      "cell_type": "code",
      "metadata": {
        "id": "TEGAfb7vOgkP",
        "colab_type": "code",
        "colab": {}
      },
      "source": [
        "class Flatten(nn.Module):\n",
        "    def forward(self, x):\n",
        "        N, C, H, W = x.size() # read in N, C, H, W\n",
        "        return x.view(N, -1)  # \"flatten\" the C * H * W values into a single vector per image"
      ],
      "execution_count": 0,
      "outputs": []
    },
    {
      "cell_type": "markdown",
      "metadata": {
        "id": "FbilbbQNOgkS",
        "colab_type": "text"
      },
      "source": [
        "### The example model itself\n",
        "\n",
        "The first step to training your own model is defining its architecture.\n",
        "\n",
        "Here's an example of a convolutional neural network defined in PyTorch -- try to understand what each line is doing, remembering that each layer is composed upon the previous layer. We haven't trained anything yet - that'll come next - for now, we want you to understand how everything gets set up.  nn.Sequential is a container which applies each layer\n",
        "one after the other.\n",
        "\n",
        "In that example, you see 2D convolutional layers (Conv2d), ReLU activations, and fully-connected layers (Linear). You also see the Cross-Entropy loss function, and the Adam optimizer being used. \n",
        "\n",
        "Make sure you understand why the parameters of the Linear layer are 5408 and 10.\n"
      ]
    },
    {
      "cell_type": "code",
      "metadata": {
        "id": "LdokY058OgkS",
        "colab_type": "code",
        "colab": {}
      },
      "source": [
        "# Here's where we define the architecture of the model... \n",
        "simple_model = nn.Sequential(\n",
        "                nn.Conv2d(3, 32, kernel_size=7, stride=2),\n",
        "                nn.ReLU(inplace=True),\n",
        "                Flatten(), # see above for explanation\n",
        "                nn.Linear(5408, 10), # affine layer\n",
        "              )\n",
        "\n",
        "# Set the type of all data in this model to be FloatTensor \n",
        "simple_model.type(dtype)\n",
        "\n",
        "loss_fn = nn.CrossEntropyLoss().type(dtype)\n",
        "optimizer = optim.Adam(simple_model.parameters(), lr=1e-2) # lr sets the learning rate of the optimizer"
      ],
      "execution_count": 0,
      "outputs": []
    },
    {
      "cell_type": "markdown",
      "metadata": {
        "id": "ZavstHXpOgkV",
        "colab_type": "text"
      },
      "source": [
        "PyTorch supports many other layer types, loss functions, and optimizers - you will experiment with these next. Here's the official API documentation for these (if any of the parameters used above were unclear, this resource will also be helpful). One note: what we call in the class \"spatial batch norm\" is called \"BatchNorm2D\" in PyTorch.\n",
        "\n",
        "* Layers: http://pytorch.org/docs/nn.html\n",
        "* Activations: http://pytorch.org/docs/nn.html#non-linear-activations\n",
        "* Loss functions: http://pytorch.org/docs/nn.html#loss-functions\n",
        "* Optimizers: http://pytorch.org/docs/optim.html#algorithms"
      ]
    },
    {
      "cell_type": "markdown",
      "metadata": {
        "id": "yK8KZYPFOgkW",
        "colab_type": "text"
      },
      "source": [
        "## Training a specific model\n",
        "\n",
        "In this section, we're going to specify a model for you to construct. The goal here isn't to get good performance (that'll be next), but instead to get comfortable with understanding the PyTorch documentation and configuring your own model. \n",
        "\n",
        "Using the code provided above as guidance, and using the following PyTorch documentation, specify a model with the following architecture:\n",
        "\n",
        "* 7x7 Convolutional Layer with 32 filters and stride of 1\n",
        "* ReLU Activation Layer\n",
        "* Spatial Batch Normalization Layer\n",
        "* 2x2 Max Pooling layer with a stride of 2\n",
        "* Affine layer with 1024 output units\n",
        "* ReLU Activation Layer\n",
        "* Affine layer from 1024 input units to 10 outputs\n",
        "\n",
        "And finally, set up a **cross-entropy** loss function and the **RMSprop** learning rule."
      ]
    },
    {
      "cell_type": "code",
      "metadata": {
        "id": "pAA4lMk2OgkW",
        "colab_type": "code",
        "colab": {}
      },
      "source": [
        "fixed_model_base = nn.Sequential( # You fill this in!\n",
        "                                  nn.Conv2d(3, 32, kernel_size=7, stride=1),\n",
        "                                  nn.ReLU(inplace=True),\n",
        "                                  nn.BatchNorm2d(32),\n",
        "                                  nn.MaxPool2d(kernel_size=2, stride=2),\n",
        "                                  Flatten(),\n",
        "                                  nn.Linear(5408, 1024),\n",
        "                                  nn.ReLU(inplace=True),\n",
        "                                  nn.Linear(1024, 10)\n",
        "            )\n",
        "\n",
        "fixed_model = fixed_model_base.type(dtype)\n",
        "\n",
        "loss_fn = nn.CrossEntropyLoss().type(dtype)\n",
        "optimizer = optim.RMSprop(fixed_model_base.parameters(), lr=1e-2) "
      ],
      "execution_count": 0,
      "outputs": []
    },
    {
      "cell_type": "markdown",
      "metadata": {
        "id": "XZ9fTJmoOgkY",
        "colab_type": "text"
      },
      "source": [
        "To make sure you're doing the right thing, use the following tool to check the dimensionality of your output (it should be 64 x 10, since our batches have size 64 and the output of the final affine layer should be 10, corresponding to our 10 classes):"
      ]
    },
    {
      "cell_type": "code",
      "metadata": {
        "id": "la32YvmwOgka",
        "colab_type": "code",
        "colab": {
          "base_uri": "https://localhost:8080/",
          "height": 34
        },
        "outputId": "1de9ffbb-54f5-418e-a408-dcbff09398d2"
      },
      "source": [
        "## Now we're going to feed a random batch into the model you defined and make sure the output is the right size\n",
        "x = torch.randn(64, 3, 32, 32).type(dtype)\n",
        "x_var = Variable(x.type(dtype)) # Construct a PyTorch Variable out of your input data\n",
        "ans = fixed_model(x_var)        # Feed it through the model! \n",
        "\n",
        "# Check to make sure what comes out of your model\n",
        "# is the right dimensionality... this should be True\n",
        "# if you've done everything correctly\n",
        "np.array_equal(np.array(ans.size()), np.array([64, 10]))       "
      ],
      "execution_count": 7,
      "outputs": [
        {
          "output_type": "execute_result",
          "data": {
            "text/plain": [
              "True"
            ]
          },
          "metadata": {
            "tags": []
          },
          "execution_count": 7
        }
      ]
    },
    {
      "cell_type": "markdown",
      "metadata": {
        "id": "cSGGjNY7Ogkd",
        "colab_type": "text"
      },
      "source": [
        "### GPU!\n",
        "\n",
        "Now, we're going to switch the dtype of the model and our data to the GPU-friendly tensors, and see what happens... everything is the same, except we are casting our model and input tensors as this new dtype instead of the old one.\n",
        "\n",
        "If this returns false, or otherwise fails in a not-graceful way (i.e., with some error message), you may not have an NVIDIA GPU available on your machine. If you're running locally, we recommend you switch to Google Colab and follow the instructions to set up a GPU there. If you're already on Google Colab, something is wrong -- make sure you followed the instructions on how to request and use a GPU on your instance. If you did, post on Piazza or come to Office Hours so we can help you debug."
      ]
    },
    {
      "cell_type": "code",
      "metadata": {
        "id": "0OwbX93POgkd",
        "colab_type": "code",
        "colab": {
          "base_uri": "https://localhost:8080/",
          "height": 34
        },
        "outputId": "f0e1cbfd-3674-4197-9130-8b69a4d9356d"
      },
      "source": [
        "# Verify that CUDA is properly configured and you have a GPU available\n",
        "\n",
        "torch.cuda.is_available()"
      ],
      "execution_count": 8,
      "outputs": [
        {
          "output_type": "execute_result",
          "data": {
            "text/plain": [
              "True"
            ]
          },
          "metadata": {
            "tags": []
          },
          "execution_count": 8
        }
      ]
    },
    {
      "cell_type": "code",
      "metadata": {
        "id": "nYOIJ-ccOgkf",
        "colab_type": "code",
        "colab": {
          "base_uri": "https://localhost:8080/",
          "height": 34
        },
        "outputId": "02ad3152-8db6-45c3-ad75-298f895c1ac6"
      },
      "source": [
        "import copy\n",
        "gpu_dtype = torch.cuda.FloatTensor\n",
        "\n",
        "fixed_model_gpu = copy.deepcopy(fixed_model_base).type(gpu_dtype)\n",
        "\n",
        "x_gpu = torch.randn(64, 3, 32, 32).type(gpu_dtype)\n",
        "x_var_gpu = Variable(x.type(gpu_dtype)) # Construct a PyTorch Variable out of your input data\n",
        "ans = fixed_model_gpu(x_var_gpu)        # Feed it through the model! \n",
        "\n",
        "# Check to make sure what comes out of your model\n",
        "# is the right dimensionality... this should be True\n",
        "# if you've done everything correctly\n",
        "np.array_equal(np.array(ans.size()), np.array([64, 10]))"
      ],
      "execution_count": 9,
      "outputs": [
        {
          "output_type": "execute_result",
          "data": {
            "text/plain": [
              "True"
            ]
          },
          "metadata": {
            "tags": []
          },
          "execution_count": 9
        }
      ]
    },
    {
      "cell_type": "markdown",
      "metadata": {
        "id": "nmnyP1QZOgki",
        "colab_type": "text"
      },
      "source": [
        "Run the following cell to evaluate the performance of the forward pass running on the CPU:"
      ]
    },
    {
      "cell_type": "code",
      "metadata": {
        "id": "bbX9F1plOgkj",
        "colab_type": "code",
        "colab": {
          "base_uri": "https://localhost:8080/",
          "height": 34
        },
        "outputId": "d914b103-3e45-419b-8efc-46e214d4e716"
      },
      "source": [
        "%%timeit \n",
        "ans = fixed_model(x_var)"
      ],
      "execution_count": 10,
      "outputs": [
        {
          "output_type": "stream",
          "text": [
            "10 loops, best of 3: 28.6 ms per loop\n"
          ],
          "name": "stdout"
        }
      ]
    },
    {
      "cell_type": "markdown",
      "metadata": {
        "id": "v7iC9yfnOgkl",
        "colab_type": "text"
      },
      "source": [
        "... and now the GPU:"
      ]
    },
    {
      "cell_type": "code",
      "metadata": {
        "id": "IOERt5bdOgkl",
        "colab_type": "code",
        "colab": {
          "base_uri": "https://localhost:8080/",
          "height": 34
        },
        "outputId": "f8bb7ea3-a80e-496c-b453-e5763258a56a"
      },
      "source": [
        "%%timeit \n",
        "torch.cuda.synchronize() # Make sure there are no pending GPU computations\n",
        "ans = fixed_model_gpu(x_var_gpu)        # Feed it through the model! \n",
        "torch.cuda.synchronize() # Make sure there are no pending GPU computations"
      ],
      "execution_count": 11,
      "outputs": [
        {
          "output_type": "stream",
          "text": [
            "1000 loops, best of 3: 544 µs per loop\n"
          ],
          "name": "stdout"
        }
      ]
    },
    {
      "cell_type": "markdown",
      "metadata": {
        "id": "cdyY4v73Ogko",
        "colab_type": "text"
      },
      "source": [
        "You should observe that even a simple forward pass like this is significantly faster on the GPU. So for the rest of the assignment (and when you go train your models in assignment 3 and your project!), you should use the GPU datatype for your model and your tensors: as a reminder that is *torch.cuda.FloatTensor* (in our notebook here as *gpu_dtype*)"
      ]
    },
    {
      "cell_type": "markdown",
      "metadata": {
        "id": "96A0hVepOgko",
        "colab_type": "text"
      },
      "source": [
        "### Train the model.\n",
        "\n",
        "Now that you've seen how to define a model and do a single forward pass of some data through it, let's  walk through how you'd actually train one whole epoch over your training data (using the simple_model we provided above).\n",
        "\n",
        "Make sure you understand how each PyTorch function used below corresponds to what you implemented in your custom neural network implementation.\n",
        "\n",
        "Note that because we are not resetting the weights anywhere below, if you run the cell multiple times, you are effectively training multiple epochs (so your performance should improve).\n",
        "\n",
        "First, set up an RMSprop optimizer (using a 1e-3 learning rate) and a cross-entropy loss function:"
      ]
    },
    {
      "cell_type": "code",
      "metadata": {
        "id": "y-OgYe0VOgkp",
        "colab_type": "code",
        "colab": {}
      },
      "source": [
        "loss_fn = nn.CrossEntropyLoss().type(gpu_dtype)\n",
        "optimizer = optim.RMSprop(fixed_model_gpu.parameters(), lr=1e-3) "
      ],
      "execution_count": 0,
      "outputs": []
    },
    {
      "cell_type": "code",
      "metadata": {
        "id": "Rwir0wmLOgkr",
        "colab_type": "code",
        "colab": {
          "base_uri": "https://localhost:8080/",
          "height": 136
        },
        "outputId": "209805fd-6ec2-4b03-b0e9-c77fb2a2d9bf"
      },
      "source": [
        "# This sets the model in \"training\" mode. This is relevant for some layers that may have different behavior\n",
        "# in training mode vs testing mode, such as Dropout and BatchNorm. \n",
        "fixed_model_gpu.train()\n",
        "\n",
        "# Load one batch at a time.\n",
        "for t, (x, y) in enumerate(loader_train):\n",
        "    x_var = Variable(x.type(gpu_dtype))\n",
        "    y_var = Variable(y.type(gpu_dtype).long())\n",
        "\n",
        "    # This is the forward pass: predict the scores for each class, for each x in the batch.\n",
        "    scores = fixed_model_gpu(x_var)\n",
        "    \n",
        "    # Use the correct y values and the predicted y values to compute the loss.\n",
        "    loss = loss_fn(scores, y_var)\n",
        "    \n",
        "    if (t + 1) % print_every == 0:\n",
        "        print('t = %d, loss = %.4f' % (t + 1, loss.item()))\n",
        "\n",
        "    # Zero out all of the gradients for the variables which the optimizer will update.\n",
        "    optimizer.zero_grad()\n",
        "    \n",
        "    # This is the backwards pass: compute the gradient of the loss with respect to each \n",
        "    # parameter of the model.\n",
        "    loss.backward()\n",
        "    \n",
        "    # Actually update the parameters of the model using the gradients computed by the backwards pass.\n",
        "    optimizer.step()"
      ],
      "execution_count": 13,
      "outputs": [
        {
          "output_type": "stream",
          "text": [
            "t = 100, loss = 1.4218\n",
            "t = 200, loss = 1.5907\n",
            "t = 300, loss = 1.3162\n",
            "t = 400, loss = 1.3702\n",
            "t = 500, loss = 1.1071\n",
            "t = 600, loss = 1.3525\n",
            "t = 700, loss = 1.2930\n"
          ],
          "name": "stdout"
        }
      ]
    },
    {
      "cell_type": "markdown",
      "metadata": {
        "id": "FEquhUGgOgkt",
        "colab_type": "text"
      },
      "source": [
        "Now you've seen how the training process works in PyTorch. To save you writing boilerplate code, we're providing the following helper functions to help you train for multiple epochs and check the accuracy of your model:"
      ]
    },
    {
      "cell_type": "code",
      "metadata": {
        "id": "fiocX60vOgkt",
        "colab_type": "code",
        "colab": {}
      },
      "source": [
        "def train(model, loss_fn, optimizer, num_epochs = 1):\n",
        "    for epoch in range(num_epochs):\n",
        "        print('Starting epoch %d / %d' % (epoch + 1, num_epochs))\n",
        "        model.train()\n",
        "        for t, (x, y) in enumerate(loader_train):\n",
        "            x_var = Variable(x.type(gpu_dtype))\n",
        "            y_var = Variable(y.type(gpu_dtype).long())\n",
        "\n",
        "            scores = model(x_var)\n",
        "            \n",
        "            loss = loss_fn(scores, y_var)\n",
        "            if (t + 1) % print_every == 0:\n",
        "                print('t = %d, loss = %.4f' % (t + 1, loss.item()))\n",
        "\n",
        "            optimizer.zero_grad()\n",
        "            loss.backward()\n",
        "            optimizer.step()\n",
        "\n",
        "def check_accuracy(model, loader):\n",
        "    if loader.dataset.train:\n",
        "        print('Checking accuracy on validation set')\n",
        "    else:\n",
        "        print('Checking accuracy on test set')   \n",
        "    num_correct = 0\n",
        "    num_samples = 0\n",
        "    model.eval() # Put the model in test mode (the opposite of model.train(), essentially)\n",
        "    for x, y in loader:\n",
        "        with torch.no_grad():\n",
        "            x_var = Variable(x.type(gpu_dtype))\n",
        "\n",
        "        scores = model(x_var)\n",
        "        _, preds = scores.data.cpu().max(1)\n",
        "        num_correct += (preds == y).sum()\n",
        "        num_samples += preds.size(0)\n",
        "    acc = float(num_correct) / num_samples\n",
        "    print('Got %d / %d correct (%.2f)' % (num_correct, num_samples, 100 * acc))"
      ],
      "execution_count": 0,
      "outputs": []
    },
    {
      "cell_type": "markdown",
      "metadata": {
        "id": "2P1OWJ7eOgkv",
        "colab_type": "text"
      },
      "source": [
        "### Check the accuracy of the model.\n",
        "\n",
        "Let's see the train and check_accuracy code in action -- feel free to use these methods when evaluating the models you develop below.\n",
        "\n",
        "You should get a training loss of around 1.2-1.4, and a validation accuracy of around 50-60%. As mentioned above, if you re-run the cells, you'll be training more epochs, so your performance will improve past these numbers.\n",
        "\n",
        "But don't worry about getting these numbers better -- this was just practice before you tackle designing your own model."
      ]
    },
    {
      "cell_type": "code",
      "metadata": {
        "id": "NFsgInhlOgkw",
        "colab_type": "code",
        "colab": {
          "base_uri": "https://localhost:8080/",
          "height": 187
        },
        "outputId": "001bcf1f-2c30-4849-f571-78fc1fed90a0"
      },
      "source": [
        "torch.cuda.random.manual_seed(12345)\n",
        "fixed_model_gpu.apply(reset)\n",
        "train(fixed_model_gpu, loss_fn, optimizer, num_epochs=1)\n",
        "check_accuracy(fixed_model_gpu, loader_val)"
      ],
      "execution_count": 15,
      "outputs": [
        {
          "output_type": "stream",
          "text": [
            "Starting epoch 1 / 1\n",
            "t = 100, loss = 1.4290\n",
            "t = 200, loss = 1.5027\n",
            "t = 300, loss = 1.4521\n",
            "t = 400, loss = 1.2761\n",
            "t = 500, loss = 1.2358\n",
            "t = 600, loss = 1.3678\n",
            "t = 700, loss = 1.2259\n",
            "Checking accuracy on validation set\n",
            "Got 532 / 1000 correct (53.20)\n"
          ],
          "name": "stdout"
        }
      ]
    },
    {
      "cell_type": "markdown",
      "metadata": {
        "id": "BtEUATK1Ogky",
        "colab_type": "text"
      },
      "source": [
        "### Don't forget the validation set!\n",
        "\n",
        "And note that you can use the check_accuracy function to evaluate on either the test set or the validation set, by passing either **loader_test** or **loader_val** as the second argument to check_accuracy. You should not touch the test set until you have finished your architecture and hyperparameter tuning, and only run the test set once at the end to report a final value. "
      ]
    },
    {
      "cell_type": "markdown",
      "metadata": {
        "id": "h5xq656YOgky",
        "colab_type": "text"
      },
      "source": [
        "## Train a _great_ model on CIFAR-10!\n",
        "\n",
        "Now it's your job to experiment with architectures, hyperparameters, loss functions, and optimizers to train a model that achieves **>=70%** accuracy on the CIFAR-10 **validation** set. You can use the check_accuracy and train functions from above."
      ]
    },
    {
      "cell_type": "markdown",
      "metadata": {
        "id": "CdwaXgAYOgkz",
        "colab_type": "text"
      },
      "source": [
        "### Things you should try:\n",
        "- **Filter size**: Above we used 7x7; this makes pretty pictures but smaller filters may be more efficient\n",
        "- **Number of filters**: Above we used 32 filters. Do more or fewer do better?\n",
        "- **Pooling vs Strided Convolution**: Do you use max pooling or just stride convolutions?\n",
        "- **Batch normalization**: Try adding spatial batch normalization after convolution layers and vanilla batch normalization after affine layers. Do your networks train faster?\n",
        "- **Network architecture**: The network above has two layers of trainable parameters. Can you do better with a deep network? Good architectures to try include:\n",
        "    - [conv-relu-pool]xN -> [affine]xM -> [softmax or SVM]\n",
        "    - [conv-relu-conv-relu-pool]xN -> [affine]xM -> [softmax or SVM]\n",
        "    - [batchnorm-relu-conv]xN -> [affine]xM -> [softmax or SVM]\n",
        "- **Global Average Pooling**: Instead of flattening and then having multiple affine layers, perform convolutions until your image gets small (7x7 or so) and then perform an average pooling operation to get to a 1x1 image picture (1, 1 , Filter#), which is then reshaped into a (Filter#) vector. This is used in [Google's Inception Network](https://arxiv.org/abs/1512.00567) (See Table 1 for their architecture).\n",
        "- **Regularization**: Add l2 weight regularization, or perhaps use Dropout.\n",
        "\n",
        "### Tips for training\n",
        "For each network architecture that you try, you should tune the learning rate and regularization strength. When doing this there are a couple important things to keep in mind:\n",
        "\n",
        "- If the parameters are working well, you should see improvement within a few hundred iterations\n",
        "- Remember the coarse-to-fine approach for hyperparameter tuning: start by testing a large range of hyperparameters for just a few training iterations to find the combinations of parameters that are working at all.\n",
        "- Once you have found some sets of parameters that seem to work, search more finely around these parameters. You may need to train for more epochs.\n",
        "- You should use the validation set for hyperparameter search, and save your test set for evaluating your architecture on the best parameters as selected by the validation set.\n",
        "\n",
        "### Going above and beyond\n",
        "If you are feeling adventurous there are many other features you can implement to try and improve your performance. You are **not required** to implement any of these; however they would be good things to try for extra credit.\n",
        "\n",
        "- Alternative update steps: For the assignment we implemented SGD+momentum, RMSprop, and Adam; you could try alternatives like AdaGrad or AdaDelta.\n",
        "- Alternative activation functions such as leaky ReLU, parametric ReLU, ELU, or MaxOut.\n",
        "- Model ensembles\n",
        "- Data augmentation\n",
        "- New Architectures\n",
        "  - [ResNets](https://arxiv.org/abs/1512.03385) where the input from the previous layer is added to the output.\n",
        "  - [DenseNets](https://arxiv.org/abs/1608.06993) where inputs into previous layers are concatenated together.\n",
        "  - [This blog has an in-depth overview](https://chatbotslife.com/resnets-highwaynets-and-densenets-oh-my-9bb15918ee32)\n",
        "\n",
        "If you do decide to implement something extra, clearly describe it in the \"Extra Credit Description\" cell below.\n",
        "\n",
        "### What we expect\n",
        "At the very least, you should be able to train a ConvNet that gets at least 70% accuracy on the validation set. This is just a lower bound - if you are careful it should be possible to get accuracies much higher than that! Extra credit points will be awarded for particularly high-scoring models or unique approaches.\n",
        "\n",
        "You should use the space below to experiment and train your network. \n",
        "\n",
        "Have fun and happy training!"
      ]
    },
    {
      "cell_type": "code",
      "metadata": {
        "id": "lLo2FuMnOgkz",
        "colab_type": "code",
        "colab": {
          "base_uri": "https://localhost:8080/",
          "height": 1000
        },
        "outputId": "a79fb775-49f9-4a40-e28b-47eefae10f94"
      },
      "source": [
        "# Train your model here, and make sure the output of this cell is the accuracy of your best model on the \n",
        "# train, val, and test sets. Here's some code to get you started. The output of this cell should be the training\n",
        "# and validation accuracy on your best model (measured by validation accuracy).\n",
        "model = nn.Sequential(\n",
        "                                  nn.Conv2d(3, 128, kernel_size=3, stride=1),\n",
        "                                  nn.ReLU(inplace=True),\n",
        "                                  nn.Conv2d(128, 128, kernel_size=3, stride=1),\n",
        "                                  nn.ReLU(inplace=True),\n",
        "                                  nn.BatchNorm2d(128),\n",
        "                                  nn.MaxPool2d(kernel_size=2, stride=2),\n",
        "                                  nn.Conv2d(128, 128, kernel_size=3, stride=1),\n",
        "                                  nn.ReLU(inplace=True),\n",
        "                                  nn.Conv2d(128, 128, kernel_size=3, stride=1),\n",
        "                                  nn.ReLU(inplace=True),\n",
        "                                  nn.BatchNorm2d(128),\n",
        "                                  nn.MaxPool2d(kernel_size=2, stride=2),\n",
        "                                  Flatten(),\n",
        "                                  nn.Linear(3200, 1024),\n",
        "                                  nn.ReLU(inplace=True),\n",
        "                                  nn.Linear(1024, 1024),\n",
        "                                  nn.ReLU(inplace=True),\n",
        "                                  nn.Linear(1024, 10)\n",
        "            )\n",
        "model.type(gpu_dtype)\n",
        "loss_fn = nn.CrossEntropyLoss().type(gpu_dtype)\n",
        "optimizer = optim.Adam(model.parameters(), lr=1e-4, weight_decay=0.03) \n",
        "\n",
        "train(model, loss_fn, optimizer, num_epochs=10)\n",
        "check_accuracy(model, loader_val)"
      ],
      "execution_count": 19,
      "outputs": [
        {
          "output_type": "stream",
          "text": [
            "Starting epoch 1 / 10\n",
            "t = 100, loss = 1.3389\n",
            "t = 200, loss = 1.2128\n",
            "t = 300, loss = 1.3257\n",
            "t = 400, loss = 0.9174\n",
            "t = 500, loss = 1.0235\n",
            "t = 600, loss = 1.0296\n",
            "t = 700, loss = 1.1186\n",
            "Starting epoch 2 / 10\n",
            "t = 100, loss = 0.8228\n",
            "t = 200, loss = 0.7942\n",
            "t = 300, loss = 0.9008\n",
            "t = 400, loss = 0.7133\n",
            "t = 500, loss = 0.8037\n",
            "t = 600, loss = 0.8063\n",
            "t = 700, loss = 0.8905\n",
            "Starting epoch 3 / 10\n",
            "t = 100, loss = 0.6618\n",
            "t = 200, loss = 0.7103\n",
            "t = 300, loss = 0.7095\n",
            "t = 400, loss = 0.6230\n",
            "t = 500, loss = 0.6827\n",
            "t = 600, loss = 0.6616\n",
            "t = 700, loss = 0.7863\n",
            "Starting epoch 4 / 10\n",
            "t = 100, loss = 0.5602\n",
            "t = 200, loss = 0.6259\n",
            "t = 300, loss = 0.5673\n",
            "t = 400, loss = 0.5634\n",
            "t = 500, loss = 0.5506\n",
            "t = 600, loss = 0.5537\n",
            "t = 700, loss = 0.6601\n",
            "Starting epoch 5 / 10\n",
            "t = 100, loss = 0.4652\n",
            "t = 200, loss = 0.6081\n",
            "t = 300, loss = 0.4949\n",
            "t = 400, loss = 0.5302\n",
            "t = 500, loss = 0.4756\n",
            "t = 600, loss = 0.4680\n",
            "t = 700, loss = 0.6587\n",
            "Starting epoch 6 / 10\n",
            "t = 100, loss = 0.4099\n",
            "t = 200, loss = 0.5519\n",
            "t = 300, loss = 0.4699\n",
            "t = 400, loss = 0.4915\n",
            "t = 500, loss = 0.4608\n",
            "t = 600, loss = 0.4105\n",
            "t = 700, loss = 0.5823\n",
            "Starting epoch 7 / 10\n",
            "t = 100, loss = 0.3428\n",
            "t = 200, loss = 0.4820\n",
            "t = 300, loss = 0.4395\n",
            "t = 400, loss = 0.4607\n",
            "t = 500, loss = 0.4107\n",
            "t = 600, loss = 0.3826\n",
            "t = 700, loss = 0.5110\n",
            "Starting epoch 8 / 10\n",
            "t = 100, loss = 0.2905\n",
            "t = 200, loss = 0.4474\n",
            "t = 300, loss = 0.4010\n",
            "t = 400, loss = 0.4189\n",
            "t = 500, loss = 0.3659\n",
            "t = 600, loss = 0.3318\n",
            "t = 700, loss = 0.4341\n",
            "Starting epoch 9 / 10\n",
            "t = 100, loss = 0.2623\n",
            "t = 200, loss = 0.3770\n",
            "t = 300, loss = 0.3793\n",
            "t = 400, loss = 0.3976\n",
            "t = 500, loss = 0.3149\n",
            "t = 600, loss = 0.3288\n",
            "t = 700, loss = 0.4105\n",
            "Starting epoch 10 / 10\n",
            "t = 100, loss = 0.2565\n",
            "t = 200, loss = 0.3355\n",
            "t = 300, loss = 0.3626\n",
            "t = 400, loss = 0.3552\n",
            "t = 500, loss = 0.2937\n",
            "t = 600, loss = 0.3293\n",
            "t = 700, loss = 0.3666\n",
            "Checking accuracy on validation set\n",
            "Got 780 / 1000 correct (78.00)\n"
          ],
          "name": "stdout"
        }
      ]
    },
    {
      "cell_type": "code",
      "metadata": {
        "id": "bSl_7RRBwnNq",
        "colab_type": "code",
        "colab": {
          "base_uri": "https://localhost:8080/",
          "height": 1000
        },
        "outputId": "c08261fb-6f5e-42c2-9c47-b641f052f84f"
      },
      "source": [
        "model2 = nn.Sequential(\n",
        "                                  #nn.BatchNorm2d(3),\n",
        "                                  nn.ReLU(inplace=True),\n",
        "                                  nn.Conv2d(3, 128, kernel_size=3, stride=1, padding=1),  \n",
        "                                  nn.BatchNorm2d(128),\n",
        "                                  nn.ReLU(inplace=True),\n",
        "                                  nn.Conv2d(128, 128, kernel_size=3, stride=1),\n",
        "                                  nn.BatchNorm2d(128),\n",
        "                                  nn.ReLU(inplace=True),\n",
        "                                  nn.Conv2d(128, 128, kernel_size=3, stride=1, padding=1), \n",
        "                                  nn.BatchNorm2d(128),\n",
        "                                  nn.ReLU(inplace=True),\n",
        "                                  nn.Conv2d(128, 128, kernel_size=3, stride=1),                    \n",
        "                                  nn.MaxPool2d(kernel_size=2, stride=2),\n",
        "                                  Flatten(),\n",
        "                                  nn.Linear(25088, 2048),\n",
        "                                  nn.ReLU(inplace=True),\n",
        "                                  nn.Linear(2048, 1024),\n",
        "                                  nn.ReLU(inplace=True),\n",
        "                                  nn.Linear(1024, 1024),\n",
        "                                  nn.ReLU(inplace=True),\n",
        "                                  nn.Linear(1024, 10)\n",
        "            )\n",
        "model2.type(gpu_dtype)\n",
        "loss_fn_2 = nn.CrossEntropyLoss().type(gpu_dtype)\n",
        "optimizer_2 = optim.Adagrad(model2.parameters(), lr=1e-3, weight_decay=0) \n",
        "\n",
        "train(model2, loss_fn_2, optimizer_2, num_epochs=10)\n",
        "check_accuracy(model2, loader_val)"
      ],
      "execution_count": 29,
      "outputs": [
        {
          "output_type": "stream",
          "text": [
            "Starting epoch 1 / 10\n",
            "t = 100, loss = 1.4275\n",
            "t = 200, loss = 1.3560\n",
            "t = 300, loss = 1.2423\n",
            "t = 400, loss = 0.9801\n",
            "t = 500, loss = 0.8392\n",
            "t = 600, loss = 1.1147\n",
            "t = 700, loss = 1.0676\n",
            "Starting epoch 2 / 10\n",
            "t = 100, loss = 0.6804\n",
            "t = 200, loss = 0.6743\n",
            "t = 300, loss = 0.8115\n",
            "t = 400, loss = 0.6092\n",
            "t = 500, loss = 0.5821\n",
            "t = 600, loss = 0.7216\n",
            "t = 700, loss = 0.6936\n",
            "Starting epoch 3 / 10\n",
            "t = 100, loss = 0.4070\n",
            "t = 200, loss = 0.3922\n",
            "t = 300, loss = 0.5210\n",
            "t = 400, loss = 0.4371\n",
            "t = 500, loss = 0.3933\n",
            "t = 600, loss = 0.3691\n",
            "t = 700, loss = 0.4572\n",
            "Starting epoch 4 / 10\n",
            "t = 100, loss = 0.2120\n",
            "t = 200, loss = 0.1872\n",
            "t = 300, loss = 0.3155\n",
            "t = 400, loss = 0.3019\n",
            "t = 500, loss = 0.1724\n",
            "t = 600, loss = 0.1380\n",
            "t = 700, loss = 0.2315\n",
            "Starting epoch 5 / 10\n",
            "t = 100, loss = 0.1042\n",
            "t = 200, loss = 0.0703\n",
            "t = 300, loss = 0.1113\n",
            "t = 400, loss = 0.1744\n",
            "t = 500, loss = 0.0656\n",
            "t = 600, loss = 0.0554\n",
            "t = 700, loss = 0.0816\n",
            "Starting epoch 6 / 10\n",
            "t = 100, loss = 0.0727\n",
            "t = 200, loss = 0.0173\n",
            "t = 300, loss = 0.0275\n",
            "t = 400, loss = 0.0764\n",
            "t = 500, loss = 0.0521\n",
            "t = 600, loss = 0.0169\n",
            "t = 700, loss = 0.0262\n",
            "Starting epoch 7 / 10\n",
            "t = 100, loss = 0.0204\n",
            "t = 200, loss = 0.0074\n",
            "t = 300, loss = 0.0125\n",
            "t = 400, loss = 0.0189\n",
            "t = 500, loss = 0.0197\n",
            "t = 600, loss = 0.0088\n",
            "t = 700, loss = 0.0109\n",
            "Starting epoch 8 / 10\n",
            "t = 100, loss = 0.0079\n",
            "t = 200, loss = 0.0042\n",
            "t = 300, loss = 0.0062\n",
            "t = 400, loss = 0.0051\n",
            "t = 500, loss = 0.0074\n",
            "t = 600, loss = 0.0063\n",
            "t = 700, loss = 0.0051\n",
            "Starting epoch 9 / 10\n",
            "t = 100, loss = 0.0044\n",
            "t = 200, loss = 0.0026\n",
            "t = 300, loss = 0.0041\n",
            "t = 400, loss = 0.0034\n",
            "t = 500, loss = 0.0044\n",
            "t = 600, loss = 0.0045\n",
            "t = 700, loss = 0.0032\n",
            "Starting epoch 10 / 10\n",
            "t = 100, loss = 0.0031\n",
            "t = 200, loss = 0.0019\n",
            "t = 300, loss = 0.0029\n",
            "t = 400, loss = 0.0025\n",
            "t = 500, loss = 0.0032\n",
            "t = 600, loss = 0.0034\n",
            "t = 700, loss = 0.0023\n",
            "Checking accuracy on validation set\n",
            "Got 750 / 1000 correct (75.00)\n"
          ],
          "name": "stdout"
        }
      ]
    },
    {
      "cell_type": "markdown",
      "metadata": {
        "id": "z-calWoGOgk2",
        "colab_type": "text"
      },
      "source": [
        "### Describe what you did \n",
        "\n",
        "In the cell below you should write an explanation of what you did, any additional features that you implemented, and any visualizations or graphs that you make in the process of training and evaluating your network."
      ]
    },
    {
      "cell_type": "markdown",
      "metadata": {
        "id": "tPqknmXrOgk3",
        "colab_type": "text"
      },
      "source": [
        "I trained two models:<br> 1. [conv-relu-conv-relu-pool]xN -> [affine]xM -> [softmax or SVM] architecture <br> 2. [batchnorm-relu-conv]xN -> [affine]xM -> [softmax or SVM] architecture <br> I tried various values for filter size, number of filters, number of affine layers. I also applied different learning rates for different optimizers and found out Adam works better for this dataset. Both tuned models are able to get ~76% validation accurarcy, but the first model produced higher test accurarcy."
      ]
    },
    {
      "cell_type": "markdown",
      "metadata": {
        "id": "eL0UFHexOgk3",
        "colab_type": "text"
      },
      "source": [
        "## Test set -- run this only once\n",
        "\n",
        "Now that we've gotten a result we're happy with, we test our final model on the test set (which you should store in best_model).  This would be the score we would achieve on a competition. Think about how this compares to your validation set accuracy."
      ]
    },
    {
      "cell_type": "code",
      "metadata": {
        "id": "DEWVQB5mOgk3",
        "colab_type": "code",
        "colab": {
          "base_uri": "https://localhost:8080/",
          "height": 51
        },
        "outputId": "6250dded-3691-4298-a94f-eb003bbb8c57"
      },
      "source": [
        "best_model = model\n",
        "check_accuracy(best_model, loader_test)"
      ],
      "execution_count": 31,
      "outputs": [
        {
          "output_type": "stream",
          "text": [
            "Checking accuracy on test set\n",
            "Got 7661 / 10000 correct (76.61)\n"
          ],
          "name": "stdout"
        }
      ]
    },
    {
      "cell_type": "markdown",
      "metadata": {
        "id": "Dj6mnrZdOgk5",
        "colab_type": "text"
      },
      "source": [
        "## Going further with PyTorch\n",
        "\n",
        "The next assignment will make heavy use of PyTorch. You might also find it useful for your projects. \n",
        "\n",
        "Here's a nice tutorial by Justin Johnson that shows off some of PyTorch's features, like dynamic graphs and custom NN modules: http://pytorch.org/tutorials/beginner/pytorch_with_examples.html\n",
        "\n",
        "If you're interested in reinforcement learning for your final project, this is a good (more advanced) DQN tutorial in PyTorch: http://pytorch.org/tutorials/intermediate/reinforcement_q_learning.html"
      ]
    }
  ]
}