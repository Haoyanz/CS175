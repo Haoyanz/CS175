{
  "nbformat": 4,
  "nbformat_minor": 0,
  "metadata": {
    "colab": {
      "name": "DistractedDriver.ipynb",
      "provenance": [],
      "mount_file_id": "https://github.com/Haoyanz/Project-in-AI/blob/master/DistractedDriver.ipynb",
      "authorship_tag": "ABX9TyPm/sWH6+DxtC2b+vKL4cx3",
      "include_colab_link": true
    },
    "kernelspec": {
      "name": "python3",
      "display_name": "Python 3"
    },
    "accelerator": "GPU"
  },
  "cells": [
    {
      "cell_type": "markdown",
      "metadata": {
        "id": "view-in-github",
        "colab_type": "text"
      },
      "source": [
        "<a href=\"https://colab.research.google.com/github/Haoyanz/Project-in-AI/blob/master/DistractedDriver.ipynb\" target=\"_parent\"><img src=\"https://colab.research.google.com/assets/colab-badge.svg\" alt=\"Open In Colab\"/></a>"
      ]
    },
    {
      "cell_type": "code",
      "metadata": {
        "id": "dcImAu0HdBw2",
        "colab_type": "code",
        "colab": {
          "base_uri": "https://localhost:8080/",
          "height": 34
        },
        "outputId": "3aebda8d-bd1d-4f80-ebdb-3475825136c5"
      },
      "source": [
        "import numpy as np\n",
        "import keras\n",
        "from keras import backend as K\n",
        "from keras.models import Sequential\n",
        "from keras.layers import Dense, Activation, Dropout, Flatten, Conv2D, MaxPooling2D\n",
        "from keras.optimizers import Adam\n",
        "from keras.metrics import categorical_crossentropy\n",
        "from keras.preprocessing.image import ImageDataGenerator\n",
        "from keras.layers.normalization import BatchNormalization\n",
        "from keras.layers.convolutional import *\n",
        "import matplotlib.pyplot as plt\n",
        "from sklearn.metrics import confusion_matrix\n",
        "import itertools\n",
        "from glob import glob\n",
        "import cv2\n",
        "\n",
        "%matplotlib inline"
      ],
      "execution_count": 1,
      "outputs": [
        {
          "output_type": "stream",
          "text": [
            "Using TensorFlow backend.\n"
          ],
          "name": "stderr"
        }
      ]
    },
    {
      "cell_type": "markdown",
      "metadata": {
        "id": "hxDe-z1TCmqg",
        "colab_type": "text"
      },
      "source": [
        "Load Dataset"
      ]
    },
    {
      "cell_type": "code",
      "metadata": {
        "id": "WF8IEt_ldRLd",
        "colab_type": "code",
        "colab": {}
      },
      "source": [
        "!unzip '/content/drive/My Drive/state-farm-distracted-driver-detection.zip'"
      ],
      "execution_count": 0,
      "outputs": []
    },
    {
      "cell_type": "code",
      "metadata": {
        "id": "fdQzPrAg6bt0",
        "colab_type": "code",
        "colab": {
          "base_uri": "https://localhost:8080/",
          "height": 51
        },
        "outputId": "c631a8d1-3d9b-4da7-d985-080233437254"
      },
      "source": [
        "train_datagen = ImageDataGenerator(rescale=1./255, validation_split=0.2)\n",
        "val_datagen = ImageDataGenerator(rescale=1./255, validation_split=0.2)\n",
        "\n",
        "train_generator = train_datagen.flow_from_directory(\n",
        "        '/content/imgs/train',\n",
        "        target_size=(224, 224),\n",
        "        batch_size=64,\n",
        "        class_mode='categorical', subset=\"training\", color_mode='rgb')\n",
        "\n",
        "val_generator = val_datagen.flow_from_directory(\n",
        "        '/content/imgs/train',\n",
        "        target_size=(224, 224),\n",
        "        batch_size=64,\n",
        "        class_mode='categorical', subset=\"validation\",  color_mode='rgb')"
      ],
      "execution_count": 2,
      "outputs": [
        {
          "output_type": "stream",
          "text": [
            "Found 17943 images belonging to 10 classes.\n",
            "Found 4481 images belonging to 10 classes.\n"
          ],
          "name": "stdout"
        }
      ]
    },
    {
      "cell_type": "markdown",
      "metadata": {
        "id": "MoN3nneFhzMy",
        "colab_type": "text"
      },
      "source": [
        "Pytorch Implementation of VGG16 Model"
      ]
    },
    {
      "cell_type": "code",
      "metadata": {
        "id": "icr5cfE1D4Dn",
        "colab_type": "code",
        "colab": {}
      },
      "source": [
        "VGG16 = [64,64,\"M\",128,128,\"M\",256,256,256,\"M\",512,512,512,\"M\",512,512,512,\"M\"]"
      ],
      "execution_count": 0,
      "outputs": []
    },
    {
      "cell_type": "code",
      "metadata": {
        "id": "izGTVo8zKzxT",
        "colab_type": "code",
        "colab": {}
      },
      "source": [
        "class VGG_net(nn.Module):\n",
        "    def __init__(self, in_channels=3, num_classes=10):\n",
        "        super(VGG_net, self).__init__()\n",
        "        self.in_channels = in_channels\n",
        "        self.conv_layers = self.create_conv_layers(VGG16)\n",
        "\n",
        "        self.fcs = nn.Sequential(\n",
        "            nn.Linear(512 * 7 * 7, 4096),\n",
        "            nn.ReLU(),\n",
        "            nn.Dropout(p=0.5),\n",
        "            nn.Linear(4096, 4096),\n",
        "            nn.ReLU(),\n",
        "            nn.Dropout(p=0.5),\n",
        "            nn.Linear(4096, num_classes),\n",
        "        )\n",
        "\n",
        "    def forward(self, x):\n",
        "        x = self.conv_layers(x)\n",
        "        x = x.reshape(x.shape[0], -1)\n",
        "        x = self.fcs(x)\n",
        "        return x\n",
        "\n",
        "    def create_conv_layers(self, architecture):\n",
        "        layers = []\n",
        "        in_channels = self.in_channels\n",
        "\n",
        "        for x in architecture:\n",
        "            if type(x) == int:\n",
        "                out_channels = x\n",
        "\n",
        "                layers += [\n",
        "                    nn.Conv2d(\n",
        "                        in_channels=in_channels,\n",
        "                        out_channels=out_channels,\n",
        "                        kernel_size=(3, 3),\n",
        "                        stride=(1, 1),\n",
        "                        padding=(1, 1),\n",
        "                    ),\n",
        "                    nn.BatchNorm2d(x),\n",
        "                    nn.ReLU(),\n",
        "                ]\n",
        "                in_channels = x\n",
        "            elif x == \"M\":\n",
        "                layers += [nn.MaxPool2d(kernel_size=(2, 2), stride=(2, 2))]\n",
        "\n",
        "        return nn.Sequential(*layers)"
      ],
      "execution_count": 0,
      "outputs": []
    },
    {
      "cell_type": "markdown",
      "metadata": {
        "id": "ar9Hs7PXohFG",
        "colab_type": "text"
      },
      "source": [
        "Fine-tune VGG16 Model"
      ]
    },
    {
      "cell_type": "code",
      "metadata": {
        "id": "XTkqFk1crEk2",
        "colab_type": "code",
        "colab": {
          "base_uri": "https://localhost:8080/",
          "height": 935
        },
        "outputId": "5c74136a-2774-4205-92cb-30b2c2ff926d"
      },
      "source": [
        "# take the fine-tune VGG16 Model\n",
        "vgg16_model = keras.applications.vgg16.VGG16()\n",
        "vgg16_model.summary()"
      ],
      "execution_count": 3,
      "outputs": [
        {
          "output_type": "stream",
          "text": [
            "Model: \"vgg16\"\n",
            "_________________________________________________________________\n",
            "Layer (type)                 Output Shape              Param #   \n",
            "=================================================================\n",
            "input_1 (InputLayer)         (None, 224, 224, 3)       0         \n",
            "_________________________________________________________________\n",
            "block1_conv1 (Conv2D)        (None, 224, 224, 64)      1792      \n",
            "_________________________________________________________________\n",
            "block1_conv2 (Conv2D)        (None, 224, 224, 64)      36928     \n",
            "_________________________________________________________________\n",
            "block1_pool (MaxPooling2D)   (None, 112, 112, 64)      0         \n",
            "_________________________________________________________________\n",
            "block2_conv1 (Conv2D)        (None, 112, 112, 128)     73856     \n",
            "_________________________________________________________________\n",
            "block2_conv2 (Conv2D)        (None, 112, 112, 128)     147584    \n",
            "_________________________________________________________________\n",
            "block2_pool (MaxPooling2D)   (None, 56, 56, 128)       0         \n",
            "_________________________________________________________________\n",
            "block3_conv1 (Conv2D)        (None, 56, 56, 256)       295168    \n",
            "_________________________________________________________________\n",
            "block3_conv2 (Conv2D)        (None, 56, 56, 256)       590080    \n",
            "_________________________________________________________________\n",
            "block3_conv3 (Conv2D)        (None, 56, 56, 256)       590080    \n",
            "_________________________________________________________________\n",
            "block3_pool (MaxPooling2D)   (None, 28, 28, 256)       0         \n",
            "_________________________________________________________________\n",
            "block4_conv1 (Conv2D)        (None, 28, 28, 512)       1180160   \n",
            "_________________________________________________________________\n",
            "block4_conv2 (Conv2D)        (None, 28, 28, 512)       2359808   \n",
            "_________________________________________________________________\n",
            "block4_conv3 (Conv2D)        (None, 28, 28, 512)       2359808   \n",
            "_________________________________________________________________\n",
            "block4_pool (MaxPooling2D)   (None, 14, 14, 512)       0         \n",
            "_________________________________________________________________\n",
            "block5_conv1 (Conv2D)        (None, 14, 14, 512)       2359808   \n",
            "_________________________________________________________________\n",
            "block5_conv2 (Conv2D)        (None, 14, 14, 512)       2359808   \n",
            "_________________________________________________________________\n",
            "block5_conv3 (Conv2D)        (None, 14, 14, 512)       2359808   \n",
            "_________________________________________________________________\n",
            "block5_pool (MaxPooling2D)   (None, 7, 7, 512)         0         \n",
            "_________________________________________________________________\n",
            "flatten (Flatten)            (None, 25088)             0         \n",
            "_________________________________________________________________\n",
            "fc1 (Dense)                  (None, 4096)              102764544 \n",
            "_________________________________________________________________\n",
            "fc2 (Dense)                  (None, 4096)              16781312  \n",
            "_________________________________________________________________\n",
            "predictions (Dense)          (None, 1000)              4097000   \n",
            "=================================================================\n",
            "Total params: 138,357,544\n",
            "Trainable params: 138,357,544\n",
            "Non-trainable params: 0\n",
            "_________________________________________________________________\n"
          ],
          "name": "stdout"
        }
      ]
    },
    {
      "cell_type": "code",
      "metadata": {
        "id": "JfBG41T77-YL",
        "colab_type": "code",
        "colab": {
          "base_uri": "https://localhost:8080/",
          "height": 901
        },
        "outputId": "44b16675-f0b2-4a3f-a739-f39ab47b9a5a"
      },
      "source": [
        "# initialize our own sequential model\n",
        "model = Sequential()\n",
        "\n",
        "# copy every layer except the predictions layer\n",
        "for layer in vgg16_model.layers[:-1]:\n",
        "  model.add(layer)\n",
        "\n",
        "# make weights fixed since these layers are already fine-tuned\n",
        "for layer in model.layers:\n",
        "  layer.trainable = False\n",
        "\n",
        "# add our own layer\n",
        "model.add(Dense(10, activation='softmax'))\n",
        "\n",
        "model.summary()\n"
      ],
      "execution_count": 4,
      "outputs": [
        {
          "output_type": "stream",
          "text": [
            "Model: \"sequential_1\"\n",
            "_________________________________________________________________\n",
            "Layer (type)                 Output Shape              Param #   \n",
            "=================================================================\n",
            "block1_conv1 (Conv2D)        (None, 224, 224, 64)      1792      \n",
            "_________________________________________________________________\n",
            "block1_conv2 (Conv2D)        (None, 224, 224, 64)      36928     \n",
            "_________________________________________________________________\n",
            "block1_pool (MaxPooling2D)   (None, 112, 112, 64)      0         \n",
            "_________________________________________________________________\n",
            "block2_conv1 (Conv2D)        (None, 112, 112, 128)     73856     \n",
            "_________________________________________________________________\n",
            "block2_conv2 (Conv2D)        (None, 112, 112, 128)     147584    \n",
            "_________________________________________________________________\n",
            "block2_pool (MaxPooling2D)   (None, 56, 56, 128)       0         \n",
            "_________________________________________________________________\n",
            "block3_conv1 (Conv2D)        (None, 56, 56, 256)       295168    \n",
            "_________________________________________________________________\n",
            "block3_conv2 (Conv2D)        (None, 56, 56, 256)       590080    \n",
            "_________________________________________________________________\n",
            "block3_conv3 (Conv2D)        (None, 56, 56, 256)       590080    \n",
            "_________________________________________________________________\n",
            "block3_pool (MaxPooling2D)   (None, 28, 28, 256)       0         \n",
            "_________________________________________________________________\n",
            "block4_conv1 (Conv2D)        (None, 28, 28, 512)       1180160   \n",
            "_________________________________________________________________\n",
            "block4_conv2 (Conv2D)        (None, 28, 28, 512)       2359808   \n",
            "_________________________________________________________________\n",
            "block4_conv3 (Conv2D)        (None, 28, 28, 512)       2359808   \n",
            "_________________________________________________________________\n",
            "block4_pool (MaxPooling2D)   (None, 14, 14, 512)       0         \n",
            "_________________________________________________________________\n",
            "block5_conv1 (Conv2D)        (None, 14, 14, 512)       2359808   \n",
            "_________________________________________________________________\n",
            "block5_conv2 (Conv2D)        (None, 14, 14, 512)       2359808   \n",
            "_________________________________________________________________\n",
            "block5_conv3 (Conv2D)        (None, 14, 14, 512)       2359808   \n",
            "_________________________________________________________________\n",
            "block5_pool (MaxPooling2D)   (None, 7, 7, 512)         0         \n",
            "_________________________________________________________________\n",
            "flatten (Flatten)            (None, 25088)             0         \n",
            "_________________________________________________________________\n",
            "fc1 (Dense)                  (None, 4096)              102764544 \n",
            "_________________________________________________________________\n",
            "fc2 (Dense)                  (None, 4096)              16781312  \n",
            "_________________________________________________________________\n",
            "dense_1 (Dense)              (None, 10)                40970     \n",
            "=================================================================\n",
            "Total params: 134,301,514\n",
            "Trainable params: 40,970\n",
            "Non-trainable params: 134,260,544\n",
            "_________________________________________________________________\n"
          ],
          "name": "stdout"
        }
      ]
    },
    {
      "cell_type": "markdown",
      "metadata": {
        "id": "05F576TxCtVm",
        "colab_type": "text"
      },
      "source": [
        "Train the VGG16 Model"
      ]
    },
    {
      "cell_type": "code",
      "metadata": {
        "id": "9ywL9j3T8JM_",
        "colab_type": "code",
        "colab": {}
      },
      "source": [
        "model.compile(Adam(lr=0.001), loss='categorical_crossentropy', metrics=['accuracy'])"
      ],
      "execution_count": 0,
      "outputs": []
    },
    {
      "cell_type": "code",
      "metadata": {
        "id": "hzunfmqVC3Fb",
        "colab_type": "code",
        "colab": {
          "base_uri": "https://localhost:8080/",
          "height": 867
        },
        "outputId": "f182c347-e708-4ac7-c3f6-3c14b8819395"
      },
      "source": [
        "history = model.fit_generator(train_generator,\n",
        "                              steps_per_epoch = 17943//64,\n",
        "                              validation_data = val_generator,\n",
        "                              validation_steps = 4481//64,\n",
        "                              epochs = 25,\n",
        "                              verbose = 1)"
      ],
      "execution_count": 6,
      "outputs": [
        {
          "output_type": "stream",
          "text": [
            "Epoch 1/25\n",
            "280/280 [==============================] - 147s 524ms/step - loss: 2.0429 - accuracy: 0.2957 - val_loss: 1.6053 - val_accuracy: 0.4228\n",
            "Epoch 2/25\n",
            "280/280 [==============================] - 146s 520ms/step - loss: 1.5590 - accuracy: 0.5011 - val_loss: 1.3240 - val_accuracy: 0.5062\n",
            "Epoch 3/25\n",
            "280/280 [==============================] - 148s 527ms/step - loss: 1.3384 - accuracy: 0.5840 - val_loss: 1.0953 - val_accuracy: 0.6360\n",
            "Epoch 4/25\n",
            "280/280 [==============================] - 148s 530ms/step - loss: 1.1396 - accuracy: 0.6762 - val_loss: 0.9265 - val_accuracy: 0.7329\n",
            "Epoch 5/25\n",
            "280/280 [==============================] - 147s 525ms/step - loss: 1.0171 - accuracy: 0.7213 - val_loss: 0.9923 - val_accuracy: 0.7319\n",
            "Epoch 6/25\n",
            "280/280 [==============================] - 147s 527ms/step - loss: 0.9242 - accuracy: 0.7487 - val_loss: 0.8026 - val_accuracy: 0.7643\n",
            "Epoch 7/25\n",
            "280/280 [==============================] - 147s 526ms/step - loss: 0.8499 - accuracy: 0.7735 - val_loss: 0.8196 - val_accuracy: 0.7947\n",
            "Epoch 8/25\n",
            "280/280 [==============================] - 147s 523ms/step - loss: 0.7882 - accuracy: 0.7902 - val_loss: 0.7038 - val_accuracy: 0.7990\n",
            "Epoch 9/25\n",
            "280/280 [==============================] - 144s 516ms/step - loss: 0.7386 - accuracy: 0.8055 - val_loss: 0.6375 - val_accuracy: 0.8064\n",
            "Epoch 10/25\n",
            "280/280 [==============================] - 147s 525ms/step - loss: 0.6774 - accuracy: 0.8289 - val_loss: 0.7211 - val_accuracy: 0.8350\n",
            "Epoch 11/25\n",
            "280/280 [==============================] - 146s 523ms/step - loss: 0.6342 - accuracy: 0.8417 - val_loss: 0.6756 - val_accuracy: 0.8114\n",
            "Epoch 12/25\n",
            "280/280 [==============================] - 146s 523ms/step - loss: 0.5993 - accuracy: 0.8523 - val_loss: 0.7190 - val_accuracy: 0.8363\n",
            "Epoch 13/25\n",
            "280/280 [==============================] - 145s 519ms/step - loss: 0.5712 - accuracy: 0.8591 - val_loss: 0.4070 - val_accuracy: 0.8542\n",
            "Epoch 14/25\n",
            "280/280 [==============================] - 146s 522ms/step - loss: 0.5406 - accuracy: 0.8659 - val_loss: 0.5038 - val_accuracy: 0.8739\n",
            "Epoch 15/25\n",
            "280/280 [==============================] - 146s 520ms/step - loss: 0.5137 - accuracy: 0.8755 - val_loss: 0.6594 - val_accuracy: 0.8429\n",
            "Epoch 16/25\n",
            "280/280 [==============================] - 146s 520ms/step - loss: 0.4920 - accuracy: 0.8800 - val_loss: 0.5957 - val_accuracy: 0.8882\n",
            "Epoch 17/25\n",
            "280/280 [==============================] - 145s 519ms/step - loss: 0.4706 - accuracy: 0.8884 - val_loss: 0.4673 - val_accuracy: 0.8830\n",
            "Epoch 18/25\n",
            "280/280 [==============================] - 145s 519ms/step - loss: 0.4466 - accuracy: 0.8931 - val_loss: 0.5050 - val_accuracy: 0.8873\n",
            "Epoch 19/25\n",
            "280/280 [==============================] - 144s 515ms/step - loss: 0.4376 - accuracy: 0.8926 - val_loss: 0.3461 - val_accuracy: 0.9049\n",
            "Epoch 20/25\n",
            "280/280 [==============================] - 146s 522ms/step - loss: 0.4166 - accuracy: 0.9018 - val_loss: 0.7066 - val_accuracy: 0.8488\n",
            "Epoch 21/25\n",
            "280/280 [==============================] - 146s 521ms/step - loss: 0.3918 - accuracy: 0.9087 - val_loss: 0.3391 - val_accuracy: 0.8938\n",
            "Epoch 22/25\n",
            "280/280 [==============================] - 145s 516ms/step - loss: 0.3854 - accuracy: 0.9100 - val_loss: 0.3143 - val_accuracy: 0.9187\n",
            "Epoch 23/25\n",
            "280/280 [==============================] - 145s 517ms/step - loss: 0.3617 - accuracy: 0.9173 - val_loss: 0.3943 - val_accuracy: 0.9074\n",
            "Epoch 24/25\n",
            "280/280 [==============================] - 145s 519ms/step - loss: 0.3587 - accuracy: 0.9174 - val_loss: 0.3670 - val_accuracy: 0.9255\n",
            "Epoch 25/25\n",
            "280/280 [==============================] - 145s 518ms/step - loss: 0.3403 - accuracy: 0.9234 - val_loss: 0.3557 - val_accuracy: 0.9142\n"
          ],
          "name": "stdout"
        }
      ]
    },
    {
      "cell_type": "code",
      "metadata": {
        "id": "tbF2piE-DbY1",
        "colab_type": "code",
        "colab": {
          "base_uri": "https://localhost:8080/",
          "height": 545
        },
        "outputId": "262be654-2817-4e6e-a0bf-73bdbac5ef0f"
      },
      "source": [
        "# Plot\n",
        "acc = history.history['accuracy']\n",
        "val_acc = history.history['val_accuracy']\n",
        "loss = history.history['loss']\n",
        "val_loss = history.history['val_loss']\n",
        "epochs = range(1, len(acc) + 1)\n",
        "plt.plot(epochs, acc, 'bo', label='Training acc')\n",
        "plt.plot(epochs, val_acc, 'b', label='Validation acc')\n",
        "plt.title('Training and validation accuracy')\n",
        "plt.legend()\n",
        "plt.figure()\n",
        "plt.plot(epochs, loss, 'bo', label='Training loss')\n",
        "plt.plot(epochs, val_loss, 'b', label='Validation loss')\n",
        "plt.title('Training and validation loss')\n",
        "plt.legend()\n",
        "plt.show()"
      ],
      "execution_count": 7,
      "outputs": [
        {
          "output_type": "display_data",
          "data": {
            "image/png": "[encoded data removed]",
            "text/plain": [
              "<Figure size 432x288 with 1 Axes>"
            ]
          },
          "metadata": {
            "tags": [],
            "needs_background": "light"
          }
        },
        {
          "output_type": "display_data",
          "data": {
            "image/png": "[encoded data removed]",
            "text/plain": [
              "<Figure size 432x288 with 1 Axes>"
            ]
          },
          "metadata": {
            "tags": [],
            "needs_background": "light"
          }
        }
      ]
    },
    {
      "cell_type": "code",
      "metadata": {
        "id": "fwjjfpV9KB7y",
        "colab_type": "code",
        "colab": {
          "base_uri": "https://localhost:8080/",
          "height": 935
        },
        "outputId": "bb441126-d64b-46d5-8dc9-ab2304273fe0"
      },
      "source": [
        "# initialize our own sequential model\n",
        "model_v2 = Sequential()\n",
        "\n",
        "# copy every layer except the predictions layer\n",
        "for layer in vgg16_model.layers[:-1]:\n",
        "  model_v2.add(layer)\n",
        "\n",
        "# make weights fixed since these layers are already fine-tuned\n",
        "for layer in model_v2.layers:\n",
        "  layer.trainable = False\n",
        "\n",
        "# add our own output layer\n",
        "model_v2.add(Dense(10))\n",
        "model_v2.add(Activation('softmax'))\n",
        "\n",
        "model_v2.summary()"
      ],
      "execution_count": 16,
      "outputs": [
        {
          "output_type": "stream",
          "text": [
            "Model: \"sequential_4\"\n",
            "_________________________________________________________________\n",
            "Layer (type)                 Output Shape              Param #   \n",
            "=================================================================\n",
            "block1_conv1 (Conv2D)        (None, 224, 224, 64)      1792      \n",
            "_________________________________________________________________\n",
            "block1_conv2 (Conv2D)        (None, 224, 224, 64)      36928     \n",
            "_________________________________________________________________\n",
            "block1_pool (MaxPooling2D)   (None, 112, 112, 64)      0         \n",
            "_________________________________________________________________\n",
            "block2_conv1 (Conv2D)        (None, 112, 112, 128)     73856     \n",
            "_________________________________________________________________\n",
            "block2_conv2 (Conv2D)        (None, 112, 112, 128)     147584    \n",
            "_________________________________________________________________\n",
            "block2_pool (MaxPooling2D)   (None, 56, 56, 128)       0         \n",
            "_________________________________________________________________\n",
            "block3_conv1 (Conv2D)        (None, 56, 56, 256)       295168    \n",
            "_________________________________________________________________\n",
            "block3_conv2 (Conv2D)        (None, 56, 56, 256)       590080    \n",
            "_________________________________________________________________\n",
            "block3_conv3 (Conv2D)        (None, 56, 56, 256)       590080    \n",
            "_________________________________________________________________\n",
            "block3_pool (MaxPooling2D)   (None, 28, 28, 256)       0         \n",
            "_________________________________________________________________\n",
            "block4_conv1 (Conv2D)        (None, 28, 28, 512)       1180160   \n",
            "_________________________________________________________________\n",
            "block4_conv2 (Conv2D)        (None, 28, 28, 512)       2359808   \n",
            "_________________________________________________________________\n",
            "block4_conv3 (Conv2D)        (None, 28, 28, 512)       2359808   \n",
            "_________________________________________________________________\n",
            "block4_pool (MaxPooling2D)   (None, 14, 14, 512)       0         \n",
            "_________________________________________________________________\n",
            "block5_conv1 (Conv2D)        (None, 14, 14, 512)       2359808   \n",
            "_________________________________________________________________\n",
            "block5_conv2 (Conv2D)        (None, 14, 14, 512)       2359808   \n",
            "_________________________________________________________________\n",
            "block5_conv3 (Conv2D)        (None, 14, 14, 512)       2359808   \n",
            "_________________________________________________________________\n",
            "block5_pool (MaxPooling2D)   (None, 7, 7, 512)         0         \n",
            "_________________________________________________________________\n",
            "flatten (Flatten)            (None, 25088)             0         \n",
            "_________________________________________________________________\n",
            "fc1 (Dense)                  (None, 4096)              102764544 \n",
            "_________________________________________________________________\n",
            "fc2 (Dense)                  (None, 4096)              16781312  \n",
            "_________________________________________________________________\n",
            "dense_2 (Dense)              (None, 10)                40970     \n",
            "_________________________________________________________________\n",
            "activation_1 (Activation)    (None, 10)                0         \n",
            "=================================================================\n",
            "Total params: 134,301,514\n",
            "Trainable params: 40,970\n",
            "Non-trainable params: 134,260,544\n",
            "_________________________________________________________________\n"
          ],
          "name": "stdout"
        }
      ]
    },
    {
      "cell_type": "code",
      "metadata": {
        "id": "KQLrm2XWKgt4",
        "colab_type": "code",
        "colab": {}
      },
      "source": [
        "model_v2.compile(Adam(lr=0.0001), loss='categorical_crossentropy', metrics=['accuracy'])"
      ],
      "execution_count": 0,
      "outputs": []
    },
    {
      "cell_type": "code",
      "metadata": {
        "id": "pjvVDyznKxZG",
        "colab_type": "code",
        "colab": {
          "base_uri": "https://localhost:8080/",
          "height": 697
        },
        "outputId": "be9960fb-d3cc-4cb1-cda2-acc4b4562b6a"
      },
      "source": [
        "history_v2 = model_v2.fit_generator(train_generator,\n",
        "                              steps_per_epoch = 17943//64,\n",
        "                              validation_data = val_generator,\n",
        "                              validation_steps = 4481//64,\n",
        "                              epochs = 20,\n",
        "                              verbose = 1)"
      ],
      "execution_count": 18,
      "outputs": [
        {
          "output_type": "stream",
          "text": [
            "Epoch 1/20\n",
            "280/280 [==============================] - 145s 517ms/step - loss: 2.2390 - accuracy: 0.1846 - val_loss: 2.1187 - val_accuracy: 0.2882\n",
            "Epoch 2/20\n",
            "280/280 [==============================] - 147s 526ms/step - loss: 2.0922 - accuracy: 0.3142 - val_loss: 2.0262 - val_accuracy: 0.3607\n",
            "Epoch 3/20\n",
            "280/280 [==============================] - 147s 526ms/step - loss: 1.9787 - accuracy: 0.3851 - val_loss: 1.9792 - val_accuracy: 0.4621\n",
            "Epoch 4/20\n",
            "280/280 [==============================] - 145s 519ms/step - loss: 1.8802 - accuracy: 0.4436 - val_loss: 1.8677 - val_accuracy: 0.4677\n",
            "Epoch 5/20\n",
            "280/280 [==============================] - 145s 519ms/step - loss: 1.8007 - accuracy: 0.4751 - val_loss: 1.7309 - val_accuracy: 0.5114\n",
            "Epoch 6/20\n",
            "280/280 [==============================] - 146s 522ms/step - loss: 1.7300 - accuracy: 0.5032 - val_loss: 1.7183 - val_accuracy: 0.5164\n",
            "Epoch 7/20\n",
            "280/280 [==============================] - 146s 521ms/step - loss: 1.6650 - accuracy: 0.5321 - val_loss: 1.6864 - val_accuracy: 0.5431\n",
            "Epoch 8/20\n",
            "280/280 [==============================] - 146s 520ms/step - loss: 1.6105 - accuracy: 0.5501 - val_loss: 1.5770 - val_accuracy: 0.5209\n",
            "Epoch 9/20\n",
            "280/280 [==============================] - 145s 519ms/step - loss: 1.5607 - accuracy: 0.5716 - val_loss: 1.4648 - val_accuracy: 0.5721\n",
            "Epoch 10/20\n",
            "280/280 [==============================] - 145s 519ms/step - loss: 1.5116 - accuracy: 0.5870 - val_loss: 1.3356 - val_accuracy: 0.6077\n",
            "Epoch 11/20\n",
            "280/280 [==============================] - 146s 520ms/step - loss: 1.4706 - accuracy: 0.6017 - val_loss: 1.3560 - val_accuracy: 0.5780\n",
            "Epoch 12/20\n",
            "280/280 [==============================] - 145s 519ms/step - loss: 1.4297 - accuracy: 0.6169 - val_loss: 1.4893 - val_accuracy: 0.6260\n",
            "Epoch 13/20\n",
            "280/280 [==============================] - 145s 519ms/step - loss: 1.3928 - accuracy: 0.6270 - val_loss: 1.4018 - val_accuracy: 0.6448\n",
            "Epoch 14/20\n",
            "280/280 [==============================] - 145s 518ms/step - loss: 1.3596 - accuracy: 0.6376 - val_loss: 1.3690 - val_accuracy: 0.6344\n",
            "Epoch 15/20\n",
            "280/280 [==============================] - 145s 518ms/step - loss: 1.3290 - accuracy: 0.6491 - val_loss: 1.2689 - val_accuracy: 0.6627\n",
            "Epoch 16/20\n",
            "280/280 [==============================] - 145s 517ms/step - loss: 1.2946 - accuracy: 0.6619 - val_loss: 1.3784 - val_accuracy: 0.6624\n",
            "Epoch 17/20\n",
            "280/280 [==============================] - 145s 516ms/step - loss: 1.2669 - accuracy: 0.6693 - val_loss: 1.2361 - val_accuracy: 0.6749\n",
            "Epoch 18/20\n",
            "280/280 [==============================] - 144s 515ms/step - loss: 1.2423 - accuracy: 0.6746 - val_loss: 1.2326 - val_accuracy: 0.6926\n",
            "Epoch 19/20\n",
            "280/280 [==============================] - 145s 517ms/step - loss: 1.2139 - accuracy: 0.6885 - val_loss: 1.1222 - val_accuracy: 0.6953\n",
            "Epoch 20/20\n",
            "280/280 [==============================] - 144s 515ms/step - loss: 1.1910 - accuracy: 0.6965 - val_loss: 1.2278 - val_accuracy: 0.6928\n"
          ],
          "name": "stdout"
        }
      ]
    },
    {
      "cell_type": "code",
      "metadata": {
        "id": "b_UKkhNJK54l",
        "colab_type": "code",
        "colab": {
          "base_uri": "https://localhost:8080/",
          "height": 697
        },
        "outputId": "09ca6f4e-d93d-4b09-f3b0-403262da754e"
      },
      "source": [
        "history_v2_2 = model_v2.fit_generator(train_generator,\n",
        "                              steps_per_epoch = 17943//64,\n",
        "                              validation_data = val_generator,\n",
        "                              validation_steps = 4481//64,\n",
        "                              epochs = 20,\n",
        "                              verbose = 1)"
      ],
      "execution_count": 19,
      "outputs": [
        {
          "output_type": "stream",
          "text": [
            "Epoch 1/20\n",
            "280/280 [==============================] - 145s 516ms/step - loss: 1.1644 - accuracy: 0.7068 - val_loss: 1.0866 - val_accuracy: 0.7092\n",
            "Epoch 2/20\n",
            "280/280 [==============================] - 146s 521ms/step - loss: 1.1445 - accuracy: 0.7122 - val_loss: 1.1861 - val_accuracy: 0.7161\n",
            "Epoch 3/20\n",
            "280/280 [==============================] - 146s 521ms/step - loss: 1.1227 - accuracy: 0.7179 - val_loss: 0.9942 - val_accuracy: 0.7240\n",
            "Epoch 4/20\n",
            "280/280 [==============================] - 146s 522ms/step - loss: 1.1032 - accuracy: 0.7276 - val_loss: 1.0267 - val_accuracy: 0.7304\n",
            "Epoch 5/20\n",
            "280/280 [==============================] - 146s 522ms/step - loss: 1.0824 - accuracy: 0.7326 - val_loss: 1.0293 - val_accuracy: 0.7408\n",
            "Epoch 6/20\n",
            "280/280 [==============================] - 145s 518ms/step - loss: 1.0654 - accuracy: 0.7359 - val_loss: 0.8548 - val_accuracy: 0.7403\n",
            "Epoch 7/20\n",
            "280/280 [==============================] - 145s 518ms/step - loss: 1.0448 - accuracy: 0.7438 - val_loss: 1.0166 - val_accuracy: 0.7383\n",
            "Epoch 8/20\n",
            "280/280 [==============================] - 145s 519ms/step - loss: 1.0287 - accuracy: 0.7488 - val_loss: 0.9613 - val_accuracy: 0.7467\n",
            "Epoch 9/20\n",
            "280/280 [==============================] - 145s 518ms/step - loss: 1.0103 - accuracy: 0.7564 - val_loss: 0.9874 - val_accuracy: 0.7666\n",
            "Epoch 10/20\n",
            "280/280 [==============================] - 145s 519ms/step - loss: 0.9934 - accuracy: 0.7601 - val_loss: 1.0492 - val_accuracy: 0.7553\n",
            "Epoch 11/20\n",
            "280/280 [==============================] - 145s 518ms/step - loss: 0.9764 - accuracy: 0.7677 - val_loss: 0.9733 - val_accuracy: 0.7593\n",
            "Epoch 12/20\n",
            "280/280 [==============================] - 145s 519ms/step - loss: 0.9650 - accuracy: 0.7678 - val_loss: 1.0201 - val_accuracy: 0.7591\n",
            "Epoch 13/20\n",
            "280/280 [==============================] - 144s 515ms/step - loss: 0.9489 - accuracy: 0.7760 - val_loss: 0.8870 - val_accuracy: 0.7763\n",
            "Epoch 14/20\n",
            "280/280 [==============================] - 144s 515ms/step - loss: 0.9359 - accuracy: 0.7803 - val_loss: 0.9401 - val_accuracy: 0.7786\n",
            "Epoch 15/20\n",
            "280/280 [==============================] - 143s 512ms/step - loss: 0.9193 - accuracy: 0.7817 - val_loss: 1.0628 - val_accuracy: 0.7851\n",
            "Epoch 16/20\n",
            "280/280 [==============================] - 143s 512ms/step - loss: 0.9083 - accuracy: 0.7863 - val_loss: 1.0485 - val_accuracy: 0.7799\n",
            "Epoch 17/20\n",
            "280/280 [==============================] - 143s 512ms/step - loss: 0.8936 - accuracy: 0.7916 - val_loss: 0.9852 - val_accuracy: 0.7870\n",
            "Epoch 18/20\n",
            "280/280 [==============================] - 144s 513ms/step - loss: 0.8809 - accuracy: 0.7957 - val_loss: 0.7376 - val_accuracy: 0.7960\n",
            "Epoch 19/20\n",
            "280/280 [==============================] - 144s 514ms/step - loss: 0.8669 - accuracy: 0.7986 - val_loss: 0.7320 - val_accuracy: 0.7901\n",
            "Epoch 20/20\n",
            "280/280 [==============================] - 144s 514ms/step - loss: 0.8585 - accuracy: 0.8003 - val_loss: 0.8051 - val_accuracy: 0.8024\n"
          ],
          "name": "stdout"
        }
      ]
    },
    {
      "cell_type": "code",
      "metadata": {
        "id": "nN7bDKzcW9Jw",
        "colab_type": "code",
        "colab": {
          "base_uri": "https://localhost:8080/",
          "height": 1000
        },
        "outputId": "93a30c99-e2e8-49fa-fe8c-dd6c4a18574b"
      },
      "source": [
        "history_v2_3 = model_v2.fit_generator(train_generator,\n",
        "                              steps_per_epoch = 17943//64,\n",
        "                              validation_data = val_generator,\n",
        "                              validation_steps = 4481//64,\n",
        "                              epochs = 160,\n",
        "                              verbose = 1)"
      ],
      "execution_count": 20,
      "outputs": [
        {
          "output_type": "stream",
          "text": [
            "Epoch 1/160\n",
            "280/280 [==============================] - 145s 517ms/step - loss: 0.8465 - accuracy: 0.8053 - val_loss: 0.8793 - val_accuracy: 0.7993\n",
            "Epoch 2/160\n",
            "280/280 [==============================] - 145s 520ms/step - loss: 0.8326 - accuracy: 0.8097 - val_loss: 0.9626 - val_accuracy: 0.8067\n",
            "Epoch 3/160\n",
            "280/280 [==============================] - 145s 517ms/step - loss: 0.8251 - accuracy: 0.8087 - val_loss: 0.7876 - val_accuracy: 0.8030\n",
            "Epoch 4/160\n",
            "280/280 [==============================] - 145s 517ms/step - loss: 0.8153 - accuracy: 0.8119 - val_loss: 0.9567 - val_accuracy: 0.8114\n",
            "Epoch 5/160\n",
            "280/280 [==============================] - 145s 516ms/step - loss: 0.8015 - accuracy: 0.8181 - val_loss: 0.8674 - val_accuracy: 0.8144\n",
            "Epoch 6/160\n",
            "280/280 [==============================] - 145s 518ms/step - loss: 0.7914 - accuracy: 0.8209 - val_loss: 0.7639 - val_accuracy: 0.8153\n",
            "Epoch 7/160\n",
            "280/280 [==============================] - 145s 518ms/step - loss: 0.7832 - accuracy: 0.8239 - val_loss: 0.7946 - val_accuracy: 0.8211\n",
            "Epoch 8/160\n",
            "280/280 [==============================] - 145s 518ms/step - loss: 0.7727 - accuracy: 0.8246 - val_loss: 0.9632 - val_accuracy: 0.8189\n",
            "Epoch 9/160\n",
            "280/280 [==============================] - 145s 519ms/step - loss: 0.7630 - accuracy: 0.8274 - val_loss: 0.7008 - val_accuracy: 0.8141\n",
            "Epoch 10/160\n",
            "280/280 [==============================] - 145s 518ms/step - loss: 0.7541 - accuracy: 0.8315 - val_loss: 0.7395 - val_accuracy: 0.8239\n",
            "Epoch 11/160\n",
            "280/280 [==============================] - 146s 521ms/step - loss: 0.7471 - accuracy: 0.8319 - val_loss: 0.7171 - val_accuracy: 0.8309\n",
            "Epoch 12/160\n",
            "280/280 [==============================] - 146s 521ms/step - loss: 0.7351 - accuracy: 0.8368 - val_loss: 0.7710 - val_accuracy: 0.8243\n",
            "Epoch 13/160\n",
            "280/280 [==============================] - 145s 519ms/step - loss: 0.7302 - accuracy: 0.8364 - val_loss: 0.8562 - val_accuracy: 0.8361\n",
            "Epoch 14/160\n",
            "280/280 [==============================] - 144s 516ms/step - loss: 0.7223 - accuracy: 0.8400 - val_loss: 0.6205 - val_accuracy: 0.8295\n",
            "Epoch 15/160\n",
            "280/280 [==============================] - 145s 516ms/step - loss: 0.7127 - accuracy: 0.8420 - val_loss: 0.6977 - val_accuracy: 0.8356\n",
            "Epoch 16/160\n",
            "280/280 [==============================] - 144s 515ms/step - loss: 0.7074 - accuracy: 0.8429 - val_loss: 0.8223 - val_accuracy: 0.8440\n",
            "Epoch 17/160\n",
            "280/280 [==============================] - 144s 514ms/step - loss: 0.6953 - accuracy: 0.8459 - val_loss: 0.6676 - val_accuracy: 0.8395\n",
            "Epoch 18/160\n",
            "280/280 [==============================] - 144s 515ms/step - loss: 0.6919 - accuracy: 0.8456 - val_loss: 0.6755 - val_accuracy: 0.8374\n",
            "Epoch 19/160\n",
            "280/280 [==============================] - 144s 514ms/step - loss: 0.6796 - accuracy: 0.8508 - val_loss: 0.7347 - val_accuracy: 0.8481\n",
            "Epoch 20/160\n",
            "280/280 [==============================] - 144s 515ms/step - loss: 0.6778 - accuracy: 0.8505 - val_loss: 0.6979 - val_accuracy: 0.8490\n",
            "Epoch 21/160\n",
            " 80/280 [=======>......................] - ETA: 1:21 - loss: 0.6596 - accuracy: 0.8549"
          ],
          "name": "stdout"
        },
        {
          "output_type": "error",
          "ename": "KeyboardInterrupt",
          "evalue": "ignored",
          "traceback": [
            "\u001b[0;31m---------------------------------------------------------------------------\u001b[0m",
            "\u001b[0;31mKeyboardInterrupt\u001b[0m                         Traceback (most recent call last)",
            "\u001b[0;32m<ipython-input-20-8c75e4c56348>\u001b[0m in \u001b[0;36m<module>\u001b[0;34m()\u001b[0m\n\u001b[1;32m      4\u001b[0m                               \u001b[0mvalidation_steps\u001b[0m \u001b[0;34m=\u001b[0m \u001b[0;36m4481\u001b[0m\u001b[0;34m//\u001b[0m\u001b[0;36m64\u001b[0m\u001b[0;34m,\u001b[0m\u001b[0;34m\u001b[0m\u001b[0;34m\u001b[0m\u001b[0m\n\u001b[1;32m      5\u001b[0m                               \u001b[0mepochs\u001b[0m \u001b[0;34m=\u001b[0m \u001b[0;36m160\u001b[0m\u001b[0;34m,\u001b[0m\u001b[0;34m\u001b[0m\u001b[0;34m\u001b[0m\u001b[0m\n\u001b[0;32m----> 6\u001b[0;31m                               verbose = 1)\n\u001b[0m",
            "\u001b[0;32m/usr/local/lib/python3.6/dist-packages/keras/legacy/interfaces.py\u001b[0m in \u001b[0;36mwrapper\u001b[0;34m(*args, **kwargs)\u001b[0m\n\u001b[1;32m     89\u001b[0m                 warnings.warn('Update your `' + object_name + '` call to the ' +\n\u001b[1;32m     90\u001b[0m                               'Keras 2 API: ' + signature, stacklevel=2)\n\u001b[0;32m---> 91\u001b[0;31m             \u001b[0;32mreturn\u001b[0m \u001b[0mfunc\u001b[0m\u001b[0;34m(\u001b[0m\u001b[0;34m*\u001b[0m\u001b[0margs\u001b[0m\u001b[0;34m,\u001b[0m \u001b[0;34m**\u001b[0m\u001b[0mkwargs\u001b[0m\u001b[0;34m)\u001b[0m\u001b[0;34m\u001b[0m\u001b[0;34m\u001b[0m\u001b[0m\n\u001b[0m\u001b[1;32m     92\u001b[0m         \u001b[0mwrapper\u001b[0m\u001b[0;34m.\u001b[0m\u001b[0m_original_function\u001b[0m \u001b[0;34m=\u001b[0m \u001b[0mfunc\u001b[0m\u001b[0;34m\u001b[0m\u001b[0;34m\u001b[0m\u001b[0m\n\u001b[1;32m     93\u001b[0m         \u001b[0;32mreturn\u001b[0m \u001b[0mwrapper\u001b[0m\u001b[0;34m\u001b[0m\u001b[0;34m\u001b[0m\u001b[0m\n",
            "\u001b[0;32m/usr/local/lib/python3.6/dist-packages/keras/engine/training.py\u001b[0m in \u001b[0;36mfit_generator\u001b[0;34m(self, generator, steps_per_epoch, epochs, verbose, callbacks, validation_data, validation_steps, validation_freq, class_weight, max_queue_size, workers, use_multiprocessing, shuffle, initial_epoch)\u001b[0m\n\u001b[1;32m   1730\u001b[0m             \u001b[0muse_multiprocessing\u001b[0m\u001b[0;34m=\u001b[0m\u001b[0muse_multiprocessing\u001b[0m\u001b[0;34m,\u001b[0m\u001b[0;34m\u001b[0m\u001b[0;34m\u001b[0m\u001b[0m\n\u001b[1;32m   1731\u001b[0m             \u001b[0mshuffle\u001b[0m\u001b[0;34m=\u001b[0m\u001b[0mshuffle\u001b[0m\u001b[0;34m,\u001b[0m\u001b[0;34m\u001b[0m\u001b[0;34m\u001b[0m\u001b[0m\n\u001b[0;32m-> 1732\u001b[0;31m             initial_epoch=initial_epoch)\n\u001b[0m\u001b[1;32m   1733\u001b[0m \u001b[0;34m\u001b[0m\u001b[0m\n\u001b[1;32m   1734\u001b[0m     \u001b[0;34m@\u001b[0m\u001b[0minterfaces\u001b[0m\u001b[0;34m.\u001b[0m\u001b[0mlegacy_generator_methods_support\u001b[0m\u001b[0;34m\u001b[0m\u001b[0;34m\u001b[0m\u001b[0m\n",
            "\u001b[0;32m/usr/local/lib/python3.6/dist-packages/keras/engine/training_generator.py\u001b[0m in \u001b[0;36mfit_generator\u001b[0;34m(model, generator, steps_per_epoch, epochs, verbose, callbacks, validation_data, validation_steps, validation_freq, class_weight, max_queue_size, workers, use_multiprocessing, shuffle, initial_epoch)\u001b[0m\n\u001b[1;32m    218\u001b[0m                                             \u001b[0msample_weight\u001b[0m\u001b[0;34m=\u001b[0m\u001b[0msample_weight\u001b[0m\u001b[0;34m,\u001b[0m\u001b[0;34m\u001b[0m\u001b[0;34m\u001b[0m\u001b[0m\n\u001b[1;32m    219\u001b[0m                                             \u001b[0mclass_weight\u001b[0m\u001b[0;34m=\u001b[0m\u001b[0mclass_weight\u001b[0m\u001b[0;34m,\u001b[0m\u001b[0;34m\u001b[0m\u001b[0;34m\u001b[0m\u001b[0m\n\u001b[0;32m--> 220\u001b[0;31m                                             reset_metrics=False)\n\u001b[0m\u001b[1;32m    221\u001b[0m \u001b[0;34m\u001b[0m\u001b[0m\n\u001b[1;32m    222\u001b[0m                 \u001b[0mouts\u001b[0m \u001b[0;34m=\u001b[0m \u001b[0mto_list\u001b[0m\u001b[0;34m(\u001b[0m\u001b[0mouts\u001b[0m\u001b[0;34m)\u001b[0m\u001b[0;34m\u001b[0m\u001b[0;34m\u001b[0m\u001b[0m\n",
            "\u001b[0;32m/usr/local/lib/python3.6/dist-packages/keras/engine/training.py\u001b[0m in \u001b[0;36mtrain_on_batch\u001b[0;34m(self, x, y, sample_weight, class_weight, reset_metrics)\u001b[0m\n\u001b[1;32m   1512\u001b[0m             \u001b[0mins\u001b[0m \u001b[0;34m=\u001b[0m \u001b[0mx\u001b[0m \u001b[0;34m+\u001b[0m \u001b[0my\u001b[0m \u001b[0;34m+\u001b[0m \u001b[0msample_weights\u001b[0m\u001b[0;34m\u001b[0m\u001b[0;34m\u001b[0m\u001b[0m\n\u001b[1;32m   1513\u001b[0m         \u001b[0mself\u001b[0m\u001b[0;34m.\u001b[0m\u001b[0m_make_train_function\u001b[0m\u001b[0;34m(\u001b[0m\u001b[0;34m)\u001b[0m\u001b[0;34m\u001b[0m\u001b[0;34m\u001b[0m\u001b[0m\n\u001b[0;32m-> 1514\u001b[0;31m         \u001b[0moutputs\u001b[0m \u001b[0;34m=\u001b[0m \u001b[0mself\u001b[0m\u001b[0;34m.\u001b[0m\u001b[0mtrain_function\u001b[0m\u001b[0;34m(\u001b[0m\u001b[0mins\u001b[0m\u001b[0;34m)\u001b[0m\u001b[0;34m\u001b[0m\u001b[0;34m\u001b[0m\u001b[0m\n\u001b[0m\u001b[1;32m   1515\u001b[0m \u001b[0;34m\u001b[0m\u001b[0m\n\u001b[1;32m   1516\u001b[0m         \u001b[0;32mif\u001b[0m \u001b[0mreset_metrics\u001b[0m\u001b[0;34m:\u001b[0m\u001b[0;34m\u001b[0m\u001b[0;34m\u001b[0m\u001b[0m\n",
            "\u001b[0;32m/usr/local/lib/python3.6/dist-packages/tensorflow/python/keras/backend.py\u001b[0m in \u001b[0;36m__call__\u001b[0;34m(self, inputs)\u001b[0m\n\u001b[1;32m   3790\u001b[0m         \u001b[0mvalue\u001b[0m \u001b[0;34m=\u001b[0m \u001b[0mmath_ops\u001b[0m\u001b[0;34m.\u001b[0m\u001b[0mcast\u001b[0m\u001b[0;34m(\u001b[0m\u001b[0mvalue\u001b[0m\u001b[0;34m,\u001b[0m \u001b[0mtensor\u001b[0m\u001b[0;34m.\u001b[0m\u001b[0mdtype\u001b[0m\u001b[0;34m)\u001b[0m\u001b[0;34m\u001b[0m\u001b[0;34m\u001b[0m\u001b[0m\n\u001b[1;32m   3791\u001b[0m       \u001b[0mconverted_inputs\u001b[0m\u001b[0;34m.\u001b[0m\u001b[0mappend\u001b[0m\u001b[0;34m(\u001b[0m\u001b[0mvalue\u001b[0m\u001b[0;34m)\u001b[0m\u001b[0;34m\u001b[0m\u001b[0;34m\u001b[0m\u001b[0m\n\u001b[0;32m-> 3792\u001b[0;31m     \u001b[0moutputs\u001b[0m \u001b[0;34m=\u001b[0m \u001b[0mself\u001b[0m\u001b[0;34m.\u001b[0m\u001b[0m_graph_fn\u001b[0m\u001b[0;34m(\u001b[0m\u001b[0;34m*\u001b[0m\u001b[0mconverted_inputs\u001b[0m\u001b[0;34m)\u001b[0m\u001b[0;34m\u001b[0m\u001b[0;34m\u001b[0m\u001b[0m\n\u001b[0m\u001b[1;32m   3793\u001b[0m \u001b[0;34m\u001b[0m\u001b[0m\n\u001b[1;32m   3794\u001b[0m     \u001b[0;31m# EagerTensor.numpy() will often make a copy to ensure memory safety.\u001b[0m\u001b[0;34m\u001b[0m\u001b[0;34m\u001b[0m\u001b[0;34m\u001b[0m\u001b[0m\n",
            "\u001b[0;32m/usr/local/lib/python3.6/dist-packages/tensorflow/python/eager/function.py\u001b[0m in \u001b[0;36m__call__\u001b[0;34m(self, *args, **kwargs)\u001b[0m\n\u001b[1;32m   1603\u001b[0m       \u001b[0mTypeError\u001b[0m\u001b[0;34m:\u001b[0m \u001b[0mFor\u001b[0m \u001b[0minvalid\u001b[0m \u001b[0mpositional\u001b[0m\u001b[0;34m/\u001b[0m\u001b[0mkeyword\u001b[0m \u001b[0margument\u001b[0m \u001b[0mcombinations\u001b[0m\u001b[0;34m.\u001b[0m\u001b[0;34m\u001b[0m\u001b[0;34m\u001b[0m\u001b[0m\n\u001b[1;32m   1604\u001b[0m     \"\"\"\n\u001b[0;32m-> 1605\u001b[0;31m     \u001b[0;32mreturn\u001b[0m \u001b[0mself\u001b[0m\u001b[0;34m.\u001b[0m\u001b[0m_call_impl\u001b[0m\u001b[0;34m(\u001b[0m\u001b[0margs\u001b[0m\u001b[0;34m,\u001b[0m \u001b[0mkwargs\u001b[0m\u001b[0;34m)\u001b[0m\u001b[0;34m\u001b[0m\u001b[0;34m\u001b[0m\u001b[0m\n\u001b[0m\u001b[1;32m   1606\u001b[0m \u001b[0;34m\u001b[0m\u001b[0m\n\u001b[1;32m   1607\u001b[0m   \u001b[0;32mdef\u001b[0m \u001b[0m_call_impl\u001b[0m\u001b[0;34m(\u001b[0m\u001b[0mself\u001b[0m\u001b[0;34m,\u001b[0m \u001b[0margs\u001b[0m\u001b[0;34m,\u001b[0m \u001b[0mkwargs\u001b[0m\u001b[0;34m,\u001b[0m \u001b[0mcancellation_manager\u001b[0m\u001b[0;34m=\u001b[0m\u001b[0;32mNone\u001b[0m\u001b[0;34m)\u001b[0m\u001b[0;34m:\u001b[0m\u001b[0;34m\u001b[0m\u001b[0;34m\u001b[0m\u001b[0m\n",
            "\u001b[0;32m/usr/local/lib/python3.6/dist-packages/tensorflow/python/eager/function.py\u001b[0m in \u001b[0;36m_call_impl\u001b[0;34m(self, args, kwargs, cancellation_manager)\u001b[0m\n\u001b[1;32m   1643\u001b[0m       raise TypeError(\"Keyword arguments {} unknown. Expected {}.\".format(\n\u001b[1;32m   1644\u001b[0m           list(kwargs.keys()), list(self._arg_keywords)))\n\u001b[0;32m-> 1645\u001b[0;31m     \u001b[0;32mreturn\u001b[0m \u001b[0mself\u001b[0m\u001b[0;34m.\u001b[0m\u001b[0m_call_flat\u001b[0m\u001b[0;34m(\u001b[0m\u001b[0margs\u001b[0m\u001b[0;34m,\u001b[0m \u001b[0mself\u001b[0m\u001b[0;34m.\u001b[0m\u001b[0mcaptured_inputs\u001b[0m\u001b[0;34m,\u001b[0m \u001b[0mcancellation_manager\u001b[0m\u001b[0;34m)\u001b[0m\u001b[0;34m\u001b[0m\u001b[0;34m\u001b[0m\u001b[0m\n\u001b[0m\u001b[1;32m   1646\u001b[0m \u001b[0;34m\u001b[0m\u001b[0m\n\u001b[1;32m   1647\u001b[0m   \u001b[0;32mdef\u001b[0m \u001b[0m_filtered_call\u001b[0m\u001b[0;34m(\u001b[0m\u001b[0mself\u001b[0m\u001b[0;34m,\u001b[0m \u001b[0margs\u001b[0m\u001b[0;34m,\u001b[0m \u001b[0mkwargs\u001b[0m\u001b[0;34m)\u001b[0m\u001b[0;34m:\u001b[0m\u001b[0;34m\u001b[0m\u001b[0;34m\u001b[0m\u001b[0m\n",
            "\u001b[0;32m/usr/local/lib/python3.6/dist-packages/tensorflow/python/eager/function.py\u001b[0m in \u001b[0;36m_call_flat\u001b[0;34m(self, args, captured_inputs, cancellation_manager)\u001b[0m\n\u001b[1;32m   1744\u001b[0m       \u001b[0;31m# No tape is watching; skip to running the function.\u001b[0m\u001b[0;34m\u001b[0m\u001b[0;34m\u001b[0m\u001b[0;34m\u001b[0m\u001b[0m\n\u001b[1;32m   1745\u001b[0m       return self._build_call_outputs(self._inference_function.call(\n\u001b[0;32m-> 1746\u001b[0;31m           ctx, args, cancellation_manager=cancellation_manager))\n\u001b[0m\u001b[1;32m   1747\u001b[0m     forward_backward = self._select_forward_and_backward_functions(\n\u001b[1;32m   1748\u001b[0m         \u001b[0margs\u001b[0m\u001b[0;34m,\u001b[0m\u001b[0;34m\u001b[0m\u001b[0;34m\u001b[0m\u001b[0m\n",
            "\u001b[0;32m/usr/local/lib/python3.6/dist-packages/tensorflow/python/eager/function.py\u001b[0m in \u001b[0;36mcall\u001b[0;34m(self, ctx, args, cancellation_manager)\u001b[0m\n\u001b[1;32m    596\u001b[0m               \u001b[0minputs\u001b[0m\u001b[0;34m=\u001b[0m\u001b[0margs\u001b[0m\u001b[0;34m,\u001b[0m\u001b[0;34m\u001b[0m\u001b[0;34m\u001b[0m\u001b[0m\n\u001b[1;32m    597\u001b[0m               \u001b[0mattrs\u001b[0m\u001b[0;34m=\u001b[0m\u001b[0mattrs\u001b[0m\u001b[0;34m,\u001b[0m\u001b[0;34m\u001b[0m\u001b[0;34m\u001b[0m\u001b[0m\n\u001b[0;32m--> 598\u001b[0;31m               ctx=ctx)\n\u001b[0m\u001b[1;32m    599\u001b[0m         \u001b[0;32melse\u001b[0m\u001b[0;34m:\u001b[0m\u001b[0;34m\u001b[0m\u001b[0;34m\u001b[0m\u001b[0m\n\u001b[1;32m    600\u001b[0m           outputs = execute.execute_with_cancellation(\n",
            "\u001b[0;32m/usr/local/lib/python3.6/dist-packages/tensorflow/python/eager/execute.py\u001b[0m in \u001b[0;36mquick_execute\u001b[0;34m(op_name, num_outputs, inputs, attrs, ctx, name)\u001b[0m\n\u001b[1;32m     58\u001b[0m     \u001b[0mctx\u001b[0m\u001b[0;34m.\u001b[0m\u001b[0mensure_initialized\u001b[0m\u001b[0;34m(\u001b[0m\u001b[0;34m)\u001b[0m\u001b[0;34m\u001b[0m\u001b[0;34m\u001b[0m\u001b[0m\n\u001b[1;32m     59\u001b[0m     tensors = pywrap_tfe.TFE_Py_Execute(ctx._handle, device_name, op_name,\n\u001b[0;32m---> 60\u001b[0;31m                                         inputs, attrs, num_outputs)\n\u001b[0m\u001b[1;32m     61\u001b[0m   \u001b[0;32mexcept\u001b[0m \u001b[0mcore\u001b[0m\u001b[0;34m.\u001b[0m\u001b[0m_NotOkStatusException\u001b[0m \u001b[0;32mas\u001b[0m \u001b[0me\u001b[0m\u001b[0;34m:\u001b[0m\u001b[0;34m\u001b[0m\u001b[0;34m\u001b[0m\u001b[0m\n\u001b[1;32m     62\u001b[0m     \u001b[0;32mif\u001b[0m \u001b[0mname\u001b[0m \u001b[0;32mis\u001b[0m \u001b[0;32mnot\u001b[0m \u001b[0;32mNone\u001b[0m\u001b[0;34m:\u001b[0m\u001b[0;34m\u001b[0m\u001b[0;34m\u001b[0m\u001b[0m\n",
            "\u001b[0;31mKeyboardInterrupt\u001b[0m: "
          ]
        }
      ]
    },
    {
      "cell_type": "code",
      "metadata": {
        "id": "GotcQLX6kpDT",
        "colab_type": "code",
        "colab": {}
      },
      "source": [
        ""
      ],
      "execution_count": 0,
      "outputs": []
    }
  ]
}