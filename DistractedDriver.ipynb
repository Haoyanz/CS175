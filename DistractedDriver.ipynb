{
  "nbformat": 4,
  "nbformat_minor": 0,
  "metadata": {
    "colab": {
      "name": "DistractedDriver.ipynb",
      "provenance": [],
      "mount_file_id": "https://github.com/Haoyanz/Project-in-AI/blob/master/DistractedDriver.ipynb",
      "authorship_tag": "ABX9TyO4lxhayg/gYm1c4Xmy8e8j",
      "include_colab_link": true
    },
    "kernelspec": {
      "name": "python3",
      "display_name": "Python 3"
    },
    "accelerator": "GPU"
  },
  "cells": [
    {
      "cell_type": "markdown",
      "metadata": {
        "id": "view-in-github",
        "colab_type": "text"
      },
      "source": [
        "<a href=\"https://colab.research.google.com/github/Haoyanz/Project-in-AI/blob/master/DistractedDriver.ipynb\" target=\"_parent\"><img src=\"https://colab.research.google.com/assets/colab-badge.svg\" alt=\"Open In Colab\"/></a>"
      ]
    },
    {
      "cell_type": "code",
      "metadata": {
        "id": "dcImAu0HdBw2",
        "colab_type": "code",
        "outputId": "0ab79814-7d96-481b-d44c-1c163754ecc3",
        "colab": {
          "base_uri": "https://localhost:8080/",
          "height": 34
        }
      },
      "source": [
        "import numpy as np\n",
        "import keras\n",
        "from keras import backend as K\n",
        "from keras.models import Sequential\n",
        "from keras.layers import Dense, Activation, Dropout, Flatten, Conv2D, MaxPooling2D\n",
        "from keras.optimizers import Adam\n",
        "from keras.metrics import categorical_crossentropy\n",
        "from keras.preprocessing.image import ImageDataGenerator\n",
        "from keras.layers.normalization import BatchNormalization\n",
        "from keras.layers.convolutional import *\n",
        "import matplotlib.pyplot as plt\n",
        "from sklearn.metrics import confusion_matrix\n",
        "import itertools\n",
        "from glob import glob\n",
        "import cv2\n",
        "\n",
        "%matplotlib inline"
      ],
      "execution_count": 1,
      "outputs": [
        {
          "output_type": "stream",
          "text": [
            "Using TensorFlow backend.\n"
          ],
          "name": "stderr"
        }
      ]
    },
    {
      "cell_type": "markdown",
      "metadata": {
        "id": "hxDe-z1TCmqg",
        "colab_type": "text"
      },
      "source": [
        "Load Dataset"
      ]
    },
    {
      "cell_type": "code",
      "metadata": {
        "id": "WF8IEt_ldRLd",
        "colab_type": "code",
        "colab": {}
      },
      "source": [
        "!unzip '/content/drive/My Drive/state-farm-distracted-driver-detection.zip'"
      ],
      "execution_count": 0,
      "outputs": []
    },
    {
      "cell_type": "code",
      "metadata": {
        "id": "fdQzPrAg6bt0",
        "colab_type": "code",
        "outputId": "6b0abdc4-c047-4557-bb4d-fd2145d1cb2b",
        "colab": {
          "base_uri": "https://localhost:8080/",
          "height": 51
        }
      },
      "source": [
        "train_datagen = ImageDataGenerator(rescale=1./255, validation_split=0.2)\n",
        "val_datagen = ImageDataGenerator(rescale=1./255, validation_split=0.2)\n",
        "\n",
        "train_generator = train_datagen.flow_from_directory(\n",
        "        '/content/imgs/train',\n",
        "        target_size=(224, 224),\n",
        "        batch_size=64,\n",
        "        class_mode='categorical', subset=\"training\", color_mode='rgb')\n",
        "\n",
        "val_generator = val_datagen.flow_from_directory(\n",
        "        '/content/imgs/train',\n",
        "        target_size=(224, 224),\n",
        "        batch_size=64,\n",
        "        class_mode='categorical', subset=\"validation\",  color_mode='rgb')"
      ],
      "execution_count": 3,
      "outputs": [
        {
          "output_type": "stream",
          "text": [
            "Found 17943 images belonging to 10 classes.\n",
            "Found 4481 images belonging to 10 classes.\n"
          ],
          "name": "stdout"
        }
      ]
    },
    {
      "cell_type": "markdown",
      "metadata": {
        "id": "MoN3nneFhzMy",
        "colab_type": "text"
      },
      "source": [
        "Pytorch Implementation of VGG16 Model"
      ]
    },
    {
      "cell_type": "code",
      "metadata": {
        "id": "icr5cfE1D4Dn",
        "colab_type": "code",
        "colab": {}
      },
      "source": [
        "VGG16 = [64,64,\"M\",128,128,\"M\",256,256,256,\"M\",512,512,512,\"M\",512,512,512,\"M\"]"
      ],
      "execution_count": 0,
      "outputs": []
    },
    {
      "cell_type": "code",
      "metadata": {
        "id": "izGTVo8zKzxT",
        "colab_type": "code",
        "colab": {}
      },
      "source": [
        "class VGG_net(nn.Module):\n",
        "    def __init__(self, in_channels=3, num_classes=10):\n",
        "        super(VGG_net, self).__init__()\n",
        "        self.in_channels = in_channels\n",
        "        self.conv_layers = self.create_conv_layers(VGG16)\n",
        "\n",
        "        self.fcs = nn.Sequential(\n",
        "            nn.Linear(512 * 7 * 7, 4096),\n",
        "            nn.ReLU(),\n",
        "            nn.Dropout(p=0.5),\n",
        "            nn.Linear(4096, 4096),\n",
        "            nn.ReLU(),\n",
        "            nn.Dropout(p=0.5),\n",
        "            nn.Linear(4096, num_classes),\n",
        "        )\n",
        "\n",
        "    def forward(self, x):\n",
        "        x = self.conv_layers(x)\n",
        "        x = x.reshape(x.shape[0], -1)\n",
        "        x = self.fcs(x)\n",
        "        return x\n",
        "\n",
        "    def create_conv_layers(self, architecture):\n",
        "        layers = []\n",
        "        in_channels = self.in_channels\n",
        "\n",
        "        for x in architecture:\n",
        "            if type(x) == int:\n",
        "                out_channels = x\n",
        "\n",
        "                layers += [\n",
        "                    nn.Conv2d(\n",
        "                        in_channels=in_channels,\n",
        "                        out_channels=out_channels,\n",
        "                        kernel_size=(3, 3),\n",
        "                        stride=(1, 1),\n",
        "                        padding=(1, 1),\n",
        "                    ),\n",
        "                    nn.BatchNorm2d(x),\n",
        "                    nn.ReLU(),\n",
        "                ]\n",
        "                in_channels = x\n",
        "            elif x == \"M\":\n",
        "                layers += [nn.MaxPool2d(kernel_size=(2, 2), stride=(2, 2))]\n",
        "\n",
        "        return nn.Sequential(*layers)"
      ],
      "execution_count": 0,
      "outputs": []
    },
    {
      "cell_type": "markdown",
      "metadata": {
        "id": "ar9Hs7PXohFG",
        "colab_type": "text"
      },
      "source": [
        "Fine-tune VGG16 Model"
      ]
    },
    {
      "cell_type": "code",
      "metadata": {
        "id": "XTkqFk1crEk2",
        "colab_type": "code",
        "outputId": "b45776f0-9a2f-4aeb-a41e-c4d9846488b0",
        "colab": {
          "base_uri": "https://localhost:8080/",
          "height": 969
        }
      },
      "source": [
        "# take the fine-tune VGG16 Model\n",
        "vgg16_model = keras.applications.vgg16.VGG16()\n",
        "vgg16_model.summary()"
      ],
      "execution_count": 4,
      "outputs": [
        {
          "output_type": "stream",
          "text": [
            "Downloading data from https://github.com/fchollet/deep-learning-models/releases/download/v0.1/vgg16_weights_tf_dim_ordering_tf_kernels.h5\n",
            "553467904/553467096 [==============================] - 35s 0us/step\n",
            "Model: \"vgg16\"\n",
            "_________________________________________________________________\n",
            "Layer (type)                 Output Shape              Param #   \n",
            "=================================================================\n",
            "input_1 (InputLayer)         (None, 224, 224, 3)       0         \n",
            "_________________________________________________________________\n",
            "block1_conv1 (Conv2D)        (None, 224, 224, 64)      1792      \n",
            "_________________________________________________________________\n",
            "block1_conv2 (Conv2D)        (None, 224, 224, 64)      36928     \n",
            "_________________________________________________________________\n",
            "block1_pool (MaxPooling2D)   (None, 112, 112, 64)      0         \n",
            "_________________________________________________________________\n",
            "block2_conv1 (Conv2D)        (None, 112, 112, 128)     73856     \n",
            "_________________________________________________________________\n",
            "block2_conv2 (Conv2D)        (None, 112, 112, 128)     147584    \n",
            "_________________________________________________________________\n",
            "block2_pool (MaxPooling2D)   (None, 56, 56, 128)       0         \n",
            "_________________________________________________________________\n",
            "block3_conv1 (Conv2D)        (None, 56, 56, 256)       295168    \n",
            "_________________________________________________________________\n",
            "block3_conv2 (Conv2D)        (None, 56, 56, 256)       590080    \n",
            "_________________________________________________________________\n",
            "block3_conv3 (Conv2D)        (None, 56, 56, 256)       590080    \n",
            "_________________________________________________________________\n",
            "block3_pool (MaxPooling2D)   (None, 28, 28, 256)       0         \n",
            "_________________________________________________________________\n",
            "block4_conv1 (Conv2D)        (None, 28, 28, 512)       1180160   \n",
            "_________________________________________________________________\n",
            "block4_conv2 (Conv2D)        (None, 28, 28, 512)       2359808   \n",
            "_________________________________________________________________\n",
            "block4_conv3 (Conv2D)        (None, 28, 28, 512)       2359808   \n",
            "_________________________________________________________________\n",
            "block4_pool (MaxPooling2D)   (None, 14, 14, 512)       0         \n",
            "_________________________________________________________________\n",
            "block5_conv1 (Conv2D)        (None, 14, 14, 512)       2359808   \n",
            "_________________________________________________________________\n",
            "block5_conv2 (Conv2D)        (None, 14, 14, 512)       2359808   \n",
            "_________________________________________________________________\n",
            "block5_conv3 (Conv2D)        (None, 14, 14, 512)       2359808   \n",
            "_________________________________________________________________\n",
            "block5_pool (MaxPooling2D)   (None, 7, 7, 512)         0         \n",
            "_________________________________________________________________\n",
            "flatten (Flatten)            (None, 25088)             0         \n",
            "_________________________________________________________________\n",
            "fc1 (Dense)                  (None, 4096)              102764544 \n",
            "_________________________________________________________________\n",
            "fc2 (Dense)                  (None, 4096)              16781312  \n",
            "_________________________________________________________________\n",
            "predictions (Dense)          (None, 1000)              4097000   \n",
            "=================================================================\n",
            "Total params: 138,357,544\n",
            "Trainable params: 138,357,544\n",
            "Non-trainable params: 0\n",
            "_________________________________________________________________\n"
          ],
          "name": "stdout"
        }
      ]
    },
    {
      "cell_type": "code",
      "metadata": {
        "id": "JfBG41T77-YL",
        "colab_type": "code",
        "outputId": "59239f29-2009-4531-9cc0-be079d305e3b",
        "colab": {
          "base_uri": "https://localhost:8080/",
          "height": 935
        }
      },
      "source": [
        "# initialize our own sequential model\n",
        "model = Sequential()\n",
        "\n",
        "# copy every layer except the predictions layer\n",
        "for layer in vgg16_model.layers[:-1]:\n",
        "  model.add(layer)\n",
        "\n",
        "# make weights fixed since these layers are already fine-tuned\n",
        "for layer in model.layers:\n",
        "  layer.trainable = False\n",
        "\n",
        "# add our own layer\n",
        "model.add(Dense(10))\n",
        "model.add(Activation('softmax'))\n",
        "\n",
        "model.summary()"
      ],
      "execution_count": 6,
      "outputs": [
        {
          "output_type": "stream",
          "text": [
            "Model: \"sequential_2\"\n",
            "_________________________________________________________________\n",
            "Layer (type)                 Output Shape              Param #   \n",
            "=================================================================\n",
            "block1_conv1 (Conv2D)        (None, 224, 224, 64)      1792      \n",
            "_________________________________________________________________\n",
            "block1_conv2 (Conv2D)        (None, 224, 224, 64)      36928     \n",
            "_________________________________________________________________\n",
            "block1_pool (MaxPooling2D)   (None, 112, 112, 64)      0         \n",
            "_________________________________________________________________\n",
            "block2_conv1 (Conv2D)        (None, 112, 112, 128)     73856     \n",
            "_________________________________________________________________\n",
            "block2_conv2 (Conv2D)        (None, 112, 112, 128)     147584    \n",
            "_________________________________________________________________\n",
            "block2_pool (MaxPooling2D)   (None, 56, 56, 128)       0         \n",
            "_________________________________________________________________\n",
            "block3_conv1 (Conv2D)        (None, 56, 56, 256)       295168    \n",
            "_________________________________________________________________\n",
            "block3_conv2 (Conv2D)        (None, 56, 56, 256)       590080    \n",
            "_________________________________________________________________\n",
            "block3_conv3 (Conv2D)        (None, 56, 56, 256)       590080    \n",
            "_________________________________________________________________\n",
            "block3_pool (MaxPooling2D)   (None, 28, 28, 256)       0         \n",
            "_________________________________________________________________\n",
            "block4_conv1 (Conv2D)        (None, 28, 28, 512)       1180160   \n",
            "_________________________________________________________________\n",
            "block4_conv2 (Conv2D)        (None, 28, 28, 512)       2359808   \n",
            "_________________________________________________________________\n",
            "block4_conv3 (Conv2D)        (None, 28, 28, 512)       2359808   \n",
            "_________________________________________________________________\n",
            "block4_pool (MaxPooling2D)   (None, 14, 14, 512)       0         \n",
            "_________________________________________________________________\n",
            "block5_conv1 (Conv2D)        (None, 14, 14, 512)       2359808   \n",
            "_________________________________________________________________\n",
            "block5_conv2 (Conv2D)        (None, 14, 14, 512)       2359808   \n",
            "_________________________________________________________________\n",
            "block5_conv3 (Conv2D)        (None, 14, 14, 512)       2359808   \n",
            "_________________________________________________________________\n",
            "block5_pool (MaxPooling2D)   (None, 7, 7, 512)         0         \n",
            "_________________________________________________________________\n",
            "flatten (Flatten)            (None, 25088)             0         \n",
            "_________________________________________________________________\n",
            "fc1 (Dense)                  (None, 4096)              102764544 \n",
            "_________________________________________________________________\n",
            "fc2 (Dense)                  (None, 4096)              16781312  \n",
            "_________________________________________________________________\n",
            "dense_1 (Dense)              (None, 10)                40970     \n",
            "_________________________________________________________________\n",
            "activation_1 (Activation)    (None, 10)                0         \n",
            "=================================================================\n",
            "Total params: 134,301,514\n",
            "Trainable params: 40,970\n",
            "Non-trainable params: 134,260,544\n",
            "_________________________________________________________________\n"
          ],
          "name": "stdout"
        }
      ]
    },
    {
      "cell_type": "markdown",
      "metadata": {
        "id": "05F576TxCtVm",
        "colab_type": "text"
      },
      "source": [
        "Train the VGG16 Model"
      ]
    },
    {
      "cell_type": "code",
      "metadata": {
        "id": "9ywL9j3T8JM_",
        "colab_type": "code",
        "colab": {}
      },
      "source": [
        "model.compile(Adam(lr=0.001), loss='categorical_crossentropy', metrics=['accuracy'])"
      ],
      "execution_count": 0,
      "outputs": []
    },
    {
      "cell_type": "code",
      "metadata": {
        "id": "hzunfmqVC3Fb",
        "colab_type": "code",
        "outputId": "6e290665-1ae1-4fe7-9467-586d33347005",
        "colab": {
          "base_uri": "https://localhost:8080/",
          "height": 1000
        }
      },
      "source": [
        "history = model.fit_generator(train_generator,\n",
        "                              steps_per_epoch = 17943//64,\n",
        "                              validation_data = val_generator,\n",
        "                              validation_steps = 4481//64,\n",
        "                              epochs = 45,\n",
        "                              verbose = 1)"
      ],
      "execution_count": 8,
      "outputs": [
        {
          "output_type": "stream",
          "text": [
            "Epoch 1/45\n",
            "280/280 [==============================] - 133s 474ms/step - loss: 2.0399 - accuracy: 0.2983 - val_loss: 1.7789 - val_accuracy: 0.4234\n",
            "Epoch 2/45\n",
            "280/280 [==============================] - 132s 470ms/step - loss: 1.5585 - accuracy: 0.5058 - val_loss: 1.3111 - val_accuracy: 0.5703\n",
            "Epoch 3/45\n",
            "280/280 [==============================] - 132s 472ms/step - loss: 1.3179 - accuracy: 0.5948 - val_loss: 1.1359 - val_accuracy: 0.6575\n",
            "Epoch 4/45\n",
            "280/280 [==============================] - 132s 471ms/step - loss: 1.1456 - accuracy: 0.6705 - val_loss: 0.9463 - val_accuracy: 0.7122\n",
            "Epoch 5/45\n",
            "280/280 [==============================] - 133s 475ms/step - loss: 1.0371 - accuracy: 0.7047 - val_loss: 1.0224 - val_accuracy: 0.6855\n",
            "Epoch 6/45\n",
            "280/280 [==============================] - 131s 467ms/step - loss: 0.9413 - accuracy: 0.7386 - val_loss: 0.8922 - val_accuracy: 0.7750\n",
            "Epoch 7/45\n",
            "280/280 [==============================] - 130s 464ms/step - loss: 0.8470 - accuracy: 0.7795 - val_loss: 0.8340 - val_accuracy: 0.8033\n",
            "Epoch 8/45\n",
            "280/280 [==============================] - 128s 459ms/step - loss: 0.7787 - accuracy: 0.7989 - val_loss: 0.8988 - val_accuracy: 0.7673\n",
            "Epoch 9/45\n",
            "280/280 [==============================] - 129s 461ms/step - loss: 0.7343 - accuracy: 0.8095 - val_loss: 0.7998 - val_accuracy: 0.8098\n",
            "Epoch 10/45\n",
            "280/280 [==============================] - 128s 456ms/step - loss: 0.6716 - accuracy: 0.8334 - val_loss: 0.6078 - val_accuracy: 0.8488\n",
            "Epoch 11/45\n",
            "280/280 [==============================] - 128s 456ms/step - loss: 0.6455 - accuracy: 0.8339 - val_loss: 0.7446 - val_accuracy: 0.8535\n",
            "Epoch 12/45\n",
            "280/280 [==============================] - 126s 450ms/step - loss: 0.5936 - accuracy: 0.8539 - val_loss: 0.6764 - val_accuracy: 0.8157\n",
            "Epoch 13/45\n",
            "280/280 [==============================] - 124s 444ms/step - loss: 0.5797 - accuracy: 0.8547 - val_loss: 0.6088 - val_accuracy: 0.8671\n",
            "Epoch 14/45\n",
            "280/280 [==============================] - 125s 445ms/step - loss: 0.5374 - accuracy: 0.8679 - val_loss: 0.5505 - val_accuracy: 0.8811\n",
            "Epoch 15/45\n",
            "280/280 [==============================] - 125s 445ms/step - loss: 0.5124 - accuracy: 0.8782 - val_loss: 0.5693 - val_accuracy: 0.8719\n",
            "Epoch 16/45\n",
            "280/280 [==============================] - 127s 452ms/step - loss: 0.4924 - accuracy: 0.8795 - val_loss: 0.5915 - val_accuracy: 0.8963\n",
            "Epoch 17/45\n",
            "280/280 [==============================] - 124s 445ms/step - loss: 0.4699 - accuracy: 0.8898 - val_loss: 0.3942 - val_accuracy: 0.8737\n",
            "Epoch 18/45\n",
            "280/280 [==============================] - 123s 441ms/step - loss: 0.4446 - accuracy: 0.8971 - val_loss: 0.3813 - val_accuracy: 0.8852\n",
            "Epoch 19/45\n",
            "280/280 [==============================] - 122s 436ms/step - loss: 0.4264 - accuracy: 0.9020 - val_loss: 0.4224 - val_accuracy: 0.8918\n",
            "Epoch 20/45\n",
            "280/280 [==============================] - 123s 440ms/step - loss: 0.4155 - accuracy: 0.9022 - val_loss: 0.6551 - val_accuracy: 0.8832\n",
            "Epoch 21/45\n",
            "280/280 [==============================] - 124s 442ms/step - loss: 0.4032 - accuracy: 0.9021 - val_loss: 0.4265 - val_accuracy: 0.9169\n",
            "Epoch 22/45\n",
            "280/280 [==============================] - 123s 439ms/step - loss: 0.3759 - accuracy: 0.9115 - val_loss: 0.4160 - val_accuracy: 0.9185\n",
            "Epoch 23/45\n",
            "280/280 [==============================] - 123s 439ms/step - loss: 0.3720 - accuracy: 0.9149 - val_loss: 0.3641 - val_accuracy: 0.9070\n",
            "Epoch 24/45\n",
            "280/280 [==============================] - 122s 436ms/step - loss: 0.3495 - accuracy: 0.9215 - val_loss: 0.4162 - val_accuracy: 0.9205\n",
            "Epoch 25/45\n",
            "280/280 [==============================] - 122s 437ms/step - loss: 0.3453 - accuracy: 0.9210 - val_loss: 0.2972 - val_accuracy: 0.9316\n",
            "Epoch 26/45\n",
            "280/280 [==============================] - 123s 438ms/step - loss: 0.3414 - accuracy: 0.9192 - val_loss: 0.1716 - val_accuracy: 0.9058\n",
            "Epoch 27/45\n",
            "280/280 [==============================] - 123s 439ms/step - loss: 0.3231 - accuracy: 0.9254 - val_loss: 0.3354 - val_accuracy: 0.9149\n",
            "Epoch 28/45\n",
            "280/280 [==============================] - 122s 436ms/step - loss: 0.3098 - accuracy: 0.9284 - val_loss: 0.4436 - val_accuracy: 0.9178\n",
            "Epoch 29/45\n",
            "280/280 [==============================] - 123s 438ms/step - loss: 0.3111 - accuracy: 0.9277 - val_loss: 0.2563 - val_accuracy: 0.9319\n",
            "Epoch 30/45\n",
            "280/280 [==============================] - 122s 436ms/step - loss: 0.3073 - accuracy: 0.9263 - val_loss: 0.2179 - val_accuracy: 0.9353\n",
            "Epoch 31/45\n",
            "280/280 [==============================] - 122s 435ms/step - loss: 0.2804 - accuracy: 0.9368 - val_loss: 0.3564 - val_accuracy: 0.9126\n",
            "Epoch 32/45\n",
            "280/280 [==============================] - 122s 436ms/step - loss: 0.2781 - accuracy: 0.9368 - val_loss: 0.2319 - val_accuracy: 0.9312\n",
            "Epoch 33/45\n",
            "280/280 [==============================] - 123s 440ms/step - loss: 0.2758 - accuracy: 0.9365 - val_loss: 0.3548 - val_accuracy: 0.9208\n",
            "Epoch 34/45\n",
            "280/280 [==============================] - 122s 437ms/step - loss: 0.2612 - accuracy: 0.9417 - val_loss: 0.3126 - val_accuracy: 0.9343\n",
            "Epoch 35/45\n",
            "280/280 [==============================] - 123s 440ms/step - loss: 0.2554 - accuracy: 0.9438 - val_loss: 0.3028 - val_accuracy: 0.9276\n",
            "Epoch 36/45\n",
            "280/280 [==============================] - 124s 443ms/step - loss: 0.2578 - accuracy: 0.9404 - val_loss: 0.3899 - val_accuracy: 0.9298\n",
            "Epoch 37/45\n",
            "280/280 [==============================] - 125s 445ms/step - loss: 0.2521 - accuracy: 0.9416 - val_loss: 0.3811 - val_accuracy: 0.9117\n",
            "Epoch 38/45\n",
            "280/280 [==============================] - 124s 443ms/step - loss: 0.2552 - accuracy: 0.9407 - val_loss: 0.2094 - val_accuracy: 0.9443\n",
            "Epoch 39/45\n",
            "280/280 [==============================] - 124s 441ms/step - loss: 0.2393 - accuracy: 0.9442 - val_loss: 0.2119 - val_accuracy: 0.9468\n",
            "Epoch 40/45\n",
            "280/280 [==============================] - 124s 442ms/step - loss: 0.2345 - accuracy: 0.9470 - val_loss: 0.1898 - val_accuracy: 0.9337\n",
            "Epoch 41/45\n",
            "280/280 [==============================] - 124s 444ms/step - loss: 0.2390 - accuracy: 0.9437 - val_loss: 0.2646 - val_accuracy: 0.9357\n",
            "Epoch 42/45\n",
            "280/280 [==============================] - 125s 445ms/step - loss: 0.2197 - accuracy: 0.9524 - val_loss: 0.2149 - val_accuracy: 0.9427\n",
            "Epoch 43/45\n",
            "280/280 [==============================] - 125s 447ms/step - loss: 0.2199 - accuracy: 0.9484 - val_loss: 0.2253 - val_accuracy: 0.9334\n",
            "Epoch 44/45\n",
            "280/280 [==============================] - 124s 445ms/step - loss: 0.2150 - accuracy: 0.9506 - val_loss: 0.1676 - val_accuracy: 0.9402\n",
            "Epoch 45/45\n",
            "280/280 [==============================] - 122s 437ms/step - loss: 0.2081 - accuracy: 0.9520 - val_loss: 0.1289 - val_accuracy: 0.9540\n"
          ],
          "name": "stdout"
        }
      ]
    },
    {
      "cell_type": "code",
      "metadata": {
        "id": "tbF2piE-DbY1",
        "colab_type": "code",
        "outputId": "9eaba4d9-cae1-4992-b036-5131f8541331",
        "colab": {
          "base_uri": "https://localhost:8080/",
          "height": 545
        }
      },
      "source": [
        "# Plot\n",
        "acc = history.history['accuracy']\n",
        "val_acc = history.history['val_accuracy']\n",
        "loss = history.history['loss']\n",
        "val_loss = history.history['val_loss']\n",
        "epochs = range(1, len(acc) + 1)\n",
        "plt.plot(epochs, acc, 'b', label='Training acc')\n",
        "plt.plot(epochs, val_acc, 'r', label='Validation acc')\n",
        "plt.title('Training and validation accuracy')\n",
        "plt.legend()\n",
        "plt.figure()\n",
        "plt.plot(epochs, loss, 'b', label='Training loss')\n",
        "plt.plot(epochs, val_loss, 'r', label='Validation loss')\n",
        "plt.title('Training and validation loss')\n",
        "plt.legend()\n",
        "plt.show()"
      ],
      "execution_count": 10,
      "outputs": [
        {
          "output_type": "display_data",
          "data": {
            "image/png": "[encoded data removed]",
            "text/plain": [
              "<Figure size 432x288 with 1 Axes>"
            ]
          },
          "metadata": {
            "tags": [],
            "needs_background": "light"
          }
        },
        {
          "output_type": "display_data",
          "data": {
            "image/png": "[encoded data removed]",
            "text/plain": [
              "<Figure size 432x288 with 1 Axes>"
            ]
          },
          "metadata": {
            "tags": [],
            "needs_background": "light"
          }
        }
      ]
    },
    {
      "cell_type": "code",
      "metadata": {
        "id": "IILJ9z0Vi_ID",
        "colab_type": "code",
        "colab": {}
      },
      "source": [
        "model.save_weights('/content/drive/My Drive/vgg_model_weights')"
      ],
      "execution_count": 0,
      "outputs": []
    },
    {
      "cell_type": "code",
      "metadata": {
        "id": "c-DUgbWL_8AW",
        "colab_type": "code",
        "outputId": "f64d3426-a373-4ee7-e37d-388d450c0e89",
        "colab": {
          "base_uri": "https://localhost:8080/",
          "height": 867
        }
      },
      "source": [
        "history2 = model.fit_generator(train_generator,\n",
        "                              steps_per_epoch = 17943//64,\n",
        "                              validation_data = val_generator,\n",
        "                              validation_steps = 4481//64,\n",
        "                              epochs = 25,\n",
        "                              verbose = 1)"
      ],
      "execution_count": 0,
      "outputs": [
        {
          "output_type": "stream",
          "text": [
            "Epoch 1/25\n",
            "280/280 [==============================] - 147s 524ms/step - loss: 0.3311 - accuracy: 0.9232 - val_loss: 0.3033 - val_accuracy: 0.9301\n",
            "Epoch 2/25\n",
            "280/280 [==============================] - 148s 530ms/step - loss: 0.3292 - accuracy: 0.9239 - val_loss: 0.3798 - val_accuracy: 0.9133\n",
            "Epoch 3/25\n",
            "280/280 [==============================] - 147s 526ms/step - loss: 0.3110 - accuracy: 0.9278 - val_loss: 0.3047 - val_accuracy: 0.9271\n",
            "Epoch 4/25\n",
            "280/280 [==============================] - 145s 518ms/step - loss: 0.3028 - accuracy: 0.9309 - val_loss: 0.2416 - val_accuracy: 0.9128\n",
            "Epoch 5/25\n",
            "280/280 [==============================] - 147s 523ms/step - loss: 0.2993 - accuracy: 0.9314 - val_loss: 0.2427 - val_accuracy: 0.9189\n",
            "Epoch 6/25\n",
            "280/280 [==============================] - 145s 517ms/step - loss: 0.2869 - accuracy: 0.9331 - val_loss: 0.3687 - val_accuracy: 0.9303\n",
            "Epoch 7/25\n",
            "280/280 [==============================] - 146s 523ms/step - loss: 0.2808 - accuracy: 0.9340 - val_loss: 0.2124 - val_accuracy: 0.9226\n",
            "Epoch 8/25\n",
            "280/280 [==============================] - 146s 522ms/step - loss: 0.2708 - accuracy: 0.9405 - val_loss: 0.2857 - val_accuracy: 0.9199\n",
            "Epoch 9/25\n",
            "280/280 [==============================] - 146s 523ms/step - loss: 0.2626 - accuracy: 0.9404 - val_loss: 0.1726 - val_accuracy: 0.9285\n",
            "Epoch 10/25\n",
            "280/280 [==============================] - 146s 521ms/step - loss: 0.2647 - accuracy: 0.9391 - val_loss: 0.2263 - val_accuracy: 0.9357\n",
            "Epoch 11/25\n",
            "280/280 [==============================] - 145s 519ms/step - loss: 0.2612 - accuracy: 0.9400 - val_loss: 0.2731 - val_accuracy: 0.9400\n",
            "Epoch 12/25\n",
            "280/280 [==============================] - 145s 519ms/step - loss: 0.2495 - accuracy: 0.9429 - val_loss: 0.3206 - val_accuracy: 0.9436\n",
            "Epoch 13/25\n",
            "280/280 [==============================] - 145s 518ms/step - loss: 0.2365 - accuracy: 0.9479 - val_loss: 0.1938 - val_accuracy: 0.9323\n",
            "Epoch 14/25\n",
            "280/280 [==============================] - 145s 517ms/step - loss: 0.2390 - accuracy: 0.9454 - val_loss: 0.1539 - val_accuracy: 0.9377\n",
            "Epoch 15/25\n",
            "280/280 [==============================] - 146s 521ms/step - loss: 0.2247 - accuracy: 0.9511 - val_loss: 0.3957 - val_accuracy: 0.9463\n",
            "Epoch 16/25\n",
            "280/280 [==============================] - 145s 519ms/step - loss: 0.2287 - accuracy: 0.9484 - val_loss: 0.3099 - val_accuracy: 0.9396\n",
            "Epoch 17/25\n",
            "280/280 [==============================] - 145s 517ms/step - loss: 0.2201 - accuracy: 0.9508 - val_loss: 0.2013 - val_accuracy: 0.9362\n",
            "Epoch 18/25\n",
            "280/280 [==============================] - 145s 519ms/step - loss: 0.2136 - accuracy: 0.9523 - val_loss: 0.1915 - val_accuracy: 0.9409\n",
            "Epoch 19/25\n",
            "280/280 [==============================] - 145s 519ms/step - loss: 0.2220 - accuracy: 0.9483 - val_loss: 0.2275 - val_accuracy: 0.9400\n",
            "Epoch 20/25\n",
            "280/280 [==============================] - 144s 514ms/step - loss: 0.2066 - accuracy: 0.9536 - val_loss: 0.2208 - val_accuracy: 0.9504\n",
            "Epoch 21/25\n",
            "280/280 [==============================] - 144s 516ms/step - loss: 0.2130 - accuracy: 0.9491 - val_loss: 0.1701 - val_accuracy: 0.9495\n",
            "Epoch 22/25\n",
            "280/280 [==============================] - 143s 512ms/step - loss: 0.2031 - accuracy: 0.9537 - val_loss: 0.1828 - val_accuracy: 0.9416\n",
            "Epoch 23/25\n",
            "280/280 [==============================] - 143s 512ms/step - loss: 0.2012 - accuracy: 0.9521 - val_loss: 0.2490 - val_accuracy: 0.9420\n",
            "Epoch 24/25\n",
            "280/280 [==============================] - 144s 513ms/step - loss: 0.1932 - accuracy: 0.9549 - val_loss: 0.1739 - val_accuracy: 0.9565\n",
            "Epoch 25/25\n",
            "280/280 [==============================] - 143s 510ms/step - loss: 0.1977 - accuracy: 0.9525 - val_loss: 0.2315 - val_accuracy: 0.9124\n"
          ],
          "name": "stdout"
        }
      ]
    },
    {
      "cell_type": "code",
      "metadata": {
        "id": "5LX3ppzSOKlS",
        "colab_type": "code",
        "outputId": "9bda2305-9f29-45f3-ae29-b7805aa09c27",
        "colab": {
          "base_uri": "https://localhost:8080/",
          "height": 545
        }
      },
      "source": [
        "# Plot\n",
        "acc = history2.history['accuracy']\n",
        "val_acc = history2.history['val_accuracy']\n",
        "loss = history2.history['loss']\n",
        "val_loss = history2.history['val_loss']\n",
        "epochs = range(26, len(acc) + 26)\n",
        "plt.plot(epochs, acc, 'bo', label='Training acc')\n",
        "plt.plot(epochs, val_acc, 'b', label='Validation acc')\n",
        "plt.title('Training and validation accuracy')\n",
        "plt.legend()\n",
        "plt.figure()\n",
        "plt.plot(epochs, loss, 'bo', label='Training loss')\n",
        "plt.plot(epochs, val_loss, 'b', label='Validation loss')\n",
        "plt.title('Training and validation loss')\n",
        "plt.legend()\n",
        "plt.show()"
      ],
      "execution_count": 0,
      "outputs": [
        {
          "output_type": "display_data",
          "data": {
            "image/png": "[encoded data removed]",
            "text/plain": [
              "<Figure size 432x288 with 1 Axes>"
            ]
          },
          "metadata": {
            "tags": [],
            "needs_background": "light"
          }
        },
        {
          "output_type": "display_data",
          "data": {
            "image/png": "[encoded data removed]",
            "text/plain": [
              "<Figure size 432x288 with 1 Axes>"
            ]
          },
          "metadata": {
            "tags": [],
            "needs_background": "light"
          }
        }
      ]
    },
    {
      "cell_type": "code",
      "metadata": {
        "id": "fwjjfpV9KB7y",
        "colab_type": "code",
        "outputId": "bb441126-d64b-46d5-8dc9-ab2304273fe0",
        "colab": {
          "base_uri": "https://localhost:8080/",
          "height": 935
        }
      },
      "source": [
        "# initialize our own sequential model\n",
        "model_v2 = Sequential()\n",
        "\n",
        "# copy every layer except the predictions layer\n",
        "for layer in vgg16_model.layers[:-1]:\n",
        "  model_v2.add(layer)\n",
        "\n",
        "# make weights fixed since these layers are already fine-tuned\n",
        "for layer in model_v2.layers:\n",
        "  layer.trainable = False\n",
        "\n",
        "# add our own output layer\n",
        "model_v2.add(Dense(10))\n",
        "model_v2.add(Activation('softmax'))\n",
        "\n",
        "model_v2.summary()"
      ],
      "execution_count": 0,
      "outputs": [
        {
          "output_type": "stream",
          "text": [
            "Model: \"sequential_4\"\n",
            "_________________________________________________________________\n",
            "Layer (type)                 Output Shape              Param #   \n",
            "=================================================================\n",
            "block1_conv1 (Conv2D)        (None, 224, 224, 64)      1792      \n",
            "_________________________________________________________________\n",
            "block1_conv2 (Conv2D)        (None, 224, 224, 64)      36928     \n",
            "_________________________________________________________________\n",
            "block1_pool (MaxPooling2D)   (None, 112, 112, 64)      0         \n",
            "_________________________________________________________________\n",
            "block2_conv1 (Conv2D)        (None, 112, 112, 128)     73856     \n",
            "_________________________________________________________________\n",
            "block2_conv2 (Conv2D)        (None, 112, 112, 128)     147584    \n",
            "_________________________________________________________________\n",
            "block2_pool (MaxPooling2D)   (None, 56, 56, 128)       0         \n",
            "_________________________________________________________________\n",
            "block3_conv1 (Conv2D)        (None, 56, 56, 256)       295168    \n",
            "_________________________________________________________________\n",
            "block3_conv2 (Conv2D)        (None, 56, 56, 256)       590080    \n",
            "_________________________________________________________________\n",
            "block3_conv3 (Conv2D)        (None, 56, 56, 256)       590080    \n",
            "_________________________________________________________________\n",
            "block3_pool (MaxPooling2D)   (None, 28, 28, 256)       0         \n",
            "_________________________________________________________________\n",
            "block4_conv1 (Conv2D)        (None, 28, 28, 512)       1180160   \n",
            "_________________________________________________________________\n",
            "block4_conv2 (Conv2D)        (None, 28, 28, 512)       2359808   \n",
            "_________________________________________________________________\n",
            "block4_conv3 (Conv2D)        (None, 28, 28, 512)       2359808   \n",
            "_________________________________________________________________\n",
            "block4_pool (MaxPooling2D)   (None, 14, 14, 512)       0         \n",
            "_________________________________________________________________\n",
            "block5_conv1 (Conv2D)        (None, 14, 14, 512)       2359808   \n",
            "_________________________________________________________________\n",
            "block5_conv2 (Conv2D)        (None, 14, 14, 512)       2359808   \n",
            "_________________________________________________________________\n",
            "block5_conv3 (Conv2D)        (None, 14, 14, 512)       2359808   \n",
            "_________________________________________________________________\n",
            "block5_pool (MaxPooling2D)   (None, 7, 7, 512)         0         \n",
            "_________________________________________________________________\n",
            "flatten (Flatten)            (None, 25088)             0         \n",
            "_________________________________________________________________\n",
            "fc1 (Dense)                  (None, 4096)              102764544 \n",
            "_________________________________________________________________\n",
            "fc2 (Dense)                  (None, 4096)              16781312  \n",
            "_________________________________________________________________\n",
            "dense_2 (Dense)              (None, 10)                40970     \n",
            "_________________________________________________________________\n",
            "activation_1 (Activation)    (None, 10)                0         \n",
            "=================================================================\n",
            "Total params: 134,301,514\n",
            "Trainable params: 40,970\n",
            "Non-trainable params: 134,260,544\n",
            "_________________________________________________________________\n"
          ],
          "name": "stdout"
        }
      ]
    },
    {
      "cell_type": "code",
      "metadata": {
        "id": "KQLrm2XWKgt4",
        "colab_type": "code",
        "colab": {}
      },
      "source": [
        "model_v2.compile(Adam(lr=0.0001), loss='categorical_crossentropy', metrics=['accuracy'])"
      ],
      "execution_count": 0,
      "outputs": []
    },
    {
      "cell_type": "code",
      "metadata": {
        "id": "pjvVDyznKxZG",
        "colab_type": "code",
        "outputId": "be9960fb-d3cc-4cb1-cda2-acc4b4562b6a",
        "colab": {
          "base_uri": "https://localhost:8080/",
          "height": 697
        }
      },
      "source": [
        "history_v2 = model_v2.fit_generator(train_generator,\n",
        "                              steps_per_epoch = 17943//64,\n",
        "                              validation_data = val_generator,\n",
        "                              validation_steps = 4481//64,\n",
        "                              epochs = 20,\n",
        "                              verbose = 1)"
      ],
      "execution_count": 0,
      "outputs": [
        {
          "output_type": "stream",
          "text": [
            "Epoch 1/20\n",
            "280/280 [==============================] - 145s 517ms/step - loss: 2.2390 - accuracy: 0.1846 - val_loss: 2.1187 - val_accuracy: 0.2882\n",
            "Epoch 2/20\n",
            "280/280 [==============================] - 147s 526ms/step - loss: 2.0922 - accuracy: 0.3142 - val_loss: 2.0262 - val_accuracy: 0.3607\n",
            "Epoch 3/20\n",
            "280/280 [==============================] - 147s 526ms/step - loss: 1.9787 - accuracy: 0.3851 - val_loss: 1.9792 - val_accuracy: 0.4621\n",
            "Epoch 4/20\n",
            "280/280 [==============================] - 145s 519ms/step - loss: 1.8802 - accuracy: 0.4436 - val_loss: 1.8677 - val_accuracy: 0.4677\n",
            "Epoch 5/20\n",
            "280/280 [==============================] - 145s 519ms/step - loss: 1.8007 - accuracy: 0.4751 - val_loss: 1.7309 - val_accuracy: 0.5114\n",
            "Epoch 6/20\n",
            "280/280 [==============================] - 146s 522ms/step - loss: 1.7300 - accuracy: 0.5032 - val_loss: 1.7183 - val_accuracy: 0.5164\n",
            "Epoch 7/20\n",
            "280/280 [==============================] - 146s 521ms/step - loss: 1.6650 - accuracy: 0.5321 - val_loss: 1.6864 - val_accuracy: 0.5431\n",
            "Epoch 8/20\n",
            "280/280 [==============================] - 146s 520ms/step - loss: 1.6105 - accuracy: 0.5501 - val_loss: 1.5770 - val_accuracy: 0.5209\n",
            "Epoch 9/20\n",
            "280/280 [==============================] - 145s 519ms/step - loss: 1.5607 - accuracy: 0.5716 - val_loss: 1.4648 - val_accuracy: 0.5721\n",
            "Epoch 10/20\n",
            "280/280 [==============================] - 145s 519ms/step - loss: 1.5116 - accuracy: 0.5870 - val_loss: 1.3356 - val_accuracy: 0.6077\n",
            "Epoch 11/20\n",
            "280/280 [==============================] - 146s 520ms/step - loss: 1.4706 - accuracy: 0.6017 - val_loss: 1.3560 - val_accuracy: 0.5780\n",
            "Epoch 12/20\n",
            "280/280 [==============================] - 145s 519ms/step - loss: 1.4297 - accuracy: 0.6169 - val_loss: 1.4893 - val_accuracy: 0.6260\n",
            "Epoch 13/20\n",
            "280/280 [==============================] - 145s 519ms/step - loss: 1.3928 - accuracy: 0.6270 - val_loss: 1.4018 - val_accuracy: 0.6448\n",
            "Epoch 14/20\n",
            "280/280 [==============================] - 145s 518ms/step - loss: 1.3596 - accuracy: 0.6376 - val_loss: 1.3690 - val_accuracy: 0.6344\n",
            "Epoch 15/20\n",
            "280/280 [==============================] - 145s 518ms/step - loss: 1.3290 - accuracy: 0.6491 - val_loss: 1.2689 - val_accuracy: 0.6627\n",
            "Epoch 16/20\n",
            "280/280 [==============================] - 145s 517ms/step - loss: 1.2946 - accuracy: 0.6619 - val_loss: 1.3784 - val_accuracy: 0.6624\n",
            "Epoch 17/20\n",
            "280/280 [==============================] - 145s 516ms/step - loss: 1.2669 - accuracy: 0.6693 - val_loss: 1.2361 - val_accuracy: 0.6749\n",
            "Epoch 18/20\n",
            "280/280 [==============================] - 144s 515ms/step - loss: 1.2423 - accuracy: 0.6746 - val_loss: 1.2326 - val_accuracy: 0.6926\n",
            "Epoch 19/20\n",
            "280/280 [==============================] - 145s 517ms/step - loss: 1.2139 - accuracy: 0.6885 - val_loss: 1.1222 - val_accuracy: 0.6953\n",
            "Epoch 20/20\n",
            "280/280 [==============================] - 144s 515ms/step - loss: 1.1910 - accuracy: 0.6965 - val_loss: 1.2278 - val_accuracy: 0.6928\n"
          ],
          "name": "stdout"
        }
      ]
    },
    {
      "cell_type": "code",
      "metadata": {
        "id": "b_UKkhNJK54l",
        "colab_type": "code",
        "outputId": "09ca6f4e-d93d-4b09-f3b0-403262da754e",
        "colab": {
          "base_uri": "https://localhost:8080/",
          "height": 697
        }
      },
      "source": [
        "history_v2_2 = model_v2.fit_generator(train_generator,\n",
        "                              steps_per_epoch = 17943//64,\n",
        "                              validation_data = val_generator,\n",
        "                              validation_steps = 4481//64,\n",
        "                              epochs = 20,\n",
        "                              verbose = 1)"
      ],
      "execution_count": 0,
      "outputs": [
        {
          "output_type": "stream",
          "text": [
            "Epoch 1/20\n",
            "280/280 [==============================] - 145s 516ms/step - loss: 1.1644 - accuracy: 0.7068 - val_loss: 1.0866 - val_accuracy: 0.7092\n",
            "Epoch 2/20\n",
            "280/280 [==============================] - 146s 521ms/step - loss: 1.1445 - accuracy: 0.7122 - val_loss: 1.1861 - val_accuracy: 0.7161\n",
            "Epoch 3/20\n",
            "280/280 [==============================] - 146s 521ms/step - loss: 1.1227 - accuracy: 0.7179 - val_loss: 0.9942 - val_accuracy: 0.7240\n",
            "Epoch 4/20\n",
            "280/280 [==============================] - 146s 522ms/step - loss: 1.1032 - accuracy: 0.7276 - val_loss: 1.0267 - val_accuracy: 0.7304\n",
            "Epoch 5/20\n",
            "280/280 [==============================] - 146s 522ms/step - loss: 1.0824 - accuracy: 0.7326 - val_loss: 1.0293 - val_accuracy: 0.7408\n",
            "Epoch 6/20\n",
            "280/280 [==============================] - 145s 518ms/step - loss: 1.0654 - accuracy: 0.7359 - val_loss: 0.8548 - val_accuracy: 0.7403\n",
            "Epoch 7/20\n",
            "280/280 [==============================] - 145s 518ms/step - loss: 1.0448 - accuracy: 0.7438 - val_loss: 1.0166 - val_accuracy: 0.7383\n",
            "Epoch 8/20\n",
            "280/280 [==============================] - 145s 519ms/step - loss: 1.0287 - accuracy: 0.7488 - val_loss: 0.9613 - val_accuracy: 0.7467\n",
            "Epoch 9/20\n",
            "280/280 [==============================] - 145s 518ms/step - loss: 1.0103 - accuracy: 0.7564 - val_loss: 0.9874 - val_accuracy: 0.7666\n",
            "Epoch 10/20\n",
            "280/280 [==============================] - 145s 519ms/step - loss: 0.9934 - accuracy: 0.7601 - val_loss: 1.0492 - val_accuracy: 0.7553\n",
            "Epoch 11/20\n",
            "280/280 [==============================] - 145s 518ms/step - loss: 0.9764 - accuracy: 0.7677 - val_loss: 0.9733 - val_accuracy: 0.7593\n",
            "Epoch 12/20\n",
            "280/280 [==============================] - 145s 519ms/step - loss: 0.9650 - accuracy: 0.7678 - val_loss: 1.0201 - val_accuracy: 0.7591\n",
            "Epoch 13/20\n",
            "280/280 [==============================] - 144s 515ms/step - loss: 0.9489 - accuracy: 0.7760 - val_loss: 0.8870 - val_accuracy: 0.7763\n",
            "Epoch 14/20\n",
            "280/280 [==============================] - 144s 515ms/step - loss: 0.9359 - accuracy: 0.7803 - val_loss: 0.9401 - val_accuracy: 0.7786\n",
            "Epoch 15/20\n",
            "280/280 [==============================] - 143s 512ms/step - loss: 0.9193 - accuracy: 0.7817 - val_loss: 1.0628 - val_accuracy: 0.7851\n",
            "Epoch 16/20\n",
            "280/280 [==============================] - 143s 512ms/step - loss: 0.9083 - accuracy: 0.7863 - val_loss: 1.0485 - val_accuracy: 0.7799\n",
            "Epoch 17/20\n",
            "280/280 [==============================] - 143s 512ms/step - loss: 0.8936 - accuracy: 0.7916 - val_loss: 0.9852 - val_accuracy: 0.7870\n",
            "Epoch 18/20\n",
            "280/280 [==============================] - 144s 513ms/step - loss: 0.8809 - accuracy: 0.7957 - val_loss: 0.7376 - val_accuracy: 0.7960\n",
            "Epoch 19/20\n",
            "280/280 [==============================] - 144s 514ms/step - loss: 0.8669 - accuracy: 0.7986 - val_loss: 0.7320 - val_accuracy: 0.7901\n",
            "Epoch 20/20\n",
            "280/280 [==============================] - 144s 514ms/step - loss: 0.8585 - accuracy: 0.8003 - val_loss: 0.8051 - val_accuracy: 0.8024\n"
          ],
          "name": "stdout"
        }
      ]
    },
    {
      "cell_type": "code",
      "metadata": {
        "id": "nN7bDKzcW9Jw",
        "colab_type": "code",
        "outputId": "93a30c99-e2e8-49fa-fe8c-dd6c4a18574b",
        "colab": {
          "base_uri": "https://localhost:8080/",
          "height": 1000
        }
      },
      "source": [
        "history_v2_3 = model_v2.fit_generator(train_generator,\n",
        "                              steps_per_epoch = 17943//64,\n",
        "                              validation_data = val_generator,\n",
        "                              validation_steps = 4481//64,\n",
        "                              epochs = 160,\n",
        "                              verbose = 1)"
      ],
      "execution_count": 0,
      "outputs": [
        {
          "output_type": "stream",
          "text": [
            "Epoch 1/160\n",
            "280/280 [==============================] - 145s 517ms/step - loss: 0.8465 - accuracy: 0.8053 - val_loss: 0.8793 - val_accuracy: 0.7993\n",
            "Epoch 2/160\n",
            "280/280 [==============================] - 145s 520ms/step - loss: 0.8326 - accuracy: 0.8097 - val_loss: 0.9626 - val_accuracy: 0.8067\n",
            "Epoch 3/160\n",
            "280/280 [==============================] - 145s 517ms/step - loss: 0.8251 - accuracy: 0.8087 - val_loss: 0.7876 - val_accuracy: 0.8030\n",
            "Epoch 4/160\n",
            "280/280 [==============================] - 145s 517ms/step - loss: 0.8153 - accuracy: 0.8119 - val_loss: 0.9567 - val_accuracy: 0.8114\n",
            "Epoch 5/160\n",
            "280/280 [==============================] - 145s 516ms/step - loss: 0.8015 - accuracy: 0.8181 - val_loss: 0.8674 - val_accuracy: 0.8144\n",
            "Epoch 6/160\n",
            "280/280 [==============================] - 145s 518ms/step - loss: 0.7914 - accuracy: 0.8209 - val_loss: 0.7639 - val_accuracy: 0.8153\n",
            "Epoch 7/160\n",
            "280/280 [==============================] - 145s 518ms/step - loss: 0.7832 - accuracy: 0.8239 - val_loss: 0.7946 - val_accuracy: 0.8211\n",
            "Epoch 8/160\n",
            "280/280 [==============================] - 145s 518ms/step - loss: 0.7727 - accuracy: 0.8246 - val_loss: 0.9632 - val_accuracy: 0.8189\n",
            "Epoch 9/160\n",
            "280/280 [==============================] - 145s 519ms/step - loss: 0.7630 - accuracy: 0.8274 - val_loss: 0.7008 - val_accuracy: 0.8141\n",
            "Epoch 10/160\n",
            "280/280 [==============================] - 145s 518ms/step - loss: 0.7541 - accuracy: 0.8315 - val_loss: 0.7395 - val_accuracy: 0.8239\n",
            "Epoch 11/160\n",
            "280/280 [==============================] - 146s 521ms/step - loss: 0.7471 - accuracy: 0.8319 - val_loss: 0.7171 - val_accuracy: 0.8309\n",
            "Epoch 12/160\n",
            "280/280 [==============================] - 146s 521ms/step - loss: 0.7351 - accuracy: 0.8368 - val_loss: 0.7710 - val_accuracy: 0.8243\n",
            "Epoch 13/160\n",
            "280/280 [==============================] - 145s 519ms/step - loss: 0.7302 - accuracy: 0.8364 - val_loss: 0.8562 - val_accuracy: 0.8361\n",
            "Epoch 14/160\n",
            "280/280 [==============================] - 144s 516ms/step - loss: 0.7223 - accuracy: 0.8400 - val_loss: 0.6205 - val_accuracy: 0.8295\n",
            "Epoch 15/160\n",
            "280/280 [==============================] - 145s 516ms/step - loss: 0.7127 - accuracy: 0.8420 - val_loss: 0.6977 - val_accuracy: 0.8356\n",
            "Epoch 16/160\n",
            "280/280 [==============================] - 144s 515ms/step - loss: 0.7074 - accuracy: 0.8429 - val_loss: 0.8223 - val_accuracy: 0.8440\n",
            "Epoch 17/160\n",
            "280/280 [==============================] - 144s 514ms/step - loss: 0.6953 - accuracy: 0.8459 - val_loss: 0.6676 - val_accuracy: 0.8395\n",
            "Epoch 18/160\n",
            "280/280 [==============================] - 144s 515ms/step - loss: 0.6919 - accuracy: 0.8456 - val_loss: 0.6755 - val_accuracy: 0.8374\n",
            "Epoch 19/160\n",
            "280/280 [==============================] - 144s 514ms/step - loss: 0.6796 - accuracy: 0.8508 - val_loss: 0.7347 - val_accuracy: 0.8481\n",
            "Epoch 20/160\n",
            "280/280 [==============================] - 144s 515ms/step - loss: 0.6778 - accuracy: 0.8505 - val_loss: 0.6979 - val_accuracy: 0.8490\n",
            "Epoch 21/160\n",
            " 80/280 [=======>......................] - ETA: 1:21 - loss: 0.6596 - accuracy: 0.8549"
          ],
          "name": "stdout"
        },
        {
          "output_type": "error",
          "ename": "KeyboardInterrupt",
          "evalue": "ignored",
          "traceback": [
            "\u001b[0;31m---------------------------------------------------------------------------\u001b[0m",
            "\u001b[0;31mKeyboardInterrupt\u001b[0m                         Traceback (most recent call last)",
            "\u001b[0;32m<ipython-input-20-8c75e4c56348>\u001b[0m in \u001b[0;36m<module>\u001b[0;34m()\u001b[0m\n\u001b[1;32m      4\u001b[0m                               \u001b[0mvalidation_steps\u001b[0m \u001b[0;34m=\u001b[0m \u001b[0;36m4481\u001b[0m\u001b[0;34m//\u001b[0m\u001b[0;36m64\u001b[0m\u001b[0;34m,\u001b[0m\u001b[0;34m\u001b[0m\u001b[0;34m\u001b[0m\u001b[0m\n\u001b[1;32m      5\u001b[0m                               \u001b[0mepochs\u001b[0m \u001b[0;34m=\u001b[0m \u001b[0;36m160\u001b[0m\u001b[0;34m,\u001b[0m\u001b[0;34m\u001b[0m\u001b[0;34m\u001b[0m\u001b[0m\n\u001b[0;32m----> 6\u001b[0;31m                               verbose = 1)\n\u001b[0m",
            "\u001b[0;32m/usr/local/lib/python3.6/dist-packages/keras/legacy/interfaces.py\u001b[0m in \u001b[0;36mwrapper\u001b[0;34m(*args, **kwargs)\u001b[0m\n\u001b[1;32m     89\u001b[0m                 warnings.warn('Update your `' + object_name + '` call to the ' +\n\u001b[1;32m     90\u001b[0m                               'Keras 2 API: ' + signature, stacklevel=2)\n\u001b[0;32m---> 91\u001b[0;31m             \u001b[0;32mreturn\u001b[0m \u001b[0mfunc\u001b[0m\u001b[0;34m(\u001b[0m\u001b[0;34m*\u001b[0m\u001b[0margs\u001b[0m\u001b[0;34m,\u001b[0m \u001b[0;34m**\u001b[0m\u001b[0mkwargs\u001b[0m\u001b[0;34m)\u001b[0m\u001b[0;34m\u001b[0m\u001b[0;34m\u001b[0m\u001b[0m\n\u001b[0m\u001b[1;32m     92\u001b[0m         \u001b[0mwrapper\u001b[0m\u001b[0;34m.\u001b[0m\u001b[0m_original_function\u001b[0m \u001b[0;34m=\u001b[0m \u001b[0mfunc\u001b[0m\u001b[0;34m\u001b[0m\u001b[0;34m\u001b[0m\u001b[0m\n\u001b[1;32m     93\u001b[0m         \u001b[0;32mreturn\u001b[0m \u001b[0mwrapper\u001b[0m\u001b[0;34m\u001b[0m\u001b[0;34m\u001b[0m\u001b[0m\n",
            "\u001b[0;32m/usr/local/lib/python3.6/dist-packages/keras/engine/training.py\u001b[0m in \u001b[0;36mfit_generator\u001b[0;34m(self, generator, steps_per_epoch, epochs, verbose, callbacks, validation_data, validation_steps, validation_freq, class_weight, max_queue_size, workers, use_multiprocessing, shuffle, initial_epoch)\u001b[0m\n\u001b[1;32m   1730\u001b[0m             \u001b[0muse_multiprocessing\u001b[0m\u001b[0;34m=\u001b[0m\u001b[0muse_multiprocessing\u001b[0m\u001b[0;34m,\u001b[0m\u001b[0;34m\u001b[0m\u001b[0;34m\u001b[0m\u001b[0m\n\u001b[1;32m   1731\u001b[0m             \u001b[0mshuffle\u001b[0m\u001b[0;34m=\u001b[0m\u001b[0mshuffle\u001b[0m\u001b[0;34m,\u001b[0m\u001b[0;34m\u001b[0m\u001b[0;34m\u001b[0m\u001b[0m\n\u001b[0;32m-> 1732\u001b[0;31m             initial_epoch=initial_epoch)\n\u001b[0m\u001b[1;32m   1733\u001b[0m \u001b[0;34m\u001b[0m\u001b[0m\n\u001b[1;32m   1734\u001b[0m     \u001b[0;34m@\u001b[0m\u001b[0minterfaces\u001b[0m\u001b[0;34m.\u001b[0m\u001b[0mlegacy_generator_methods_support\u001b[0m\u001b[0;34m\u001b[0m\u001b[0;34m\u001b[0m\u001b[0m\n",
            "\u001b[0;32m/usr/local/lib/python3.6/dist-packages/keras/engine/training_generator.py\u001b[0m in \u001b[0;36mfit_generator\u001b[0;34m(model, generator, steps_per_epoch, epochs, verbose, callbacks, validation_data, validation_steps, validation_freq, class_weight, max_queue_size, workers, use_multiprocessing, shuffle, initial_epoch)\u001b[0m\n\u001b[1;32m    218\u001b[0m                                             \u001b[0msample_weight\u001b[0m\u001b[0;34m=\u001b[0m\u001b[0msample_weight\u001b[0m\u001b[0;34m,\u001b[0m\u001b[0;34m\u001b[0m\u001b[0;34m\u001b[0m\u001b[0m\n\u001b[1;32m    219\u001b[0m                                             \u001b[0mclass_weight\u001b[0m\u001b[0;34m=\u001b[0m\u001b[0mclass_weight\u001b[0m\u001b[0;34m,\u001b[0m\u001b[0;34m\u001b[0m\u001b[0;34m\u001b[0m\u001b[0m\n\u001b[0;32m--> 220\u001b[0;31m                                             reset_metrics=False)\n\u001b[0m\u001b[1;32m    221\u001b[0m \u001b[0;34m\u001b[0m\u001b[0m\n\u001b[1;32m    222\u001b[0m                 \u001b[0mouts\u001b[0m \u001b[0;34m=\u001b[0m \u001b[0mto_list\u001b[0m\u001b[0;34m(\u001b[0m\u001b[0mouts\u001b[0m\u001b[0;34m)\u001b[0m\u001b[0;34m\u001b[0m\u001b[0;34m\u001b[0m\u001b[0m\n",
            "\u001b[0;32m/usr/local/lib/python3.6/dist-packages/keras/engine/training.py\u001b[0m in \u001b[0;36mtrain_on_batch\u001b[0;34m(self, x, y, sample_weight, class_weight, reset_metrics)\u001b[0m\n\u001b[1;32m   1512\u001b[0m             \u001b[0mins\u001b[0m \u001b[0;34m=\u001b[0m \u001b[0mx\u001b[0m \u001b[0;34m+\u001b[0m \u001b[0my\u001b[0m \u001b[0;34m+\u001b[0m \u001b[0msample_weights\u001b[0m\u001b[0;34m\u001b[0m\u001b[0;34m\u001b[0m\u001b[0m\n\u001b[1;32m   1513\u001b[0m         \u001b[0mself\u001b[0m\u001b[0;34m.\u001b[0m\u001b[0m_make_train_function\u001b[0m\u001b[0;34m(\u001b[0m\u001b[0;34m)\u001b[0m\u001b[0;34m\u001b[0m\u001b[0;34m\u001b[0m\u001b[0m\n\u001b[0;32m-> 1514\u001b[0;31m         \u001b[0moutputs\u001b[0m \u001b[0;34m=\u001b[0m \u001b[0mself\u001b[0m\u001b[0;34m.\u001b[0m\u001b[0mtrain_function\u001b[0m\u001b[0;34m(\u001b[0m\u001b[0mins\u001b[0m\u001b[0;34m)\u001b[0m\u001b[0;34m\u001b[0m\u001b[0;34m\u001b[0m\u001b[0m\n\u001b[0m\u001b[1;32m   1515\u001b[0m \u001b[0;34m\u001b[0m\u001b[0m\n\u001b[1;32m   1516\u001b[0m         \u001b[0;32mif\u001b[0m \u001b[0mreset_metrics\u001b[0m\u001b[0;34m:\u001b[0m\u001b[0;34m\u001b[0m\u001b[0;34m\u001b[0m\u001b[0m\n",
            "\u001b[0;32m/usr/local/lib/python3.6/dist-packages/tensorflow/python/keras/backend.py\u001b[0m in \u001b[0;36m__call__\u001b[0;34m(self, inputs)\u001b[0m\n\u001b[1;32m   3790\u001b[0m         \u001b[0mvalue\u001b[0m \u001b[0;34m=\u001b[0m \u001b[0mmath_ops\u001b[0m\u001b[0;34m.\u001b[0m\u001b[0mcast\u001b[0m\u001b[0;34m(\u001b[0m\u001b[0mvalue\u001b[0m\u001b[0;34m,\u001b[0m \u001b[0mtensor\u001b[0m\u001b[0;34m.\u001b[0m\u001b[0mdtype\u001b[0m\u001b[0;34m)\u001b[0m\u001b[0;34m\u001b[0m\u001b[0;34m\u001b[0m\u001b[0m\n\u001b[1;32m   3791\u001b[0m       \u001b[0mconverted_inputs\u001b[0m\u001b[0;34m.\u001b[0m\u001b[0mappend\u001b[0m\u001b[0;34m(\u001b[0m\u001b[0mvalue\u001b[0m\u001b[0;34m)\u001b[0m\u001b[0;34m\u001b[0m\u001b[0;34m\u001b[0m\u001b[0m\n\u001b[0;32m-> 3792\u001b[0;31m     \u001b[0moutputs\u001b[0m \u001b[0;34m=\u001b[0m \u001b[0mself\u001b[0m\u001b[0;34m.\u001b[0m\u001b[0m_graph_fn\u001b[0m\u001b[0;34m(\u001b[0m\u001b[0;34m*\u001b[0m\u001b[0mconverted_inputs\u001b[0m\u001b[0;34m)\u001b[0m\u001b[0;34m\u001b[0m\u001b[0;34m\u001b[0m\u001b[0m\n\u001b[0m\u001b[1;32m   3793\u001b[0m \u001b[0;34m\u001b[0m\u001b[0m\n\u001b[1;32m   3794\u001b[0m     \u001b[0;31m# EagerTensor.numpy() will often make a copy to ensure memory safety.\u001b[0m\u001b[0;34m\u001b[0m\u001b[0;34m\u001b[0m\u001b[0;34m\u001b[0m\u001b[0m\n",
            "\u001b[0;32m/usr/local/lib/python3.6/dist-packages/tensorflow/python/eager/function.py\u001b[0m in \u001b[0;36m__call__\u001b[0;34m(self, *args, **kwargs)\u001b[0m\n\u001b[1;32m   1603\u001b[0m       \u001b[0mTypeError\u001b[0m\u001b[0;34m:\u001b[0m \u001b[0mFor\u001b[0m \u001b[0minvalid\u001b[0m \u001b[0mpositional\u001b[0m\u001b[0;34m/\u001b[0m\u001b[0mkeyword\u001b[0m \u001b[0margument\u001b[0m \u001b[0mcombinations\u001b[0m\u001b[0;34m.\u001b[0m\u001b[0;34m\u001b[0m\u001b[0;34m\u001b[0m\u001b[0m\n\u001b[1;32m   1604\u001b[0m     \"\"\"\n\u001b[0;32m-> 1605\u001b[0;31m     \u001b[0;32mreturn\u001b[0m \u001b[0mself\u001b[0m\u001b[0;34m.\u001b[0m\u001b[0m_call_impl\u001b[0m\u001b[0;34m(\u001b[0m\u001b[0margs\u001b[0m\u001b[0;34m,\u001b[0m \u001b[0mkwargs\u001b[0m\u001b[0;34m)\u001b[0m\u001b[0;34m\u001b[0m\u001b[0;34m\u001b[0m\u001b[0m\n\u001b[0m\u001b[1;32m   1606\u001b[0m \u001b[0;34m\u001b[0m\u001b[0m\n\u001b[1;32m   1607\u001b[0m   \u001b[0;32mdef\u001b[0m \u001b[0m_call_impl\u001b[0m\u001b[0;34m(\u001b[0m\u001b[0mself\u001b[0m\u001b[0;34m,\u001b[0m \u001b[0margs\u001b[0m\u001b[0;34m,\u001b[0m \u001b[0mkwargs\u001b[0m\u001b[0;34m,\u001b[0m \u001b[0mcancellation_manager\u001b[0m\u001b[0;34m=\u001b[0m\u001b[0;32mNone\u001b[0m\u001b[0;34m)\u001b[0m\u001b[0;34m:\u001b[0m\u001b[0;34m\u001b[0m\u001b[0;34m\u001b[0m\u001b[0m\n",
            "\u001b[0;32m/usr/local/lib/python3.6/dist-packages/tensorflow/python/eager/function.py\u001b[0m in \u001b[0;36m_call_impl\u001b[0;34m(self, args, kwargs, cancellation_manager)\u001b[0m\n\u001b[1;32m   1643\u001b[0m       raise TypeError(\"Keyword arguments {} unknown. Expected {}.\".format(\n\u001b[1;32m   1644\u001b[0m           list(kwargs.keys()), list(self._arg_keywords)))\n\u001b[0;32m-> 1645\u001b[0;31m     \u001b[0;32mreturn\u001b[0m \u001b[0mself\u001b[0m\u001b[0;34m.\u001b[0m\u001b[0m_call_flat\u001b[0m\u001b[0;34m(\u001b[0m\u001b[0margs\u001b[0m\u001b[0;34m,\u001b[0m \u001b[0mself\u001b[0m\u001b[0;34m.\u001b[0m\u001b[0mcaptured_inputs\u001b[0m\u001b[0;34m,\u001b[0m \u001b[0mcancellation_manager\u001b[0m\u001b[0;34m)\u001b[0m\u001b[0;34m\u001b[0m\u001b[0;34m\u001b[0m\u001b[0m\n\u001b[0m\u001b[1;32m   1646\u001b[0m \u001b[0;34m\u001b[0m\u001b[0m\n\u001b[1;32m   1647\u001b[0m   \u001b[0;32mdef\u001b[0m \u001b[0m_filtered_call\u001b[0m\u001b[0;34m(\u001b[0m\u001b[0mself\u001b[0m\u001b[0;34m,\u001b[0m \u001b[0margs\u001b[0m\u001b[0;34m,\u001b[0m \u001b[0mkwargs\u001b[0m\u001b[0;34m)\u001b[0m\u001b[0;34m:\u001b[0m\u001b[0;34m\u001b[0m\u001b[0;34m\u001b[0m\u001b[0m\n",
            "\u001b[0;32m/usr/local/lib/python3.6/dist-packages/tensorflow/python/eager/function.py\u001b[0m in \u001b[0;36m_call_flat\u001b[0;34m(self, args, captured_inputs, cancellation_manager)\u001b[0m\n\u001b[1;32m   1744\u001b[0m       \u001b[0;31m# No tape is watching; skip to running the function.\u001b[0m\u001b[0;34m\u001b[0m\u001b[0;34m\u001b[0m\u001b[0;34m\u001b[0m\u001b[0m\n\u001b[1;32m   1745\u001b[0m       return self._build_call_outputs(self._inference_function.call(\n\u001b[0;32m-> 1746\u001b[0;31m           ctx, args, cancellation_manager=cancellation_manager))\n\u001b[0m\u001b[1;32m   1747\u001b[0m     forward_backward = self._select_forward_and_backward_functions(\n\u001b[1;32m   1748\u001b[0m         \u001b[0margs\u001b[0m\u001b[0;34m,\u001b[0m\u001b[0;34m\u001b[0m\u001b[0;34m\u001b[0m\u001b[0m\n",
            "\u001b[0;32m/usr/local/lib/python3.6/dist-packages/tensorflow/python/eager/function.py\u001b[0m in \u001b[0;36mcall\u001b[0;34m(self, ctx, args, cancellation_manager)\u001b[0m\n\u001b[1;32m    596\u001b[0m               \u001b[0minputs\u001b[0m\u001b[0;34m=\u001b[0m\u001b[0margs\u001b[0m\u001b[0;34m,\u001b[0m\u001b[0;34m\u001b[0m\u001b[0;34m\u001b[0m\u001b[0m\n\u001b[1;32m    597\u001b[0m               \u001b[0mattrs\u001b[0m\u001b[0;34m=\u001b[0m\u001b[0mattrs\u001b[0m\u001b[0;34m,\u001b[0m\u001b[0;34m\u001b[0m\u001b[0;34m\u001b[0m\u001b[0m\n\u001b[0;32m--> 598\u001b[0;31m               ctx=ctx)\n\u001b[0m\u001b[1;32m    599\u001b[0m         \u001b[0;32melse\u001b[0m\u001b[0;34m:\u001b[0m\u001b[0;34m\u001b[0m\u001b[0;34m\u001b[0m\u001b[0m\n\u001b[1;32m    600\u001b[0m           outputs = execute.execute_with_cancellation(\n",
            "\u001b[0;32m/usr/local/lib/python3.6/dist-packages/tensorflow/python/eager/execute.py\u001b[0m in \u001b[0;36mquick_execute\u001b[0;34m(op_name, num_outputs, inputs, attrs, ctx, name)\u001b[0m\n\u001b[1;32m     58\u001b[0m     \u001b[0mctx\u001b[0m\u001b[0;34m.\u001b[0m\u001b[0mensure_initialized\u001b[0m\u001b[0;34m(\u001b[0m\u001b[0;34m)\u001b[0m\u001b[0;34m\u001b[0m\u001b[0;34m\u001b[0m\u001b[0m\n\u001b[1;32m     59\u001b[0m     tensors = pywrap_tfe.TFE_Py_Execute(ctx._handle, device_name, op_name,\n\u001b[0;32m---> 60\u001b[0;31m                                         inputs, attrs, num_outputs)\n\u001b[0m\u001b[1;32m     61\u001b[0m   \u001b[0;32mexcept\u001b[0m \u001b[0mcore\u001b[0m\u001b[0;34m.\u001b[0m\u001b[0m_NotOkStatusException\u001b[0m \u001b[0;32mas\u001b[0m \u001b[0me\u001b[0m\u001b[0;34m:\u001b[0m\u001b[0;34m\u001b[0m\u001b[0;34m\u001b[0m\u001b[0m\n\u001b[1;32m     62\u001b[0m     \u001b[0;32mif\u001b[0m \u001b[0mname\u001b[0m \u001b[0;32mis\u001b[0m \u001b[0;32mnot\u001b[0m \u001b[0;32mNone\u001b[0m\u001b[0;34m:\u001b[0m\u001b[0;34m\u001b[0m\u001b[0;34m\u001b[0m\u001b[0m\n",
            "\u001b[0;31mKeyboardInterrupt\u001b[0m: "
          ]
        }
      ]
    },
    {
      "cell_type": "code",
      "metadata": {
        "id": "GotcQLX6kpDT",
        "colab_type": "code",
        "colab": {}
      },
      "source": [
        ""
      ],
      "execution_count": 0,
      "outputs": []
    }
  ]
}